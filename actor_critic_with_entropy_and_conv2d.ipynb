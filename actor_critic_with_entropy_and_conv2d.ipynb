{
 "cells": [
  {
   "cell_type": "code",
   "execution_count": 1,
   "id": "6776193b-3c22-4969-825e-8c81da6b3de9",
   "metadata": {},
   "outputs": [
    {
     "name": "stderr",
     "output_type": "stream",
     "text": [
      "2024-05-10 01:09:39.885179: I tensorflow/core/util/port.cc:113] oneDNN custom operations are on. You may see slightly different numerical results due to floating-point round-off errors from different computation orders. To turn them off, set the environment variable `TF_ENABLE_ONEDNN_OPTS=0`.\n",
      "2024-05-10 01:09:39.909101: E external/local_xla/xla/stream_executor/cuda/cuda_dnn.cc:9261] Unable to register cuDNN factory: Attempting to register factory for plugin cuDNN when one has already been registered\n",
      "2024-05-10 01:09:39.909120: E external/local_xla/xla/stream_executor/cuda/cuda_fft.cc:607] Unable to register cuFFT factory: Attempting to register factory for plugin cuFFT when one has already been registered\n",
      "2024-05-10 01:09:39.909712: E external/local_xla/xla/stream_executor/cuda/cuda_blas.cc:1515] Unable to register cuBLAS factory: Attempting to register factory for plugin cuBLAS when one has already been registered\n",
      "2024-05-10 01:09:39.914068: I tensorflow/core/platform/cpu_feature_guard.cc:182] This TensorFlow binary is optimized to use available CPU instructions in performance-critical operations.\n",
      "To enable the following instructions: AVX2 AVX_VNNI FMA, in other operations, rebuild TensorFlow with the appropriate compiler flags.\n",
      "2024-05-10 01:09:40.379090: W tensorflow/compiler/tf2tensorrt/utils/py_utils.cc:38] TF-TRT Warning: Could not find TensorRT\n",
      "A.L.E: Arcade Learning Environment (version 0.8.1+53f58b7)\n",
      "[Powered by Stella]\n"
     ]
    }
   ],
   "source": [
    "\n",
    "import gym\n",
    "from gym import ObservationWrapper\n",
    "from gym.spaces import Box\n",
    "import tensorflow as tf\n",
    "import numpy as np\n",
    "import statistics\n",
    "from datetime import datetime\n",
    "from tensorflow.keras import Model, layers\n",
    "from tensorflow.keras.layers import Flatten, Dense\n",
    "import collections\n",
    "import tqdm\n",
    "import matplotlib.pyplot as plt\n",
    "\n",
    "env = gym.make(\"ALE/SpaceInvaders-v5\", obs_type=\"ram\", render_mode='rgb_array')\n",
    "#env = gym.make(\"BreakoutNoFrameskip-v4\", )\n",
    "folder = \"videos/\" + str(datetime.now().time()).replace(\":\",\"_\")\n",
    "env = gym.wrappers.RecordVideo(env=env, video_folder=folder, name_prefix=\"SpaceInvaders\", episode_trigger=lambda x: x % 100 == 0)\n",
    "\n",
    "seed = 21\n",
    "tf.random.set_seed(seed)\n",
    "np.random.seed(seed)\n",
    "\n",
    "class BytesToBits(ObservationWrapper):\n",
    "    def __init__(self, env):\n",
    "        super().__init__(env)\n",
    "        self.observation_space = Box(low=0, high=1, shape=(1024,), dtype=np.uint8)\n",
    "\n",
    "    def observation(self, obs):\n",
    "        return np.unpackbits(obs)\n",
    "    \n",
    "env = BytesToBits(env)\n",
    "eps = np.finfo(np.float32).eps.item()"
   ]
  },
  {
   "cell_type": "code",
   "execution_count": 2,
   "id": "bda9460e-9104-4486-a8e1-e990440a0084",
   "metadata": {},
   "outputs": [],
   "source": [
    "class ActorCritic(tf.keras.Model):\n",
    "  \"\"\"Combined actor-critic network.\"\"\"\n",
    "\n",
    "  def __init__(\n",
    "      self,\n",
    "      num_actions: int,\n",
    "      num_hidden_units: int):\n",
    "    \"\"\"Initialize.\"\"\"\n",
    "    super().__init__()\n",
    "\n",
    "    self.conv1 = layers.Conv2D(32, (3, 3), activation='relu')\n",
    "    self.batchnorm = layers.BatchNormalization(axis = -1)\n",
    "    #self.pool = layers.MaxPooling2D((2, 2))\n",
    "                                    \n",
    "    self.flatten = layers.Flatten()\n",
    "    self.common = layers.Dense(num_hidden_units, activation=\"relu\")\n",
    "    #self.drop = layers.Dropout(0.4)\n",
    "    self.actor = layers.Dense(num_actions)\n",
    "    self.critic = layers.Dense(1)\n",
    "\n",
    "  def call(self, inputs: tf.Tensor):\n",
    "    x = self.conv1(inputs)\n",
    "    x = self.batchnorm(x)\n",
    "    #x = self.pool(x)\n",
    "    x = self.flatten(x)\n",
    "    x = self.common(x)\n",
    "    return self.actor(x), self.critic(x)"
   ]
  },
  {
   "cell_type": "code",
   "execution_count": 3,
   "id": "75257e8c-8bf9-4721-9b5f-a4c355fea382",
   "metadata": {},
   "outputs": [
    {
     "name": "stderr",
     "output_type": "stream",
     "text": [
      "2024-05-10 01:09:41.456465: I external/local_xla/xla/stream_executor/cuda/cuda_executor.cc:887] could not open file to read NUMA node: /sys/bus/pci/devices/0000:01:00.0/numa_node\n",
      "Your kernel may have been built without NUMA support.\n",
      "2024-05-10 01:09:41.481009: I external/local_xla/xla/stream_executor/cuda/cuda_executor.cc:887] could not open file to read NUMA node: /sys/bus/pci/devices/0000:01:00.0/numa_node\n",
      "Your kernel may have been built without NUMA support.\n",
      "2024-05-10 01:09:41.481043: I external/local_xla/xla/stream_executor/cuda/cuda_executor.cc:887] could not open file to read NUMA node: /sys/bus/pci/devices/0000:01:00.0/numa_node\n",
      "Your kernel may have been built without NUMA support.\n",
      "2024-05-10 01:09:41.485146: I external/local_xla/xla/stream_executor/cuda/cuda_executor.cc:887] could not open file to read NUMA node: /sys/bus/pci/devices/0000:01:00.0/numa_node\n",
      "Your kernel may have been built without NUMA support.\n",
      "2024-05-10 01:09:41.485196: I external/local_xla/xla/stream_executor/cuda/cuda_executor.cc:887] could not open file to read NUMA node: /sys/bus/pci/devices/0000:01:00.0/numa_node\n",
      "Your kernel may have been built without NUMA support.\n",
      "2024-05-10 01:09:41.485210: I external/local_xla/xla/stream_executor/cuda/cuda_executor.cc:887] could not open file to read NUMA node: /sys/bus/pci/devices/0000:01:00.0/numa_node\n",
      "Your kernel may have been built without NUMA support.\n",
      "2024-05-10 01:09:41.603073: I external/local_xla/xla/stream_executor/cuda/cuda_executor.cc:887] could not open file to read NUMA node: /sys/bus/pci/devices/0000:01:00.0/numa_node\n",
      "Your kernel may have been built without NUMA support.\n",
      "2024-05-10 01:09:41.603120: I external/local_xla/xla/stream_executor/cuda/cuda_executor.cc:887] could not open file to read NUMA node: /sys/bus/pci/devices/0000:01:00.0/numa_node\n",
      "Your kernel may have been built without NUMA support.\n",
      "2024-05-10 01:09:41.603126: I tensorflow/core/common_runtime/gpu/gpu_device.cc:2022] Could not identify NUMA node of platform GPU id 0, defaulting to 0.  Your kernel may not have been built with NUMA support.\n",
      "2024-05-10 01:09:41.603149: I external/local_xla/xla/stream_executor/cuda/cuda_executor.cc:887] could not open file to read NUMA node: /sys/bus/pci/devices/0000:01:00.0/numa_node\n",
      "Your kernel may have been built without NUMA support.\n",
      "2024-05-10 01:09:41.603163: I tensorflow/core/common_runtime/gpu/gpu_device.cc:1929] Created device /job:localhost/replica:0/task:0/device:GPU:0 with 9711 MB memory:  -> device: 0, name: NVIDIA GeForce RTX 3060, pci bus id: 0000:01:00.0, compute capability: 8.6\n"
     ]
    }
   ],
   "source": [
    "num_actions = env.action_space.n\n",
    "num_hidden_units = 1024\n",
    "\n",
    "model = ActorCritic(num_actions, num_hidden_units)"
   ]
  },
  {
   "cell_type": "code",
   "execution_count": 4,
   "id": "78c2c6bd-3c90-47bd-942d-3d4ff4433726",
   "metadata": {},
   "outputs": [],
   "source": [
    "@tf.numpy_function(Tout=[tf.float32, tf.int32, tf.int32])\n",
    "def env_step(action: np.ndarray):\n",
    "  \"\"\"Returns state, reward and done flag given an action.\"\"\"\n",
    "\n",
    "  state, reward, done, truncated, info = env.step(action)\n",
    "  return (state.astype(np.float32),\n",
    "          np.array(reward, np.int32),\n",
    "          np.array(done, np.int32))"
   ]
  },
  {
   "cell_type": "code",
   "execution_count": 5,
   "id": "081c30b2-31ef-4e2d-b39f-ec5bd837c6ae",
   "metadata": {},
   "outputs": [],
   "source": [
    "def run_episode(\n",
    "    initial_state: tf.Tensor,\n",
    "    model: tf.keras.Model,\n",
    "    max_steps: int):\n",
    "    \"\"\"Runs a single episode to collect training data.\"\"\"\n",
    "    \n",
    "    action_probs = tf.TensorArray(dtype=tf.float32, size=0, dynamic_size=True)\n",
    "    values = tf.TensorArray(dtype=tf.float32, size=0, dynamic_size=True)\n",
    "    rewards = tf.TensorArray(dtype=tf.int32, size=0, dynamic_size=True)\n",
    "    \n",
    "    initial_state_shape = initial_state.shape\n",
    "    state = initial_state\n",
    "    \n",
    "    \n",
    "    for t in tf.range(max_steps):\n",
    "        # Convert state into a batched tensor (batch size = 1)\n",
    "        state = tf.expand_dims(state, 0)\n",
    "        \n",
    "        # Run the model and to get action probabilities and critic value\n",
    "        action_logits_t, value = model(state)\n",
    "        #action_logits_t = tf.squeeze(action_logits_t)\n",
    "        # Sample next action from the action probability distribution\n",
    "        action = tf.random.categorical(action_logits_t, 1)[0, 0]\n",
    "        action_probs_t = tf.nn.softmax(action_logits_t)\n",
    "        \n",
    "        # Store critic values\n",
    "        values = values.write(t, tf.squeeze(value))\n",
    "        \n",
    "        # Store log probability of the action chosen\n",
    "        action_probs = action_probs.write(t, action_probs_t[0, action])\n",
    "        \n",
    "        # Apply action to the environment to get next state and reward\n",
    "        if np.random.random()<0.9:\n",
    "          state, reward, done = env_step(action)\n",
    "          state.set_shape(initial_state_shape)\n",
    "        else:\n",
    "          action=env.action_space\n",
    "          action=np.random.choice(action)\n",
    "          state, reward, done = env_step(action)\n",
    "          state.set_shape(initial_state_shape)\n",
    "          \n",
    "          \n",
    "        # Store reward\n",
    "        rewards = rewards.write(t, reward)\n",
    "        \n",
    "        if tf.cast(done, tf.bool):\n",
    "          break\n",
    "    \n",
    "    action_probs = action_probs.stack()\n",
    "    values = values.stack()\n",
    "    rewards = rewards.stack()\n",
    "    \n",
    "    return action_probs, values, rewards"
   ]
  },
  {
   "cell_type": "code",
   "execution_count": 6,
   "id": "f3edfd51-9e78-48bd-9d22-10430e50f107",
   "metadata": {},
   "outputs": [],
   "source": [
    "def get_expected_return(\n",
    "    rewards: tf.Tensor,\n",
    "    gamma: float,\n",
    "    standardize: bool = True):\n",
    "  \"\"\"Compute expected returns per timestep.\"\"\"\n",
    "\n",
    "  n = tf.shape(rewards)[0]\n",
    "  returns = tf.TensorArray(dtype=tf.float32, size=n)\n",
    "\n",
    "  # Start from the end of `rewards` and accumulate reward sums\n",
    "  # into the `returns` array\n",
    "  rewards = tf.cast(rewards[::-1], dtype=tf.float32)\n",
    "  discounted_sum = tf.constant(0.0)\n",
    "  discounted_sum_shape = discounted_sum.shape\n",
    "  for i in tf.range(n):\n",
    "    reward = rewards[i]\n",
    "    discounted_sum = reward + gamma * discounted_sum\n",
    "    discounted_sum.set_shape(discounted_sum_shape)\n",
    "    returns = returns.write(i, discounted_sum)\n",
    "  returns = returns.stack()[::-1]\n",
    "\n",
    "  if standardize:\n",
    "    returns = ((returns - tf.math.reduce_mean(returns)) /\n",
    "               (tf.math.reduce_std(returns) + eps))\n",
    "\n",
    "  return returns"
   ]
  },
  {
   "cell_type": "code",
   "execution_count": 7,
   "id": "c0824092",
   "metadata": {},
   "outputs": [],
   "source": [
    "def compute_entropy(action_probs):\n",
    "    return -tf.reduce_sum(action_probs * tf.math.log(action_probs + 1e-9), axis=-1)"
   ]
  },
  {
   "cell_type": "code",
   "execution_count": 8,
   "id": "1bb60ca7-0708-4a02-802f-b0b17b569939",
   "metadata": {},
   "outputs": [],
   "source": [
    "huber_loss = tf.keras.losses.Huber(reduction=tf.keras.losses.Reduction.SUM)\n",
    "\n",
    "def compute_loss(\n",
    "    action_probs: tf.Tensor,\n",
    "    values: tf.Tensor,\n",
    "    returns: tf.Tensor,\n",
    "    entropy_bonus=0.5) -> tf.Tensor:\n",
    "  \"\"\"Computes the combined Actor-Critic loss.\"\"\"\n",
    "\n",
    "  advantage = returns - values\n",
    "\n",
    "  action_log_probs = tf.math.log(action_probs)\n",
    "  actor_loss = -tf.math.reduce_sum(action_log_probs * advantage)\n",
    "\n",
    "  critic_loss = huber_loss(values, returns)\n",
    "  \n",
    "  # Compute the entropy bonus\n",
    "  entropy = compute_entropy(action_probs)\n",
    "  entropy_bonus = entropy_bonus * entropy\n",
    "\n",
    "  return actor_loss + critic_loss - entropy_bonus"
   ]
  },
  {
   "cell_type": "code",
   "execution_count": 9,
   "id": "30efa1c5-64c8-41b0-89e3-9343108a2a90",
   "metadata": {},
   "outputs": [],
   "source": [
    "optimizer = tf.keras.optimizers.Adam(learning_rate=0.0001)\n",
    "\n",
    "@tf.function\n",
    "def train_step(\n",
    "    initial_state: tf.Tensor,\n",
    "    model: tf.keras.Model,\n",
    "    optimizer: tf.keras.optimizers.Optimizer,\n",
    "    gamma: float,\n",
    "    max_steps_per_episode: int) -> tf.Tensor:\n",
    "  \"\"\"Runs a model training step.\"\"\"\n",
    "\n",
    "  with tf.GradientTape() as tape:\n",
    "\n",
    "    # Run the model for one episode to collect training data\n",
    "    action_probs, values, rewards = run_episode(\n",
    "        initial_state, model, max_steps_per_episode)\n",
    "\n",
    "    # Calculate the expected returns\n",
    "    returns = get_expected_return(rewards, gamma)\n",
    "\n",
    "    # Convert training data to appropriate TF tensor shapes\n",
    "    action_probs, values, returns = [\n",
    "        tf.expand_dims(x, 1) for x in [action_probs, values, returns]]\n",
    "\n",
    "    # Calculate the loss values to update our network\n",
    "    loss = compute_loss(action_probs, values, returns)\n",
    "\n",
    "  # Compute the gradients from the loss\n",
    "  grads = tape.gradient(loss, model.trainable_variables)\n",
    "\n",
    "  # Apply the gradients to the model's parameters\n",
    "  optimizer.apply_gradients(zip(grads, model.trainable_variables))\n",
    "\n",
    "  episode_reward = tf.math.reduce_sum(rewards)\n",
    "\n",
    "  return episode_reward"
   ]
  },
  {
   "cell_type": "code",
   "execution_count": 42,
   "id": "5a20d4b0",
   "metadata": {},
   "outputs": [
    {
     "name": "stdout",
     "output_type": "stream",
     "text": [
      "Moviepy - Building video /mnt/c/Users/Rwitobaan/Desktop/code/Reinforcement_project/Reinforcement_learning_project/videos/01_09_41.276997/SpaceInvaders-episode-10600.mp4.\n",
      "Moviepy - Writing video /mnt/c/Users/Rwitobaan/Desktop/code/Reinforcement_project/Reinforcement_learning_project/videos/01_09_41.276997/SpaceInvaders-episode-10600.mp4\n",
      "\n"
     ]
    },
    {
     "name": "stderr",
     "output_type": "stream",
     "text": [
      "                                                                "
     ]
    },
    {
     "name": "stdout",
     "output_type": "stream",
     "text": [
      "Moviepy - Done !\n",
      "Moviepy - video ready /mnt/c/Users/Rwitobaan/Desktop/code/Reinforcement_project/Reinforcement_learning_project/videos/01_09_41.276997/SpaceInvaders-episode-10600.mp4\n"
     ]
    },
    {
     "name": "stderr",
     "output_type": "stream",
     "text": [
      "\r"
     ]
    },
    {
     "name": "stdout",
     "output_type": "stream",
     "text": [
      "Moviepy - Building video /mnt/c/Users/Rwitobaan/Desktop/code/Reinforcement_project/Reinforcement_learning_project/videos/01_09_41.276997/SpaceInvaders-episode-10700.mp4.\n",
      "Moviepy - Writing video /mnt/c/Users/Rwitobaan/Desktop/code/Reinforcement_project/Reinforcement_learning_project/videos/01_09_41.276997/SpaceInvaders-episode-10700.mp4\n",
      "\n"
     ]
    },
    {
     "name": "stderr",
     "output_type": "stream",
     "text": [
      "                                                    "
     ]
    },
    {
     "name": "stdout",
     "output_type": "stream",
     "text": [
      "Moviepy - Done !\n",
      "Moviepy - video ready /mnt/c/Users/Rwitobaan/Desktop/code/Reinforcement_project/Reinforcement_learning_project/videos/01_09_41.276997/SpaceInvaders-episode-10700.mp4\n"
     ]
    },
    {
     "name": "stderr",
     "output_type": "stream",
     "text": [
      "\r"
     ]
    },
    {
     "name": "stdout",
     "output_type": "stream",
     "text": [
      "Moviepy - Building video /mnt/c/Users/Rwitobaan/Desktop/code/Reinforcement_project/Reinforcement_learning_project/videos/01_09_41.276997/SpaceInvaders-episode-10800.mp4.\n",
      "Moviepy - Writing video /mnt/c/Users/Rwitobaan/Desktop/code/Reinforcement_project/Reinforcement_learning_project/videos/01_09_41.276997/SpaceInvaders-episode-10800.mp4\n",
      "\n"
     ]
    },
    {
     "name": "stderr",
     "output_type": "stream",
     "text": [
      "                                                                "
     ]
    },
    {
     "name": "stdout",
     "output_type": "stream",
     "text": [
      "Moviepy - Done !\n",
      "Moviepy - video ready /mnt/c/Users/Rwitobaan/Desktop/code/Reinforcement_project/Reinforcement_learning_project/videos/01_09_41.276997/SpaceInvaders-episode-10800.mp4\n"
     ]
    },
    {
     "name": "stderr",
     "output_type": "stream",
     "text": [
      "\r"
     ]
    },
    {
     "name": "stdout",
     "output_type": "stream",
     "text": [
      "Moviepy - Building video /mnt/c/Users/Rwitobaan/Desktop/code/Reinforcement_project/Reinforcement_learning_project/videos/01_09_41.276997/SpaceInvaders-episode-10900.mp4.\n",
      "Moviepy - Writing video /mnt/c/Users/Rwitobaan/Desktop/code/Reinforcement_project/Reinforcement_learning_project/videos/01_09_41.276997/SpaceInvaders-episode-10900.mp4\n",
      "\n"
     ]
    },
    {
     "name": "stderr",
     "output_type": "stream",
     "text": [
      "                                                                "
     ]
    },
    {
     "name": "stdout",
     "output_type": "stream",
     "text": [
      "Moviepy - Done !\n",
      "Moviepy - video ready /mnt/c/Users/Rwitobaan/Desktop/code/Reinforcement_project/Reinforcement_learning_project/videos/01_09_41.276997/SpaceInvaders-episode-10900.mp4\n"
     ]
    },
    {
     "name": "stderr",
     "output_type": "stream",
     "text": [
      "\r"
     ]
    },
    {
     "name": "stdout",
     "output_type": "stream",
     "text": [
      "Moviepy - Building video /mnt/c/Users/Rwitobaan/Desktop/code/Reinforcement_project/Reinforcement_learning_project/videos/01_09_41.276997/SpaceInvaders-episode-11000.mp4.\n",
      "Moviepy - Writing video /mnt/c/Users/Rwitobaan/Desktop/code/Reinforcement_project/Reinforcement_learning_project/videos/01_09_41.276997/SpaceInvaders-episode-11000.mp4\n",
      "\n"
     ]
    },
    {
     "name": "stderr",
     "output_type": "stream",
     "text": [
      "                                                                "
     ]
    },
    {
     "name": "stdout",
     "output_type": "stream",
     "text": [
      "Moviepy - Done !\n",
      "Moviepy - video ready /mnt/c/Users/Rwitobaan/Desktop/code/Reinforcement_project/Reinforcement_learning_project/videos/01_09_41.276997/SpaceInvaders-episode-11000.mp4\n"
     ]
    },
    {
     "name": "stderr",
     "output_type": "stream",
     "text": [
      "\r"
     ]
    },
    {
     "name": "stdout",
     "output_type": "stream",
     "text": [
      "Moviepy - Building video /mnt/c/Users/Rwitobaan/Desktop/code/Reinforcement_project/Reinforcement_learning_project/videos/01_09_41.276997/SpaceInvaders-episode-11100.mp4.\n",
      "Moviepy - Writing video /mnt/c/Users/Rwitobaan/Desktop/code/Reinforcement_project/Reinforcement_learning_project/videos/01_09_41.276997/SpaceInvaders-episode-11100.mp4\n",
      "\n"
     ]
    },
    {
     "name": "stderr",
     "output_type": "stream",
     "text": [
      "                                                    "
     ]
    },
    {
     "name": "stdout",
     "output_type": "stream",
     "text": [
      "Moviepy - Done !\n",
      "Moviepy - video ready /mnt/c/Users/Rwitobaan/Desktop/code/Reinforcement_project/Reinforcement_learning_project/videos/01_09_41.276997/SpaceInvaders-episode-11100.mp4\n"
     ]
    },
    {
     "name": "stderr",
     "output_type": "stream",
     "text": [
      "\r"
     ]
    },
    {
     "data": {
      "text/plain": [
       "145.4"
      ]
     },
     "execution_count": 42,
     "metadata": {},
     "output_type": "execute_result"
    },
    {
     "data": {
      "image/png": "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",
      "text/plain": [
       "<Figure size 640x480 with 1 Axes>"
      ]
     },
     "metadata": {},
     "output_type": "display_data"
    }
   ],
   "source": [
    "max_episodes = 600\n",
    "\n",
    "\n",
    "# Implementation of a random agent\n",
    "\n",
    "episodes_reward = np.zeros(max_episodes)\n",
    "for i in range(max_episodes):\n",
    "    state = env.reset()\n",
    "    done = False\n",
    "    while done == False:\n",
    "        action = env.action_space.sample()\n",
    "        state, reward, done, truncated, info = env.step(action)\n",
    "        episodes_reward[i] += reward\n",
    "        \n",
    "plt.plot(episodes_reward)\n",
    "np.mean(episodes_reward)"
   ]
  },
  {
   "cell_type": "code",
   "execution_count": 10,
   "id": "50abbfef-b4e7-4920-a7db-9e54700a65c7",
   "metadata": {},
   "outputs": [
    {
     "name": "stderr",
     "output_type": "stream",
     "text": [
      "  0%|          | 0/10000 [00:00<?, ?it/s]/usr/local/lib/python3.10/dist-packages/gym/utils/passive_env_checker.py:289: UserWarning: \u001b[33mWARN: No render fps was declared in the environment (env.metadata['render_fps'] is None or not defined), rendering may occur at inconsistent fps.\u001b[0m\n",
      "  logger.warn(\n",
      "2024-05-10 01:09:44.475314: I external/local_xla/xla/stream_executor/cuda/cuda_dnn.cc:454] Loaded cuDNN version 8902\n",
      "/usr/local/lib/python3.10/dist-packages/gym/utils/passive_env_checker.py:233: DeprecationWarning: `np.bool8` is a deprecated alias for `np.bool_`.  (Deprecated NumPy 1.24)\n",
      "  if not isinstance(terminated, (bool, np.bool8)):\n",
      "  0%|          | 0/10000 [00:02<?, ?it/s]"
     ]
    },
    {
     "name": "stdout",
     "output_type": "stream",
     "text": [
      "Moviepy - Building video /mnt/c/Users/Rwitobaan/Desktop/code/Reinforcement_project/Reinforcement_learning_project/videos/01_09_41.276997/SpaceInvaders-episode-0.mp4.\n",
      "Moviepy - Writing video /mnt/c/Users/Rwitobaan/Desktop/code/Reinforcement_project/Reinforcement_learning_project/videos/01_09_41.276997/SpaceInvaders-episode-0.mp4\n",
      "\n"
     ]
    },
    {
     "name": "stderr",
     "output_type": "stream",
     "text": [
      "  0%|          | 0/10000 [00:02<?, ?it/s]"
     ]
    },
    {
     "name": "stdout",
     "output_type": "stream",
     "text": [
      "Moviepy - Done !\n",
      "Moviepy - video ready /mnt/c/Users/Rwitobaan/Desktop/code/Reinforcement_project/Reinforcement_learning_project/videos/01_09_41.276997/SpaceInvaders-episode-0.mp4\n"
     ]
    },
    {
     "name": "stderr",
     "output_type": "stream",
     "text": [
      "2024-05-10 01:09:48.293887: I external/local_xla/xla/service/service.cc:168] XLA service 0x7fec2c169d00 initialized for platform CUDA (this does not guarantee that XLA will be used). Devices:\n",
      "2024-05-10 01:09:48.293914: I external/local_xla/xla/service/service.cc:176]   StreamExecutor device (0): NVIDIA GeForce RTX 3060, Compute Capability 8.6\n",
      "2024-05-10 01:09:48.298578: I tensorflow/compiler/mlir/tensorflow/utils/dump_mlir_util.cc:269] disabling MLIR crash reproducer, set env var `MLIR_CRASH_REPRODUCER_DIRECTORY` to enable.\n",
      "WARNING: All log messages before absl::InitializeLog() is called are written to STDERR\n",
      "I0000 00:00:1715299788.366042   18893 device_compiler.h:186] Compiled cluster using XLA!  This line is logged at most once for the lifetime of the process.\n",
      "  0%|          | 1/10000 [00:05<15:20:01,  5.52s/it, episode_reward=180, running_reward=180]"
     ]
    },
    {
     "name": "stdout",
     "output_type": "stream",
     "text": [
      "Episode 0: average reward: 180\n"
     ]
    },
    {
     "name": "stderr",
     "output_type": "stream",
     "text": [
      "  1%|          | 51/10000 [02:17<5:23:07,  1.95s/it, episode_reward=15, running_reward=224] "
     ]
    },
    {
     "name": "stdout",
     "output_type": "stream",
     "text": [
      "Episode 50: average reward: 223.92156862745097\n"
     ]
    },
    {
     "name": "stderr",
     "output_type": "stream",
     "text": [
      "  1%|          | 100/10000 [04:05<8:03:40,  2.93s/it, episode_reward=700, running_reward=201]"
     ]
    },
    {
     "name": "stdout",
     "output_type": "stream",
     "text": [
      "Moviepy - Building video /mnt/c/Users/Rwitobaan/Desktop/code/Reinforcement_project/Reinforcement_learning_project/videos/01_09_41.276997/SpaceInvaders-episode-100.mp4.\n",
      "Moviepy - Writing video /mnt/c/Users/Rwitobaan/Desktop/code/Reinforcement_project/Reinforcement_learning_project/videos/01_09_41.276997/SpaceInvaders-episode-100.mp4\n",
      "\n"
     ]
    },
    {
     "name": "stderr",
     "output_type": "stream",
     "text": [
      "  1%|          | 100/10000 [04:06<8:03:40,  2.93s/it, episode_reward=700, running_reward=201]"
     ]
    },
    {
     "name": "stdout",
     "output_type": "stream",
     "text": [
      "Moviepy - Done !\n",
      "Moviepy - video ready /mnt/c/Users/Rwitobaan/Desktop/code/Reinforcement_project/Reinforcement_learning_project/videos/01_09_41.276997/SpaceInvaders-episode-100.mp4\n"
     ]
    },
    {
     "name": "stderr",
     "output_type": "stream",
     "text": [
      "  1%|          | 101/10000 [04:07<8:33:08,  3.11s/it, episode_reward=320, running_reward=202]"
     ]
    },
    {
     "name": "stdout",
     "output_type": "stream",
     "text": [
      "Episode 100: average reward: 201.93069306930693\n"
     ]
    },
    {
     "name": "stderr",
     "output_type": "stream",
     "text": [
      "  2%|▏         | 151/10000 [06:04<6:39:30,  2.43s/it, episode_reward=65, running_reward=202] "
     ]
    },
    {
     "name": "stdout",
     "output_type": "stream",
     "text": [
      "Episode 150: average reward: 201.72185430463577\n"
     ]
    },
    {
     "name": "stderr",
     "output_type": "stream",
     "text": [
      "  2%|▏         | 200/10000 [07:57<6:59:33,  2.57s/it, episode_reward=275, running_reward=197]"
     ]
    },
    {
     "name": "stdout",
     "output_type": "stream",
     "text": [
      "Moviepy - Building video /mnt/c/Users/Rwitobaan/Desktop/code/Reinforcement_project/Reinforcement_learning_project/videos/01_09_41.276997/SpaceInvaders-episode-200.mp4.\n",
      "Moviepy - Writing video /mnt/c/Users/Rwitobaan/Desktop/code/Reinforcement_project/Reinforcement_learning_project/videos/01_09_41.276997/SpaceInvaders-episode-200.mp4\n",
      "\n"
     ]
    },
    {
     "name": "stderr",
     "output_type": "stream",
     "text": [
      "  2%|▏         | 200/10000 [07:57<6:59:33,  2.57s/it, episode_reward=275, running_reward=197]"
     ]
    },
    {
     "name": "stdout",
     "output_type": "stream",
     "text": [
      "Moviepy - Done !\n",
      "Moviepy - video ready /mnt/c/Users/Rwitobaan/Desktop/code/Reinforcement_project/Reinforcement_learning_project/videos/01_09_41.276997/SpaceInvaders-episode-200.mp4\n"
     ]
    },
    {
     "name": "stderr",
     "output_type": "stream",
     "text": [
      "  2%|▏         | 201/10000 [07:59<7:19:48,  2.69s/it, episode_reward=240, running_reward=197]"
     ]
    },
    {
     "name": "stdout",
     "output_type": "stream",
     "text": [
      "Episode 200: average reward: 196.74129353233832\n"
     ]
    },
    {
     "name": "stderr",
     "output_type": "stream",
     "text": [
      "  3%|▎         | 251/10000 [10:08<5:49:31,  2.15s/it, episode_reward=35, running_reward=206] "
     ]
    },
    {
     "name": "stdout",
     "output_type": "stream",
     "text": [
      "Episode 250: average reward: 205.83665338645417\n"
     ]
    },
    {
     "name": "stderr",
     "output_type": "stream",
     "text": [
      "  3%|▎         | 300/10000 [12:13<6:12:27,  2.30s/it, episode_reward=210, running_reward=208]"
     ]
    },
    {
     "name": "stdout",
     "output_type": "stream",
     "text": [
      "Moviepy - Building video /mnt/c/Users/Rwitobaan/Desktop/code/Reinforcement_project/Reinforcement_learning_project/videos/01_09_41.276997/SpaceInvaders-episode-300.mp4.\n",
      "Moviepy - Writing video /mnt/c/Users/Rwitobaan/Desktop/code/Reinforcement_project/Reinforcement_learning_project/videos/01_09_41.276997/SpaceInvaders-episode-300.mp4\n",
      "\n"
     ]
    },
    {
     "name": "stderr",
     "output_type": "stream",
     "text": [
      "  3%|▎         | 300/10000 [12:13<6:12:27,  2.30s/it, episode_reward=210, running_reward=208]"
     ]
    },
    {
     "name": "stdout",
     "output_type": "stream",
     "text": [
      "Moviepy - Done !\n",
      "Moviepy - video ready /mnt/c/Users/Rwitobaan/Desktop/code/Reinforcement_project/Reinforcement_learning_project/videos/01_09_41.276997/SpaceInvaders-episode-300.mp4\n"
     ]
    },
    {
     "name": "stderr",
     "output_type": "stream",
     "text": [
      "  3%|▎         | 301/10000 [12:14<5:59:58,  2.23s/it, episode_reward=105, running_reward=208]"
     ]
    },
    {
     "name": "stdout",
     "output_type": "stream",
     "text": [
      "Episode 300: average reward: 208.0730897009967\n"
     ]
    },
    {
     "name": "stderr",
     "output_type": "stream",
     "text": [
      "  4%|▎         | 351/10000 [14:34<8:41:14,  3.24s/it, episode_reward=390, running_reward=216]"
     ]
    },
    {
     "name": "stdout",
     "output_type": "stream",
     "text": [
      "Episode 350: average reward: 215.82621082621083\n"
     ]
    },
    {
     "name": "stderr",
     "output_type": "stream",
     "text": [
      "  4%|▍         | 400/10000 [16:47<6:42:47,  2.52s/it, episode_reward=210, running_reward=218]"
     ]
    },
    {
     "name": "stdout",
     "output_type": "stream",
     "text": [
      "Moviepy - Building video /mnt/c/Users/Rwitobaan/Desktop/code/Reinforcement_project/Reinforcement_learning_project/videos/01_09_41.276997/SpaceInvaders-episode-400.mp4.\n",
      "Moviepy - Writing video /mnt/c/Users/Rwitobaan/Desktop/code/Reinforcement_project/Reinforcement_learning_project/videos/01_09_41.276997/SpaceInvaders-episode-400.mp4\n",
      "\n"
     ]
    },
    {
     "name": "stderr",
     "output_type": "stream",
     "text": [
      "  4%|▍         | 400/10000 [16:47<6:42:47,  2.52s/it, episode_reward=210, running_reward=218]"
     ]
    },
    {
     "name": "stdout",
     "output_type": "stream",
     "text": [
      "Moviepy - Done !\n",
      "Moviepy - video ready /mnt/c/Users/Rwitobaan/Desktop/code/Reinforcement_project/Reinforcement_learning_project/videos/01_09_41.276997/SpaceInvaders-episode-400.mp4\n"
     ]
    },
    {
     "name": "stderr",
     "output_type": "stream",
     "text": [
      "  4%|▍         | 401/10000 [16:49<6:41:52,  2.51s/it, episode_reward=305, running_reward=219]"
     ]
    },
    {
     "name": "stdout",
     "output_type": "stream",
     "text": [
      "Episode 400: average reward: 218.54114713216958\n"
     ]
    },
    {
     "name": "stderr",
     "output_type": "stream",
     "text": [
      "  5%|▍         | 451/10000 [19:10<7:31:37,  2.84s/it, episode_reward=260, running_reward=221]"
     ]
    },
    {
     "name": "stdout",
     "output_type": "stream",
     "text": [
      "Episode 450: average reward: 220.6319290465632\n"
     ]
    },
    {
     "name": "stderr",
     "output_type": "stream",
     "text": [
      "  5%|▌         | 500/10000 [21:30<7:29:05,  2.84s/it, episode_reward=210, running_reward=225]"
     ]
    },
    {
     "name": "stdout",
     "output_type": "stream",
     "text": [
      "Moviepy - Building video /mnt/c/Users/Rwitobaan/Desktop/code/Reinforcement_project/Reinforcement_learning_project/videos/01_09_41.276997/SpaceInvaders-episode-500.mp4.\n",
      "Moviepy - Writing video /mnt/c/Users/Rwitobaan/Desktop/code/Reinforcement_project/Reinforcement_learning_project/videos/01_09_41.276997/SpaceInvaders-episode-500.mp4\n",
      "\n"
     ]
    },
    {
     "name": "stderr",
     "output_type": "stream",
     "text": [
      "  5%|▌         | 500/10000 [21:30<7:29:05,  2.84s/it, episode_reward=210, running_reward=225]"
     ]
    },
    {
     "name": "stdout",
     "output_type": "stream",
     "text": [
      "Moviepy - Done !\n",
      "Moviepy - video ready /mnt/c/Users/Rwitobaan/Desktop/code/Reinforcement_project/Reinforcement_learning_project/videos/01_09_41.276997/SpaceInvaders-episode-500.mp4\n"
     ]
    },
    {
     "name": "stderr",
     "output_type": "stream",
     "text": [
      "  5%|▌         | 501/10000 [21:31<7:10:37,  2.72s/it, episode_reward=155, running_reward=225]"
     ]
    },
    {
     "name": "stdout",
     "output_type": "stream",
     "text": [
      "Episode 500: average reward: 225.30938123752495\n"
     ]
    },
    {
     "name": "stderr",
     "output_type": "stream",
     "text": [
      "  6%|▌         | 551/10000 [23:59<6:52:04,  2.62s/it, episode_reward=155, running_reward=230] "
     ]
    },
    {
     "name": "stdout",
     "output_type": "stream",
     "text": [
      "Episode 550: average reward: 230.44464609800363\n"
     ]
    },
    {
     "name": "stderr",
     "output_type": "stream",
     "text": [
      "  6%|▌         | 600/10000 [26:19<7:14:08,  2.77s/it, episode_reward=180, running_reward=234]"
     ]
    },
    {
     "name": "stdout",
     "output_type": "stream",
     "text": [
      "Moviepy - Building video /mnt/c/Users/Rwitobaan/Desktop/code/Reinforcement_project/Reinforcement_learning_project/videos/01_09_41.276997/SpaceInvaders-episode-600.mp4.\n",
      "Moviepy - Writing video /mnt/c/Users/Rwitobaan/Desktop/code/Reinforcement_project/Reinforcement_learning_project/videos/01_09_41.276997/SpaceInvaders-episode-600.mp4\n",
      "\n"
     ]
    },
    {
     "name": "stderr",
     "output_type": "stream",
     "text": [
      "  6%|▌         | 600/10000 [26:19<7:14:08,  2.77s/it, episode_reward=180, running_reward=234]"
     ]
    },
    {
     "name": "stdout",
     "output_type": "stream",
     "text": [
      "Moviepy - Done !\n",
      "Moviepy - video ready /mnt/c/Users/Rwitobaan/Desktop/code/Reinforcement_project/Reinforcement_learning_project/videos/01_09_41.276997/SpaceInvaders-episode-600.mp4\n"
     ]
    },
    {
     "name": "stderr",
     "output_type": "stream",
     "text": [
      "  6%|▌         | 601/10000 [26:21<8:40:11,  3.32s/it, episode_reward=420, running_reward=234]"
     ]
    },
    {
     "name": "stdout",
     "output_type": "stream",
     "text": [
      "Episode 600: average reward: 233.86023294509152\n"
     ]
    },
    {
     "name": "stderr",
     "output_type": "stream",
     "text": [
      "  7%|▋         | 651/10000 [28:45<7:55:44,  3.05s/it, episode_reward=285, running_reward=236]"
     ]
    },
    {
     "name": "stdout",
     "output_type": "stream",
     "text": [
      "Episode 650: average reward: 236.16743471582183\n"
     ]
    },
    {
     "name": "stderr",
     "output_type": "stream",
     "text": [
      "  7%|▋         | 700/10000 [31:09<6:32:31,  2.53s/it, episode_reward=105, running_reward=238]"
     ]
    },
    {
     "name": "stdout",
     "output_type": "stream",
     "text": [
      "Moviepy - Building video /mnt/c/Users/Rwitobaan/Desktop/code/Reinforcement_project/Reinforcement_learning_project/videos/01_09_41.276997/SpaceInvaders-episode-700.mp4.\n",
      "Moviepy - Writing video /mnt/c/Users/Rwitobaan/Desktop/code/Reinforcement_project/Reinforcement_learning_project/videos/01_09_41.276997/SpaceInvaders-episode-700.mp4\n",
      "\n"
     ]
    },
    {
     "name": "stderr",
     "output_type": "stream",
     "text": [
      "  7%|▋         | 700/10000 [31:10<6:32:31,  2.53s/it, episode_reward=105, running_reward=238]"
     ]
    },
    {
     "name": "stdout",
     "output_type": "stream",
     "text": [
      "Moviepy - Done !\n",
      "Moviepy - video ready /mnt/c/Users/Rwitobaan/Desktop/code/Reinforcement_project/Reinforcement_learning_project/videos/01_09_41.276997/SpaceInvaders-episode-700.mp4\n"
     ]
    },
    {
     "name": "stderr",
     "output_type": "stream",
     "text": [
      "  7%|▋         | 701/10000 [31:11<7:03:32,  2.73s/it, episode_reward=240, running_reward=238]"
     ]
    },
    {
     "name": "stdout",
     "output_type": "stream",
     "text": [
      "Episode 700: average reward: 237.62482168330956\n"
     ]
    },
    {
     "name": "stderr",
     "output_type": "stream",
     "text": [
      "  8%|▊         | 751/10000 [33:32<7:33:14,  2.94s/it, episode_reward=440, running_reward=238]"
     ]
    },
    {
     "name": "stdout",
     "output_type": "stream",
     "text": [
      "Episode 750: average reward: 238.20239680426099\n"
     ]
    },
    {
     "name": "stderr",
     "output_type": "stream",
     "text": [
      "  8%|▊         | 800/10000 [35:59<7:02:16,  2.75s/it, episode_reward=225, running_reward=240]"
     ]
    },
    {
     "name": "stdout",
     "output_type": "stream",
     "text": [
      "Moviepy - Building video /mnt/c/Users/Rwitobaan/Desktop/code/Reinforcement_project/Reinforcement_learning_project/videos/01_09_41.276997/SpaceInvaders-episode-800.mp4.\n",
      "Moviepy - Writing video /mnt/c/Users/Rwitobaan/Desktop/code/Reinforcement_project/Reinforcement_learning_project/videos/01_09_41.276997/SpaceInvaders-episode-800.mp4\n",
      "\n"
     ]
    },
    {
     "name": "stderr",
     "output_type": "stream",
     "text": [
      "  8%|▊         | 800/10000 [36:00<7:02:16,  2.75s/it, episode_reward=225, running_reward=240]"
     ]
    },
    {
     "name": "stdout",
     "output_type": "stream",
     "text": [
      "Moviepy - Done !\n",
      "Moviepy - video ready /mnt/c/Users/Rwitobaan/Desktop/code/Reinforcement_project/Reinforcement_learning_project/videos/01_09_41.276997/SpaceInvaders-episode-800.mp4\n"
     ]
    },
    {
     "name": "stderr",
     "output_type": "stream",
     "text": [
      "  8%|▊         | 801/10000 [36:02<8:39:17,  3.39s/it, episode_reward=395, running_reward=240]"
     ]
    },
    {
     "name": "stdout",
     "output_type": "stream",
     "text": [
      "Episode 800: average reward: 239.76279650436953\n"
     ]
    },
    {
     "name": "stderr",
     "output_type": "stream",
     "text": [
      "  9%|▊         | 851/10000 [38:24<7:09:10,  2.81s/it, episode_reward=410, running_reward=241]"
     ]
    },
    {
     "name": "stdout",
     "output_type": "stream",
     "text": [
      "Episode 850: average reward: 240.95769682726205\n"
     ]
    },
    {
     "name": "stderr",
     "output_type": "stream",
     "text": [
      "  9%|▉         | 900/10000 [40:50<6:59:31,  2.77s/it, episode_reward=210, running_reward=243]"
     ]
    },
    {
     "name": "stdout",
     "output_type": "stream",
     "text": [
      "Moviepy - Building video /mnt/c/Users/Rwitobaan/Desktop/code/Reinforcement_project/Reinforcement_learning_project/videos/01_09_41.276997/SpaceInvaders-episode-900.mp4.\n",
      "Moviepy - Writing video /mnt/c/Users/Rwitobaan/Desktop/code/Reinforcement_project/Reinforcement_learning_project/videos/01_09_41.276997/SpaceInvaders-episode-900.mp4\n",
      "\n"
     ]
    },
    {
     "name": "stderr",
     "output_type": "stream",
     "text": [
      "  9%|▉         | 900/10000 [40:50<6:59:31,  2.77s/it, episode_reward=210, running_reward=243]"
     ]
    },
    {
     "name": "stdout",
     "output_type": "stream",
     "text": [
      "Moviepy - Done !\n",
      "Moviepy - video ready /mnt/c/Users/Rwitobaan/Desktop/code/Reinforcement_project/Reinforcement_learning_project/videos/01_09_41.276997/SpaceInvaders-episode-900.mp4\n"
     ]
    },
    {
     "name": "stderr",
     "output_type": "stream",
     "text": [
      "  9%|▉         | 901/10000 [40:51<7:00:38,  2.77s/it, episode_reward=210, running_reward=242]"
     ]
    },
    {
     "name": "stdout",
     "output_type": "stream",
     "text": [
      "Episode 900: average reward: 242.47502774694783\n"
     ]
    },
    {
     "name": "stderr",
     "output_type": "stream",
     "text": [
      " 10%|▉         | 951/10000 [43:08<6:48:59,  2.71s/it, episode_reward=240, running_reward=243]"
     ]
    },
    {
     "name": "stdout",
     "output_type": "stream",
     "text": [
      "Episode 950: average reward: 243.4490010515247\n"
     ]
    },
    {
     "name": "stderr",
     "output_type": "stream",
     "text": [
      " 10%|█         | 1000/10000 [45:29<6:57:13,  2.78s/it, episode_reward=210, running_reward=244]"
     ]
    },
    {
     "name": "stdout",
     "output_type": "stream",
     "text": [
      "Moviepy - Building video /mnt/c/Users/Rwitobaan/Desktop/code/Reinforcement_project/Reinforcement_learning_project/videos/01_09_41.276997/SpaceInvaders-episode-1000.mp4.\n",
      "Moviepy - Writing video /mnt/c/Users/Rwitobaan/Desktop/code/Reinforcement_project/Reinforcement_learning_project/videos/01_09_41.276997/SpaceInvaders-episode-1000.mp4\n",
      "\n"
     ]
    },
    {
     "name": "stderr",
     "output_type": "stream",
     "text": [
      " 10%|█         | 1000/10000 [45:29<6:57:13,  2.78s/it, episode_reward=210, running_reward=244]"
     ]
    },
    {
     "name": "stdout",
     "output_type": "stream",
     "text": [
      "Moviepy - Done !\n",
      "Moviepy - video ready /mnt/c/Users/Rwitobaan/Desktop/code/Reinforcement_project/Reinforcement_learning_project/videos/01_09_41.276997/SpaceInvaders-episode-1000.mp4\n"
     ]
    },
    {
     "name": "stderr",
     "output_type": "stream",
     "text": [
      " 10%|█         | 1001/10000 [45:30<7:16:40,  2.91s/it, episode_reward=240, running_reward=244]"
     ]
    },
    {
     "name": "stdout",
     "output_type": "stream",
     "text": [
      "Episode 1000: average reward: 244.35564435564436\n"
     ]
    },
    {
     "name": "stderr",
     "output_type": "stream",
     "text": [
      " 11%|█         | 1051/10000 [47:52<6:49:53,  2.75s/it, episode_reward=260, running_reward=245]"
     ]
    },
    {
     "name": "stdout",
     "output_type": "stream",
     "text": [
      "Episode 1050: average reward: 245.03330161750714\n"
     ]
    },
    {
     "name": "stderr",
     "output_type": "stream",
     "text": [
      " 11%|█         | 1100/10000 [50:20<7:03:43,  2.86s/it, episode_reward=240, running_reward=247]"
     ]
    },
    {
     "name": "stdout",
     "output_type": "stream",
     "text": [
      "Moviepy - Building video /mnt/c/Users/Rwitobaan/Desktop/code/Reinforcement_project/Reinforcement_learning_project/videos/01_09_41.276997/SpaceInvaders-episode-1100.mp4.\n",
      "Moviepy - Writing video /mnt/c/Users/Rwitobaan/Desktop/code/Reinforcement_project/Reinforcement_learning_project/videos/01_09_41.276997/SpaceInvaders-episode-1100.mp4\n",
      "\n"
     ]
    },
    {
     "name": "stderr",
     "output_type": "stream",
     "text": [
      " 11%|█         | 1100/10000 [50:20<7:03:43,  2.86s/it, episode_reward=240, running_reward=247]"
     ]
    },
    {
     "name": "stdout",
     "output_type": "stream",
     "text": [
      "Moviepy - Done !\n",
      "Moviepy - video ready /mnt/c/Users/Rwitobaan/Desktop/code/Reinforcement_project/Reinforcement_learning_project/videos/01_09_41.276997/SpaceInvaders-episode-1100.mp4\n"
     ]
    },
    {
     "name": "stderr",
     "output_type": "stream",
     "text": [
      " 11%|█         | 1101/10000 [50:22<7:40:05,  3.10s/it, episode_reward=550, running_reward=247]"
     ]
    },
    {
     "name": "stdout",
     "output_type": "stream",
     "text": [
      "Episode 1100: average reward: 247.41144414168937\n"
     ]
    },
    {
     "name": "stderr",
     "output_type": "stream",
     "text": [
      " 12%|█▏        | 1151/10000 [53:02<7:22:11,  3.00s/it, episode_reward=460, running_reward=249]"
     ]
    },
    {
     "name": "stdout",
     "output_type": "stream",
     "text": [
      "Episode 1150: average reward: 248.68809730668983\n"
     ]
    },
    {
     "name": "stderr",
     "output_type": "stream",
     "text": [
      " 12%|█▏        | 1200/10000 [55:36<7:11:59,  2.95s/it, episode_reward=210, running_reward=250]"
     ]
    },
    {
     "name": "stdout",
     "output_type": "stream",
     "text": [
      "Moviepy - Building video /mnt/c/Users/Rwitobaan/Desktop/code/Reinforcement_project/Reinforcement_learning_project/videos/01_09_41.276997/SpaceInvaders-episode-1200.mp4.\n",
      "Moviepy - Writing video /mnt/c/Users/Rwitobaan/Desktop/code/Reinforcement_project/Reinforcement_learning_project/videos/01_09_41.276997/SpaceInvaders-episode-1200.mp4\n",
      "\n"
     ]
    },
    {
     "name": "stderr",
     "output_type": "stream",
     "text": [
      " 12%|█▏        | 1200/10000 [55:36<7:11:59,  2.95s/it, episode_reward=210, running_reward=250]"
     ]
    },
    {
     "name": "stdout",
     "output_type": "stream",
     "text": [
      "Moviepy - Done !\n",
      "Moviepy - video ready /mnt/c/Users/Rwitobaan/Desktop/code/Reinforcement_project/Reinforcement_learning_project/videos/01_09_41.276997/SpaceInvaders-episode-1200.mp4\n"
     ]
    },
    {
     "name": "stderr",
     "output_type": "stream",
     "text": [
      " 12%|█▏        | 1201/10000 [55:38<7:15:23,  2.97s/it, episode_reward=210, running_reward=250]"
     ]
    },
    {
     "name": "stdout",
     "output_type": "stream",
     "text": [
      "Episode 1200: average reward: 250.40799333888427\n"
     ]
    },
    {
     "name": "stderr",
     "output_type": "stream",
     "text": [
      " 13%|█▎        | 1251/10000 [58:07<6:46:21,  2.79s/it, episode_reward=245, running_reward=251]"
     ]
    },
    {
     "name": "stdout",
     "output_type": "stream",
     "text": [
      "Episode 1250: average reward: 251.27098321342925\n"
     ]
    },
    {
     "name": "stderr",
     "output_type": "stream",
     "text": [
      " 13%|█▎        | 1300/10000 [1:00:41<7:06:16,  2.94s/it, episode_reward=240, running_reward=253] "
     ]
    },
    {
     "name": "stdout",
     "output_type": "stream",
     "text": [
      "Moviepy - Building video /mnt/c/Users/Rwitobaan/Desktop/code/Reinforcement_project/Reinforcement_learning_project/videos/01_09_41.276997/SpaceInvaders-episode-1300.mp4.\n",
      "Moviepy - Writing video /mnt/c/Users/Rwitobaan/Desktop/code/Reinforcement_project/Reinforcement_learning_project/videos/01_09_41.276997/SpaceInvaders-episode-1300.mp4\n",
      "\n"
     ]
    },
    {
     "name": "stderr",
     "output_type": "stream",
     "text": [
      " 13%|█▎        | 1300/10000 [1:00:41<7:06:16,  2.94s/it, episode_reward=240, running_reward=253]"
     ]
    },
    {
     "name": "stdout",
     "output_type": "stream",
     "text": [
      "Moviepy - Done !\n",
      "Moviepy - video ready /mnt/c/Users/Rwitobaan/Desktop/code/Reinforcement_project/Reinforcement_learning_project/videos/01_09_41.276997/SpaceInvaders-episode-1300.mp4\n"
     ]
    },
    {
     "name": "stderr",
     "output_type": "stream",
     "text": [
      " 13%|█▎        | 1301/10000 [1:00:43<7:20:03,  3.04s/it, episode_reward=270, running_reward=253]"
     ]
    },
    {
     "name": "stdout",
     "output_type": "stream",
     "text": [
      "Episode 1300: average reward: 252.86702536510376\n"
     ]
    },
    {
     "name": "stderr",
     "output_type": "stream",
     "text": [
      " 14%|█▎        | 1351/10000 [1:03:12<7:57:34,  3.31s/it, episode_reward=420, running_reward=253]"
     ]
    },
    {
     "name": "stdout",
     "output_type": "stream",
     "text": [
      "Episode 1350: average reward: 253.37157660991858\n"
     ]
    },
    {
     "name": "stderr",
     "output_type": "stream",
     "text": [
      " 14%|█▍        | 1400/10000 [1:05:36<6:42:57,  2.81s/it, episode_reward=240, running_reward=254]"
     ]
    },
    {
     "name": "stdout",
     "output_type": "stream",
     "text": [
      "Moviepy - Building video /mnt/c/Users/Rwitobaan/Desktop/code/Reinforcement_project/Reinforcement_learning_project/videos/01_09_41.276997/SpaceInvaders-episode-1400.mp4.\n",
      "Moviepy - Writing video /mnt/c/Users/Rwitobaan/Desktop/code/Reinforcement_project/Reinforcement_learning_project/videos/01_09_41.276997/SpaceInvaders-episode-1400.mp4\n",
      "\n"
     ]
    },
    {
     "name": "stderr",
     "output_type": "stream",
     "text": [
      " 14%|█▍        | 1400/10000 [1:05:36<6:42:57,  2.81s/it, episode_reward=240, running_reward=254]"
     ]
    },
    {
     "name": "stdout",
     "output_type": "stream",
     "text": [
      "Moviepy - Done !\n",
      "Moviepy - video ready /mnt/c/Users/Rwitobaan/Desktop/code/Reinforcement_project/Reinforcement_learning_project/videos/01_09_41.276997/SpaceInvaders-episode-1400.mp4\n"
     ]
    },
    {
     "name": "stderr",
     "output_type": "stream",
     "text": [
      " 14%|█▍        | 1401/10000 [1:05:38<6:57:19,  2.91s/it, episode_reward=225, running_reward=254]"
     ]
    },
    {
     "name": "stdout",
     "output_type": "stream",
     "text": [
      "Episode 1400: average reward: 253.95431834403996\n"
     ]
    },
    {
     "name": "stderr",
     "output_type": "stream",
     "text": [
      " 15%|█▍        | 1451/10000 [1:08:01<6:52:12,  2.89s/it, episode_reward=240, running_reward=255]"
     ]
    },
    {
     "name": "stdout",
     "output_type": "stream",
     "text": [
      "Episode 1450: average reward: 254.88628532046863\n"
     ]
    },
    {
     "name": "stderr",
     "output_type": "stream",
     "text": [
      " 15%|█▌        | 1500/10000 [1:10:28<7:30:58,  3.18s/it, episode_reward=310, running_reward=255]"
     ]
    },
    {
     "name": "stdout",
     "output_type": "stream",
     "text": [
      "Moviepy - Building video /mnt/c/Users/Rwitobaan/Desktop/code/Reinforcement_project/Reinforcement_learning_project/videos/01_09_41.276997/SpaceInvaders-episode-1500.mp4.\n",
      "Moviepy - Writing video /mnt/c/Users/Rwitobaan/Desktop/code/Reinforcement_project/Reinforcement_learning_project/videos/01_09_41.276997/SpaceInvaders-episode-1500.mp4\n",
      "\n"
     ]
    },
    {
     "name": "stderr",
     "output_type": "stream",
     "text": [
      " 15%|█▌        | 1500/10000 [1:10:29<7:30:58,  3.18s/it, episode_reward=310, running_reward=255]"
     ]
    },
    {
     "name": "stdout",
     "output_type": "stream",
     "text": [
      "Moviepy - Done !\n",
      "Moviepy - video ready /mnt/c/Users/Rwitobaan/Desktop/code/Reinforcement_project/Reinforcement_learning_project/videos/01_09_41.276997/SpaceInvaders-episode-1500.mp4\n"
     ]
    },
    {
     "name": "stderr",
     "output_type": "stream",
     "text": [
      " 15%|█▌        | 1501/10000 [1:10:31<8:34:34,  3.63s/it, episode_reward=590, running_reward=256]"
     ]
    },
    {
     "name": "stdout",
     "output_type": "stream",
     "text": [
      "Episode 1500: average reward: 255.69620253164558\n"
     ]
    },
    {
     "name": "stderr",
     "output_type": "stream",
     "text": [
      " 16%|█▌        | 1551/10000 [1:13:06<6:33:08,  2.79s/it, episode_reward=260, running_reward=256]"
     ]
    },
    {
     "name": "stdout",
     "output_type": "stream",
     "text": [
      "Episode 1550: average reward: 256.424887169568\n"
     ]
    },
    {
     "name": "stderr",
     "output_type": "stream",
     "text": [
      " 16%|█▌        | 1600/10000 [1:15:33<7:29:56,  3.21s/it, episode_reward=240, running_reward=257]"
     ]
    },
    {
     "name": "stdout",
     "output_type": "stream",
     "text": [
      "Moviepy - Building video /mnt/c/Users/Rwitobaan/Desktop/code/Reinforcement_project/Reinforcement_learning_project/videos/01_09_41.276997/SpaceInvaders-episode-1600.mp4.\n",
      "Moviepy - Writing video /mnt/c/Users/Rwitobaan/Desktop/code/Reinforcement_project/Reinforcement_learning_project/videos/01_09_41.276997/SpaceInvaders-episode-1600.mp4\n",
      "\n"
     ]
    },
    {
     "name": "stderr",
     "output_type": "stream",
     "text": [
      " 16%|█▌        | 1600/10000 [1:15:33<7:29:56,  3.21s/it, episode_reward=240, running_reward=257]"
     ]
    },
    {
     "name": "stdout",
     "output_type": "stream",
     "text": [
      "Moviepy - Done !\n",
      "Moviepy - video ready /mnt/c/Users/Rwitobaan/Desktop/code/Reinforcement_project/Reinforcement_learning_project/videos/01_09_41.276997/SpaceInvaders-episode-1600.mp4\n"
     ]
    },
    {
     "name": "stderr",
     "output_type": "stream",
     "text": [
      " 16%|█▌        | 1601/10000 [1:15:35<7:14:47,  3.11s/it, episode_reward=180, running_reward=257]"
     ]
    },
    {
     "name": "stdout",
     "output_type": "stream",
     "text": [
      "Episode 1600: average reward: 256.8675827607745\n"
     ]
    },
    {
     "name": "stderr",
     "output_type": "stream",
     "text": [
      " 17%|█▋        | 1651/10000 [1:18:04<7:08:51,  3.08s/it, episode_reward=260, running_reward=258]"
     ]
    },
    {
     "name": "stdout",
     "output_type": "stream",
     "text": [
      "Episode 1650: average reward: 257.5590551181102\n"
     ]
    },
    {
     "name": "stderr",
     "output_type": "stream",
     "text": [
      " 17%|█▋        | 1700/10000 [1:20:37<6:42:54,  2.91s/it, episode_reward=415, running_reward=259]"
     ]
    },
    {
     "name": "stdout",
     "output_type": "stream",
     "text": [
      "Moviepy - Building video /mnt/c/Users/Rwitobaan/Desktop/code/Reinforcement_project/Reinforcement_learning_project/videos/01_09_41.276997/SpaceInvaders-episode-1700.mp4.\n",
      "Moviepy - Writing video /mnt/c/Users/Rwitobaan/Desktop/code/Reinforcement_project/Reinforcement_learning_project/videos/01_09_41.276997/SpaceInvaders-episode-1700.mp4\n",
      "\n"
     ]
    },
    {
     "name": "stderr",
     "output_type": "stream",
     "text": [
      " 17%|█▋        | 1700/10000 [1:20:37<6:42:54,  2.91s/it, episode_reward=415, running_reward=259]"
     ]
    },
    {
     "name": "stdout",
     "output_type": "stream",
     "text": [
      "Moviepy - Done !\n",
      "Moviepy - video ready /mnt/c/Users/Rwitobaan/Desktop/code/Reinforcement_project/Reinforcement_learning_project/videos/01_09_41.276997/SpaceInvaders-episode-1700.mp4\n"
     ]
    },
    {
     "name": "stderr",
     "output_type": "stream",
     "text": [
      " 17%|█▋        | 1701/10000 [1:20:40<8:11:16,  3.55s/it, episode_reward=565, running_reward=259]"
     ]
    },
    {
     "name": "stdout",
     "output_type": "stream",
     "text": [
      "Episode 1700: average reward: 258.9212228101117\n"
     ]
    },
    {
     "name": "stderr",
     "output_type": "stream",
     "text": [
      " 18%|█▊        | 1751/10000 [1:23:11<6:45:26,  2.95s/it, episode_reward=210, running_reward=259]"
     ]
    },
    {
     "name": "stdout",
     "output_type": "stream",
     "text": [
      "Episode 1750: average reward: 259.4403198172473\n"
     ]
    },
    {
     "name": "stderr",
     "output_type": "stream",
     "text": [
      " 18%|█▊        | 1800/10000 [1:25:33<6:16:52,  2.76s/it, episode_reward=410, running_reward=260]"
     ]
    },
    {
     "name": "stdout",
     "output_type": "stream",
     "text": [
      "Moviepy - Building video /mnt/c/Users/Rwitobaan/Desktop/code/Reinforcement_project/Reinforcement_learning_project/videos/01_09_41.276997/SpaceInvaders-episode-1800.mp4.\n",
      "Moviepy - Writing video /mnt/c/Users/Rwitobaan/Desktop/code/Reinforcement_project/Reinforcement_learning_project/videos/01_09_41.276997/SpaceInvaders-episode-1800.mp4\n",
      "\n"
     ]
    },
    {
     "name": "stderr",
     "output_type": "stream",
     "text": [
      " 18%|█▊        | 1800/10000 [1:25:33<6:16:52,  2.76s/it, episode_reward=410, running_reward=260]"
     ]
    },
    {
     "name": "stdout",
     "output_type": "stream",
     "text": [
      "Moviepy - Done !\n",
      "Moviepy - video ready /mnt/c/Users/Rwitobaan/Desktop/code/Reinforcement_project/Reinforcement_learning_project/videos/01_09_41.276997/SpaceInvaders-episode-1800.mp4\n"
     ]
    },
    {
     "name": "stderr",
     "output_type": "stream",
     "text": [
      " 18%|█▊        | 1801/10000 [1:25:35<6:39:44,  2.93s/it, episode_reward=285, running_reward=260]"
     ]
    },
    {
     "name": "stdout",
     "output_type": "stream",
     "text": [
      "Episode 1800: average reward: 259.7307051637979\n"
     ]
    },
    {
     "name": "stderr",
     "output_type": "stream",
     "text": [
      " 19%|█▊        | 1851/10000 [1:28:05<6:17:20,  2.78s/it, episode_reward=210, running_reward=261]"
     ]
    },
    {
     "name": "stdout",
     "output_type": "stream",
     "text": [
      "Episode 1850: average reward: 260.569962182604\n"
     ]
    },
    {
     "name": "stderr",
     "output_type": "stream",
     "text": [
      " 19%|█▉        | 1900/10000 [1:30:33<6:15:59,  2.79s/it, episode_reward=290, running_reward=261]"
     ]
    },
    {
     "name": "stdout",
     "output_type": "stream",
     "text": [
      "Moviepy - Building video /mnt/c/Users/Rwitobaan/Desktop/code/Reinforcement_project/Reinforcement_learning_project/videos/01_09_41.276997/SpaceInvaders-episode-1900.mp4.\n",
      "Moviepy - Writing video /mnt/c/Users/Rwitobaan/Desktop/code/Reinforcement_project/Reinforcement_learning_project/videos/01_09_41.276997/SpaceInvaders-episode-1900.mp4\n",
      "\n"
     ]
    },
    {
     "name": "stderr",
     "output_type": "stream",
     "text": [
      " 19%|█▉        | 1900/10000 [1:30:33<6:15:59,  2.79s/it, episode_reward=290, running_reward=261]"
     ]
    },
    {
     "name": "stdout",
     "output_type": "stream",
     "text": [
      "Moviepy - Done !\n",
      "Moviepy - video ready /mnt/c/Users/Rwitobaan/Desktop/code/Reinforcement_project/Reinforcement_learning_project/videos/01_09_41.276997/SpaceInvaders-episode-1900.mp4\n"
     ]
    },
    {
     "name": "stderr",
     "output_type": "stream",
     "text": [
      " 19%|█▉        | 1901/10000 [1:30:34<6:09:56,  2.74s/it, episode_reward=180, running_reward=261]"
     ]
    },
    {
     "name": "stdout",
     "output_type": "stream",
     "text": [
      "Episode 1900: average reward: 261.3992635455024\n"
     ]
    },
    {
     "name": "stderr",
     "output_type": "stream",
     "text": [
      " 20%|█▉        | 1951/10000 [1:33:06<6:35:59,  2.95s/it, episode_reward=260, running_reward=262]"
     ]
    },
    {
     "name": "stdout",
     "output_type": "stream",
     "text": [
      "Episode 1950: average reward: 262.4935930292158\n"
     ]
    },
    {
     "name": "stderr",
     "output_type": "stream",
     "text": [
      " 20%|██        | 2000/10000 [1:35:34<6:27:07,  2.90s/it, episode_reward=210, running_reward=263]"
     ]
    },
    {
     "name": "stdout",
     "output_type": "stream",
     "text": [
      "Moviepy - Building video /mnt/c/Users/Rwitobaan/Desktop/code/Reinforcement_project/Reinforcement_learning_project/videos/01_09_41.276997/SpaceInvaders-episode-2000.mp4.\n",
      "Moviepy - Writing video /mnt/c/Users/Rwitobaan/Desktop/code/Reinforcement_project/Reinforcement_learning_project/videos/01_09_41.276997/SpaceInvaders-episode-2000.mp4\n",
      "\n"
     ]
    },
    {
     "name": "stderr",
     "output_type": "stream",
     "text": [
      " 20%|██        | 2000/10000 [1:35:34<6:27:07,  2.90s/it, episode_reward=210, running_reward=263]"
     ]
    },
    {
     "name": "stdout",
     "output_type": "stream",
     "text": [
      "Moviepy - Done !\n",
      "Moviepy - video ready /mnt/c/Users/Rwitobaan/Desktop/code/Reinforcement_project/Reinforcement_learning_project/videos/01_09_41.276997/SpaceInvaders-episode-2000.mp4\n"
     ]
    },
    {
     "name": "stderr",
     "output_type": "stream",
     "text": [
      " 20%|██        | 2001/10000 [1:35:36<6:21:45,  2.86s/it, episode_reward=210, running_reward=263]"
     ]
    },
    {
     "name": "stdout",
     "output_type": "stream",
     "text": [
      "Episode 2000: average reward: 263.2233883058471\n"
     ]
    },
    {
     "name": "stderr",
     "output_type": "stream",
     "text": [
      " 21%|██        | 2051/10000 [1:38:05<6:33:30,  2.97s/it, episode_reward=340, running_reward=264]"
     ]
    },
    {
     "name": "stdout",
     "output_type": "stream",
     "text": [
      "Episode 2050: average reward: 263.6372501218918\n"
     ]
    },
    {
     "name": "stderr",
     "output_type": "stream",
     "text": [
      " 21%|██        | 2100/10000 [1:40:29<6:17:35,  2.87s/it, episode_reward=345, running_reward=263]"
     ]
    },
    {
     "name": "stdout",
     "output_type": "stream",
     "text": [
      "Moviepy - Building video /mnt/c/Users/Rwitobaan/Desktop/code/Reinforcement_project/Reinforcement_learning_project/videos/01_09_41.276997/SpaceInvaders-episode-2100.mp4.\n",
      "Moviepy - Writing video /mnt/c/Users/Rwitobaan/Desktop/code/Reinforcement_project/Reinforcement_learning_project/videos/01_09_41.276997/SpaceInvaders-episode-2100.mp4\n",
      "\n"
     ]
    },
    {
     "name": "stderr",
     "output_type": "stream",
     "text": [
      " 21%|██        | 2100/10000 [1:40:30<6:17:35,  2.87s/it, episode_reward=345, running_reward=263]"
     ]
    },
    {
     "name": "stdout",
     "output_type": "stream",
     "text": [
      "Moviepy - Done !\n",
      "Moviepy - video ready /mnt/c/Users/Rwitobaan/Desktop/code/Reinforcement_project/Reinforcement_learning_project/videos/01_09_41.276997/SpaceInvaders-episode-2100.mp4\n"
     ]
    },
    {
     "name": "stderr",
     "output_type": "stream",
     "text": [
      " 21%|██        | 2101/10000 [1:40:31<6:32:14,  2.98s/it, episode_reward=275, running_reward=264]"
     ]
    },
    {
     "name": "stdout",
     "output_type": "stream",
     "text": [
      "Episode 2100: average reward: 263.5030937648739\n"
     ]
    },
    {
     "name": "stderr",
     "output_type": "stream",
     "text": [
      " 22%|██▏       | 2151/10000 [1:42:59<6:07:59,  2.81s/it, episode_reward=210, running_reward=264]"
     ]
    },
    {
     "name": "stdout",
     "output_type": "stream",
     "text": [
      "Episode 2150: average reward: 263.5657833565783\n"
     ]
    },
    {
     "name": "stderr",
     "output_type": "stream",
     "text": [
      " 22%|██▏       | 2200/10000 [1:45:22<5:18:19,  2.45s/it, episode_reward=105, running_reward=264]"
     ]
    },
    {
     "name": "stdout",
     "output_type": "stream",
     "text": [
      "Moviepy - Building video /mnt/c/Users/Rwitobaan/Desktop/code/Reinforcement_project/Reinforcement_learning_project/videos/01_09_41.276997/SpaceInvaders-episode-2200.mp4.\n",
      "Moviepy - Writing video /mnt/c/Users/Rwitobaan/Desktop/code/Reinforcement_project/Reinforcement_learning_project/videos/01_09_41.276997/SpaceInvaders-episode-2200.mp4\n",
      "\n"
     ]
    },
    {
     "name": "stderr",
     "output_type": "stream",
     "text": [
      " 22%|██▏       | 2200/10000 [1:45:23<5:18:19,  2.45s/it, episode_reward=105, running_reward=264]"
     ]
    },
    {
     "name": "stdout",
     "output_type": "stream",
     "text": [
      "Moviepy - Done !\n",
      "Moviepy - video ready /mnt/c/Users/Rwitobaan/Desktop/code/Reinforcement_project/Reinforcement_learning_project/videos/01_09_41.276997/SpaceInvaders-episode-2200.mp4\n"
     ]
    },
    {
     "name": "stderr",
     "output_type": "stream",
     "text": [
      " 22%|██▏       | 2201/10000 [1:45:24<5:39:00,  2.61s/it, episode_reward=265, running_reward=264]"
     ]
    },
    {
     "name": "stdout",
     "output_type": "stream",
     "text": [
      "Episode 2200: average reward: 263.74148114493414\n"
     ]
    },
    {
     "name": "stderr",
     "output_type": "stream",
     "text": [
      " 23%|██▎       | 2251/10000 [1:47:43<5:11:40,  2.41s/it, episode_reward=210, running_reward=264]"
     ]
    },
    {
     "name": "stdout",
     "output_type": "stream",
     "text": [
      "Episode 2250: average reward: 263.67392270102175\n"
     ]
    },
    {
     "name": "stderr",
     "output_type": "stream",
     "text": [
      " 23%|██▎       | 2300/10000 [1:49:53<4:57:20,  2.32s/it, episode_reward=295, running_reward=263]"
     ]
    },
    {
     "name": "stdout",
     "output_type": "stream",
     "text": [
      "Moviepy - Building video /mnt/c/Users/Rwitobaan/Desktop/code/Reinforcement_project/Reinforcement_learning_project/videos/01_09_41.276997/SpaceInvaders-episode-2300.mp4.\n",
      "Moviepy - Writing video /mnt/c/Users/Rwitobaan/Desktop/code/Reinforcement_project/Reinforcement_learning_project/videos/01_09_41.276997/SpaceInvaders-episode-2300.mp4\n",
      "\n"
     ]
    },
    {
     "name": "stderr",
     "output_type": "stream",
     "text": [
      " 23%|██▎       | 2300/10000 [1:49:53<4:57:20,  2.32s/it, episode_reward=295, running_reward=263]"
     ]
    },
    {
     "name": "stdout",
     "output_type": "stream",
     "text": [
      "Moviepy - Done !\n",
      "Moviepy - video ready /mnt/c/Users/Rwitobaan/Desktop/code/Reinforcement_project/Reinforcement_learning_project/videos/01_09_41.276997/SpaceInvaders-episode-2300.mp4\n"
     ]
    },
    {
     "name": "stderr",
     "output_type": "stream",
     "text": [
      " 23%|██▎       | 2301/10000 [1:49:55<5:27:06,  2.55s/it, episode_reward=180, running_reward=263]"
     ]
    },
    {
     "name": "stdout",
     "output_type": "stream",
     "text": [
      "Episode 2300: average reward: 263.10082572794437\n"
     ]
    },
    {
     "name": "stderr",
     "output_type": "stream",
     "text": [
      " 24%|██▎       | 2351/10000 [1:52:07<6:53:53,  3.25s/it, episode_reward=380, running_reward=262]"
     ]
    },
    {
     "name": "stdout",
     "output_type": "stream",
     "text": [
      "Episode 2350: average reward: 262.3436835389196\n"
     ]
    },
    {
     "name": "stderr",
     "output_type": "stream",
     "text": [
      " 24%|██▍       | 2400/10000 [1:54:20<5:22:23,  2.55s/it, episode_reward=105, running_reward=262]"
     ]
    },
    {
     "name": "stdout",
     "output_type": "stream",
     "text": [
      "Moviepy - Building video /mnt/c/Users/Rwitobaan/Desktop/code/Reinforcement_project/Reinforcement_learning_project/videos/01_09_41.276997/SpaceInvaders-episode-2400.mp4.\n",
      "Moviepy - Writing video /mnt/c/Users/Rwitobaan/Desktop/code/Reinforcement_project/Reinforcement_learning_project/videos/01_09_41.276997/SpaceInvaders-episode-2400.mp4\n",
      "\n"
     ]
    },
    {
     "name": "stderr",
     "output_type": "stream",
     "text": [
      " 24%|██▍       | 2400/10000 [1:54:20<5:22:23,  2.55s/it, episode_reward=105, running_reward=262]"
     ]
    },
    {
     "name": "stdout",
     "output_type": "stream",
     "text": [
      "Moviepy - Done !\n",
      "Moviepy - video ready /mnt/c/Users/Rwitobaan/Desktop/code/Reinforcement_project/Reinforcement_learning_project/videos/01_09_41.276997/SpaceInvaders-episode-2400.mp4\n"
     ]
    },
    {
     "name": "stderr",
     "output_type": "stream",
     "text": [
      " 24%|██▍       | 2401/10000 [1:54:21<5:16:13,  2.50s/it, episode_reward=120, running_reward=262]"
     ]
    },
    {
     "name": "stdout",
     "output_type": "stream",
     "text": [
      "Episode 2400: average reward: 261.96376509787586\n"
     ]
    },
    {
     "name": "stderr",
     "output_type": "stream",
     "text": [
      " 25%|██▍       | 2451/10000 [1:56:39<6:16:54,  3.00s/it, episode_reward=260, running_reward=262]"
     ]
    },
    {
     "name": "stdout",
     "output_type": "stream",
     "text": [
      "Episode 2450: average reward: 261.5422276621787\n"
     ]
    },
    {
     "name": "stderr",
     "output_type": "stream",
     "text": [
      " 25%|██▌       | 2500/10000 [1:59:02<6:13:19,  2.99s/it, episode_reward=285, running_reward=262]"
     ]
    },
    {
     "name": "stdout",
     "output_type": "stream",
     "text": [
      "Moviepy - Building video /mnt/c/Users/Rwitobaan/Desktop/code/Reinforcement_project/Reinforcement_learning_project/videos/01_09_41.276997/SpaceInvaders-episode-2500.mp4.\n",
      "Moviepy - Writing video /mnt/c/Users/Rwitobaan/Desktop/code/Reinforcement_project/Reinforcement_learning_project/videos/01_09_41.276997/SpaceInvaders-episode-2500.mp4\n",
      "\n"
     ]
    },
    {
     "name": "stderr",
     "output_type": "stream",
     "text": [
      " 25%|██▌       | 2500/10000 [1:59:02<6:13:19,  2.99s/it, episode_reward=285, running_reward=262]"
     ]
    },
    {
     "name": "stdout",
     "output_type": "stream",
     "text": [
      "Moviepy - Done !\n",
      "Moviepy - video ready /mnt/c/Users/Rwitobaan/Desktop/code/Reinforcement_project/Reinforcement_learning_project/videos/01_09_41.276997/SpaceInvaders-episode-2500.mp4\n"
     ]
    },
    {
     "name": "stderr",
     "output_type": "stream",
     "text": [
      " 25%|██▌       | 2501/10000 [1:59:04<6:07:04,  2.94s/it, episode_reward=210, running_reward=262]"
     ]
    },
    {
     "name": "stdout",
     "output_type": "stream",
     "text": [
      "Episode 2500: average reward: 261.8952419032387\n"
     ]
    },
    {
     "name": "stderr",
     "output_type": "stream",
     "text": [
      " 26%|██▌       | 2551/10000 [2:01:40<6:53:53,  3.33s/it, episode_reward=285, running_reward=263]"
     ]
    },
    {
     "name": "stdout",
     "output_type": "stream",
     "text": [
      "Episode 2550: average reward: 262.83222265778124\n"
     ]
    },
    {
     "name": "stderr",
     "output_type": "stream",
     "text": [
      " 26%|██▌       | 2600/10000 [2:04:11<6:03:56,  2.95s/it, episode_reward=345, running_reward=263]"
     ]
    },
    {
     "name": "stdout",
     "output_type": "stream",
     "text": [
      "Moviepy - Building video /mnt/c/Users/Rwitobaan/Desktop/code/Reinforcement_project/Reinforcement_learning_project/videos/01_09_41.276997/SpaceInvaders-episode-2600.mp4.\n",
      "Moviepy - Writing video /mnt/c/Users/Rwitobaan/Desktop/code/Reinforcement_project/Reinforcement_learning_project/videos/01_09_41.276997/SpaceInvaders-episode-2600.mp4\n",
      "\n"
     ]
    },
    {
     "name": "stderr",
     "output_type": "stream",
     "text": [
      " 26%|██▌       | 2600/10000 [2:04:11<6:03:56,  2.95s/it, episode_reward=345, running_reward=263]"
     ]
    },
    {
     "name": "stdout",
     "output_type": "stream",
     "text": [
      "Moviepy - Done !\n",
      "Moviepy - video ready /mnt/c/Users/Rwitobaan/Desktop/code/Reinforcement_project/Reinforcement_learning_project/videos/01_09_41.276997/SpaceInvaders-episode-2600.mp4\n"
     ]
    },
    {
     "name": "stderr",
     "output_type": "stream",
     "text": [
      " 26%|██▌       | 2601/10000 [2:04:12<5:48:23,  2.83s/it, episode_reward=210, running_reward=263]"
     ]
    },
    {
     "name": "stdout",
     "output_type": "stream",
     "text": [
      "Episode 2600: average reward: 263.2506728181469\n"
     ]
    },
    {
     "name": "stderr",
     "output_type": "stream",
     "text": [
      " 27%|██▋       | 2651/10000 [2:06:34<5:16:15,  2.58s/it, episode_reward=210, running_reward=263]"
     ]
    },
    {
     "name": "stdout",
     "output_type": "stream",
     "text": [
      "Episode 2650: average reward: 263.35910976989817\n"
     ]
    },
    {
     "name": "stderr",
     "output_type": "stream",
     "text": [
      " 27%|██▋       | 2700/10000 [2:08:44<5:08:31,  2.54s/it, episode_reward=80, running_reward=263] "
     ]
    },
    {
     "name": "stdout",
     "output_type": "stream",
     "text": [
      "Moviepy - Building video /mnt/c/Users/Rwitobaan/Desktop/code/Reinforcement_project/Reinforcement_learning_project/videos/01_09_41.276997/SpaceInvaders-episode-2700.mp4.\n",
      "Moviepy - Writing video /mnt/c/Users/Rwitobaan/Desktop/code/Reinforcement_project/Reinforcement_learning_project/videos/01_09_41.276997/SpaceInvaders-episode-2700.mp4\n",
      "\n"
     ]
    },
    {
     "name": "stderr",
     "output_type": "stream",
     "text": [
      " 27%|██▋       | 2700/10000 [2:08:44<5:08:31,  2.54s/it, episode_reward=80, running_reward=263]"
     ]
    },
    {
     "name": "stdout",
     "output_type": "stream",
     "text": [
      "Moviepy - Done !\n",
      "Moviepy - video ready /mnt/c/Users/Rwitobaan/Desktop/code/Reinforcement_project/Reinforcement_learning_project/videos/01_09_41.276997/SpaceInvaders-episode-2700.mp4\n"
     ]
    },
    {
     "name": "stderr",
     "output_type": "stream",
     "text": [
      " 27%|██▋       | 2701/10000 [2:08:46<5:29:23,  2.71s/it, episode_reward=260, running_reward=263]"
     ]
    },
    {
     "name": "stdout",
     "output_type": "stream",
     "text": [
      "Episode 2700: average reward: 262.9026286560533\n"
     ]
    },
    {
     "name": "stderr",
     "output_type": "stream",
     "text": [
      " 28%|██▊       | 2751/10000 [2:11:12<5:31:27,  2.74s/it, episode_reward=210, running_reward=263]"
     ]
    },
    {
     "name": "stdout",
     "output_type": "stream",
     "text": [
      "Episode 2750: average reward: 263.36423118865866\n"
     ]
    },
    {
     "name": "stderr",
     "output_type": "stream",
     "text": [
      " 28%|██▊       | 2800/10000 [2:13:31<5:00:31,  2.50s/it, episode_reward=135, running_reward=263]"
     ]
    },
    {
     "name": "stdout",
     "output_type": "stream",
     "text": [
      "Moviepy - Building video /mnt/c/Users/Rwitobaan/Desktop/code/Reinforcement_project/Reinforcement_learning_project/videos/01_09_41.276997/SpaceInvaders-episode-2800.mp4.\n",
      "Moviepy - Writing video /mnt/c/Users/Rwitobaan/Desktop/code/Reinforcement_project/Reinforcement_learning_project/videos/01_09_41.276997/SpaceInvaders-episode-2800.mp4\n",
      "\n"
     ]
    },
    {
     "name": "stderr",
     "output_type": "stream",
     "text": [
      " 28%|██▊       | 2800/10000 [2:13:31<5:00:31,  2.50s/it, episode_reward=135, running_reward=263]"
     ]
    },
    {
     "name": "stdout",
     "output_type": "stream",
     "text": [
      "Moviepy - Done !\n",
      "Moviepy - video ready /mnt/c/Users/Rwitobaan/Desktop/code/Reinforcement_project/Reinforcement_learning_project/videos/01_09_41.276997/SpaceInvaders-episode-2800.mp4\n"
     ]
    },
    {
     "name": "stderr",
     "output_type": "stream",
     "text": [
      " 28%|██▊       | 2801/10000 [2:13:32<5:11:59,  2.60s/it, episode_reward=250, running_reward=263]"
     ]
    },
    {
     "name": "stdout",
     "output_type": "stream",
     "text": [
      "Episode 2800: average reward: 263.325598000714\n"
     ]
    },
    {
     "name": "stderr",
     "output_type": "stream",
     "text": [
      " 29%|██▊       | 2851/10000 [2:15:48<4:49:04,  2.43s/it, episode_reward=120, running_reward=263]"
     ]
    },
    {
     "name": "stdout",
     "output_type": "stream",
     "text": [
      "Episode 2850: average reward: 263.0112241318835\n"
     ]
    },
    {
     "name": "stderr",
     "output_type": "stream",
     "text": [
      " 29%|██▉       | 2900/10000 [2:18:01<5:04:07,  2.57s/it, episode_reward=180, running_reward=263]"
     ]
    },
    {
     "name": "stdout",
     "output_type": "stream",
     "text": [
      "Moviepy - Building video /mnt/c/Users/Rwitobaan/Desktop/code/Reinforcement_project/Reinforcement_learning_project/videos/01_09_41.276997/SpaceInvaders-episode-2900.mp4.\n",
      "Moviepy - Writing video /mnt/c/Users/Rwitobaan/Desktop/code/Reinforcement_project/Reinforcement_learning_project/videos/01_09_41.276997/SpaceInvaders-episode-2900.mp4\n",
      "\n"
     ]
    },
    {
     "name": "stderr",
     "output_type": "stream",
     "text": [
      " 29%|██▉       | 2900/10000 [2:18:02<5:04:07,  2.57s/it, episode_reward=180, running_reward=263]"
     ]
    },
    {
     "name": "stdout",
     "output_type": "stream",
     "text": [
      "Moviepy - Done !\n",
      "Moviepy - video ready /mnt/c/Users/Rwitobaan/Desktop/code/Reinforcement_project/Reinforcement_learning_project/videos/01_09_41.276997/SpaceInvaders-episode-2900.mp4\n"
     ]
    },
    {
     "name": "stderr",
     "output_type": "stream",
     "text": [
      " 29%|██▉       | 2901/10000 [2:18:03<5:29:52,  2.79s/it, episode_reward=240, running_reward=263]"
     ]
    },
    {
     "name": "stdout",
     "output_type": "stream",
     "text": [
      "Episode 2900: average reward: 263.0075835918649\n"
     ]
    },
    {
     "name": "stderr",
     "output_type": "stream",
     "text": [
      " 30%|██▉       | 2951/10000 [2:20:23<5:33:09,  2.84s/it, episode_reward=225, running_reward=263]"
     ]
    },
    {
     "name": "stdout",
     "output_type": "stream",
     "text": [
      "Episode 2950: average reward: 263.03287021348694\n"
     ]
    },
    {
     "name": "stderr",
     "output_type": "stream",
     "text": [
      " 30%|███       | 3000/10000 [2:22:41<5:02:25,  2.59s/it, episode_reward=210, running_reward=263]"
     ]
    },
    {
     "name": "stdout",
     "output_type": "stream",
     "text": [
      "Moviepy - Building video /mnt/c/Users/Rwitobaan/Desktop/code/Reinforcement_project/Reinforcement_learning_project/videos/01_09_41.276997/SpaceInvaders-episode-3000.mp4.\n",
      "Moviepy - Writing video /mnt/c/Users/Rwitobaan/Desktop/code/Reinforcement_project/Reinforcement_learning_project/videos/01_09_41.276997/SpaceInvaders-episode-3000.mp4\n",
      "\n"
     ]
    },
    {
     "name": "stderr",
     "output_type": "stream",
     "text": [
      " 30%|███       | 3000/10000 [2:22:42<5:02:25,  2.59s/it, episode_reward=210, running_reward=263]"
     ]
    },
    {
     "name": "stdout",
     "output_type": "stream",
     "text": [
      "Moviepy - Done !\n",
      "Moviepy - video ready /mnt/c/Users/Rwitobaan/Desktop/code/Reinforcement_project/Reinforcement_learning_project/videos/01_09_41.276997/SpaceInvaders-episode-3000.mp4\n"
     ]
    },
    {
     "name": "stderr",
     "output_type": "stream",
     "text": [
      " 30%|███       | 3001/10000 [2:22:43<5:24:25,  2.78s/it, episode_reward=260, running_reward=263]"
     ]
    },
    {
     "name": "stdout",
     "output_type": "stream",
     "text": [
      "Episode 3000: average reward: 263.1172942352549\n"
     ]
    },
    {
     "name": "stderr",
     "output_type": "stream",
     "text": [
      " 31%|███       | 3051/10000 [2:25:02<5:21:05,  2.77s/it, episode_reward=265, running_reward=263]"
     ]
    },
    {
     "name": "stdout",
     "output_type": "stream",
     "text": [
      "Episode 3050: average reward: 263.08423467715505\n"
     ]
    },
    {
     "name": "stderr",
     "output_type": "stream",
     "text": [
      " 31%|███       | 3100/10000 [2:27:13<4:50:57,  2.53s/it, episode_reward=180, running_reward=263]"
     ]
    },
    {
     "name": "stdout",
     "output_type": "stream",
     "text": [
      "Moviepy - Building video /mnt/c/Users/Rwitobaan/Desktop/code/Reinforcement_project/Reinforcement_learning_project/videos/01_09_41.276997/SpaceInvaders-episode-3100.mp4.\n",
      "Moviepy - Writing video /mnt/c/Users/Rwitobaan/Desktop/code/Reinforcement_project/Reinforcement_learning_project/videos/01_09_41.276997/SpaceInvaders-episode-3100.mp4\n",
      "\n"
     ]
    },
    {
     "name": "stderr",
     "output_type": "stream",
     "text": [
      " 31%|███       | 3100/10000 [2:27:13<4:50:57,  2.53s/it, episode_reward=180, running_reward=263]"
     ]
    },
    {
     "name": "stdout",
     "output_type": "stream",
     "text": [
      "Moviepy - Done !\n",
      "Moviepy - video ready /mnt/c/Users/Rwitobaan/Desktop/code/Reinforcement_project/Reinforcement_learning_project/videos/01_09_41.276997/SpaceInvaders-episode-3100.mp4\n"
     ]
    },
    {
     "name": "stderr",
     "output_type": "stream",
     "text": [
      " 31%|███       | 3101/10000 [2:27:15<5:57:54,  3.11s/it, episode_reward=790, running_reward=263]"
     ]
    },
    {
     "name": "stdout",
     "output_type": "stream",
     "text": [
      "Episode 3100: average reward: 263.0345049983876\n"
     ]
    },
    {
     "name": "stderr",
     "output_type": "stream",
     "text": [
      " 32%|███▏      | 3151/10000 [2:29:33<4:58:43,  2.62s/it, episode_reward=255, running_reward=263]"
     ]
    },
    {
     "name": "stdout",
     "output_type": "stream",
     "text": [
      "Episode 3150: average reward: 262.89907965725166\n"
     ]
    },
    {
     "name": "stderr",
     "output_type": "stream",
     "text": [
      " 32%|███▏      | 3200/10000 [2:31:43<5:17:16,  2.80s/it, episode_reward=230, running_reward=263]"
     ]
    },
    {
     "name": "stdout",
     "output_type": "stream",
     "text": [
      "Moviepy - Building video /mnt/c/Users/Rwitobaan/Desktop/code/Reinforcement_project/Reinforcement_learning_project/videos/01_09_41.276997/SpaceInvaders-episode-3200.mp4.\n",
      "Moviepy - Writing video /mnt/c/Users/Rwitobaan/Desktop/code/Reinforcement_project/Reinforcement_learning_project/videos/01_09_41.276997/SpaceInvaders-episode-3200.mp4\n",
      "\n"
     ]
    },
    {
     "name": "stderr",
     "output_type": "stream",
     "text": [
      " 32%|███▏      | 3200/10000 [2:31:44<5:17:16,  2.80s/it, episode_reward=230, running_reward=263]"
     ]
    },
    {
     "name": "stdout",
     "output_type": "stream",
     "text": [
      "Moviepy - Done !\n",
      "Moviepy - video ready /mnt/c/Users/Rwitobaan/Desktop/code/Reinforcement_project/Reinforcement_learning_project/videos/01_09_41.276997/SpaceInvaders-episode-3200.mp4\n"
     ]
    },
    {
     "name": "stderr",
     "output_type": "stream",
     "text": [
      " 32%|███▏      | 3201/10000 [2:31:46<6:13:41,  3.30s/it, episode_reward=390, running_reward=263]"
     ]
    },
    {
     "name": "stdout",
     "output_type": "stream",
     "text": [
      "Episode 3200: average reward: 262.6179318962824\n"
     ]
    },
    {
     "name": "stderr",
     "output_type": "stream",
     "text": [
      " 33%|███▎      | 3251/10000 [2:33:50<4:00:48,  2.14s/it, episode_reward=180, running_reward=262]"
     ]
    },
    {
     "name": "stdout",
     "output_type": "stream",
     "text": [
      "Episode 3250: average reward: 262.13165179944633\n"
     ]
    },
    {
     "name": "stderr",
     "output_type": "stream",
     "text": [
      " 33%|███▎      | 3300/10000 [2:35:56<4:39:14,  2.50s/it, episode_reward=210, running_reward=262]"
     ]
    },
    {
     "name": "stdout",
     "output_type": "stream",
     "text": [
      "Moviepy - Building video /mnt/c/Users/Rwitobaan/Desktop/code/Reinforcement_project/Reinforcement_learning_project/videos/01_09_41.276997/SpaceInvaders-episode-3300.mp4.\n",
      "Moviepy - Writing video /mnt/c/Users/Rwitobaan/Desktop/code/Reinforcement_project/Reinforcement_learning_project/videos/01_09_41.276997/SpaceInvaders-episode-3300.mp4\n",
      "\n"
     ]
    },
    {
     "name": "stderr",
     "output_type": "stream",
     "text": [
      " 33%|███▎      | 3300/10000 [2:35:57<4:39:14,  2.50s/it, episode_reward=210, running_reward=262]"
     ]
    },
    {
     "name": "stdout",
     "output_type": "stream",
     "text": [
      "Moviepy - Done !\n",
      "Moviepy - video ready /mnt/c/Users/Rwitobaan/Desktop/code/Reinforcement_project/Reinforcement_learning_project/videos/01_09_41.276997/SpaceInvaders-episode-3300.mp4\n"
     ]
    },
    {
     "name": "stderr",
     "output_type": "stream",
     "text": [
      " 33%|███▎      | 3301/10000 [2:35:58<5:05:11,  2.73s/it, episode_reward=500, running_reward=262]"
     ]
    },
    {
     "name": "stdout",
     "output_type": "stream",
     "text": [
      "Episode 3300: average reward: 261.7085731596486\n"
     ]
    },
    {
     "name": "stderr",
     "output_type": "stream",
     "text": [
      " 34%|███▎      | 3351/10000 [2:38:13<4:37:00,  2.50s/it, episode_reward=260, running_reward=262]"
     ]
    },
    {
     "name": "stdout",
     "output_type": "stream",
     "text": [
      "Episode 3350: average reward: 261.61593554162937\n"
     ]
    },
    {
     "name": "stderr",
     "output_type": "stream",
     "text": [
      " 34%|███▍      | 3400/10000 [2:40:20<4:42:54,  2.57s/it, episode_reward=210, running_reward=261]"
     ]
    },
    {
     "name": "stdout",
     "output_type": "stream",
     "text": [
      "Moviepy - Building video /mnt/c/Users/Rwitobaan/Desktop/code/Reinforcement_project/Reinforcement_learning_project/videos/01_09_41.276997/SpaceInvaders-episode-3400.mp4.\n",
      "Moviepy - Writing video /mnt/c/Users/Rwitobaan/Desktop/code/Reinforcement_project/Reinforcement_learning_project/videos/01_09_41.276997/SpaceInvaders-episode-3400.mp4\n",
      "\n"
     ]
    },
    {
     "name": "stderr",
     "output_type": "stream",
     "text": [
      " 34%|███▍      | 3400/10000 [2:40:20<4:42:54,  2.57s/it, episode_reward=210, running_reward=261]"
     ]
    },
    {
     "name": "stdout",
     "output_type": "stream",
     "text": [
      "Moviepy - Done !\n",
      "Moviepy - video ready /mnt/c/Users/Rwitobaan/Desktop/code/Reinforcement_project/Reinforcement_learning_project/videos/01_09_41.276997/SpaceInvaders-episode-3400.mp4\n"
     ]
    },
    {
     "name": "stderr",
     "output_type": "stream",
     "text": [
      " 34%|███▍      | 3401/10000 [2:40:22<4:40:23,  2.55s/it, episode_reward=185, running_reward=261]"
     ]
    },
    {
     "name": "stdout",
     "output_type": "stream",
     "text": [
      "Episode 3400: average reward: 261.2849162011173\n"
     ]
    },
    {
     "name": "stderr",
     "output_type": "stream",
     "text": [
      " 35%|███▍      | 3451/10000 [2:42:39<4:59:09,  2.74s/it, episode_reward=260, running_reward=261]"
     ]
    },
    {
     "name": "stdout",
     "output_type": "stream",
     "text": [
      "Episode 3450: average reward: 261.4691393798899\n"
     ]
    },
    {
     "name": "stderr",
     "output_type": "stream",
     "text": [
      " 35%|███▌      | 3500/10000 [2:44:43<4:35:24,  2.54s/it, episode_reward=210, running_reward=261]"
     ]
    },
    {
     "name": "stdout",
     "output_type": "stream",
     "text": [
      "Moviepy - Building video /mnt/c/Users/Rwitobaan/Desktop/code/Reinforcement_project/Reinforcement_learning_project/videos/01_09_41.276997/SpaceInvaders-episode-3500.mp4.\n",
      "Moviepy - Writing video /mnt/c/Users/Rwitobaan/Desktop/code/Reinforcement_project/Reinforcement_learning_project/videos/01_09_41.276997/SpaceInvaders-episode-3500.mp4\n",
      "\n"
     ]
    },
    {
     "name": "stderr",
     "output_type": "stream",
     "text": [
      " 35%|███▌      | 3500/10000 [2:44:43<4:35:24,  2.54s/it, episode_reward=210, running_reward=261]"
     ]
    },
    {
     "name": "stdout",
     "output_type": "stream",
     "text": [
      "Moviepy - Done !\n",
      "Moviepy - video ready /mnt/c/Users/Rwitobaan/Desktop/code/Reinforcement_project/Reinforcement_learning_project/videos/01_09_41.276997/SpaceInvaders-episode-3500.mp4\n"
     ]
    },
    {
     "name": "stderr",
     "output_type": "stream",
     "text": [
      " 35%|███▌      | 3501/10000 [2:44:44<4:24:55,  2.45s/it, episode_reward=210, running_reward=261]"
     ]
    },
    {
     "name": "stdout",
     "output_type": "stream",
     "text": [
      "Episode 3500: average reward: 261.1768066266781\n"
     ]
    },
    {
     "name": "stderr",
     "output_type": "stream",
     "text": [
      " 36%|███▌      | 3551/10000 [2:46:51<4:14:16,  2.37s/it, episode_reward=220, running_reward=261]"
     ]
    },
    {
     "name": "stdout",
     "output_type": "stream",
     "text": [
      "Episode 3550: average reward: 260.8983384961983\n"
     ]
    },
    {
     "name": "stderr",
     "output_type": "stream",
     "text": [
      " 36%|███▌      | 3600/10000 [2:49:03<5:23:17,  3.03s/it, episode_reward=295, running_reward=261]"
     ]
    },
    {
     "name": "stdout",
     "output_type": "stream",
     "text": [
      "Moviepy - Building video /mnt/c/Users/Rwitobaan/Desktop/code/Reinforcement_project/Reinforcement_learning_project/videos/01_09_41.276997/SpaceInvaders-episode-3600.mp4.\n",
      "Moviepy - Writing video /mnt/c/Users/Rwitobaan/Desktop/code/Reinforcement_project/Reinforcement_learning_project/videos/01_09_41.276997/SpaceInvaders-episode-3600.mp4\n",
      "\n"
     ]
    },
    {
     "name": "stderr",
     "output_type": "stream",
     "text": [
      " 36%|███▌      | 3600/10000 [2:49:03<5:23:17,  3.03s/it, episode_reward=295, running_reward=261]"
     ]
    },
    {
     "name": "stdout",
     "output_type": "stream",
     "text": [
      "Moviepy - Done !\n",
      "Moviepy - video ready /mnt/c/Users/Rwitobaan/Desktop/code/Reinforcement_project/Reinforcement_learning_project/videos/01_09_41.276997/SpaceInvaders-episode-3600.mp4\n"
     ]
    },
    {
     "name": "stderr",
     "output_type": "stream",
     "text": [
      " 36%|███▌      | 3601/10000 [2:49:04<5:15:16,  2.96s/it, episode_reward=410, running_reward=261]"
     ]
    },
    {
     "name": "stdout",
     "output_type": "stream",
     "text": [
      "Episode 3600: average reward: 260.8830880311025\n"
     ]
    },
    {
     "name": "stderr",
     "output_type": "stream",
     "text": [
      " 37%|███▋      | 3651/10000 [2:51:21<4:43:36,  2.68s/it, episode_reward=260, running_reward=261]"
     ]
    },
    {
     "name": "stdout",
     "output_type": "stream",
     "text": [
      "Episode 3650: average reward: 260.8833196384552\n"
     ]
    },
    {
     "name": "stderr",
     "output_type": "stream",
     "text": [
      " 37%|███▋      | 3700/10000 [2:53:40<4:46:00,  2.72s/it, episode_reward=285, running_reward=261]"
     ]
    },
    {
     "name": "stdout",
     "output_type": "stream",
     "text": [
      "Moviepy - Building video /mnt/c/Users/Rwitobaan/Desktop/code/Reinforcement_project/Reinforcement_learning_project/videos/01_09_41.276997/SpaceInvaders-episode-3700.mp4.\n",
      "Moviepy - Writing video /mnt/c/Users/Rwitobaan/Desktop/code/Reinforcement_project/Reinforcement_learning_project/videos/01_09_41.276997/SpaceInvaders-episode-3700.mp4\n",
      "\n"
     ]
    },
    {
     "name": "stderr",
     "output_type": "stream",
     "text": [
      " 37%|███▋      | 3700/10000 [2:53:40<4:46:00,  2.72s/it, episode_reward=285, running_reward=261]"
     ]
    },
    {
     "name": "stdout",
     "output_type": "stream",
     "text": [
      "Moviepy - Done !\n",
      "Moviepy - video ready /mnt/c/Users/Rwitobaan/Desktop/code/Reinforcement_project/Reinforcement_learning_project/videos/01_09_41.276997/SpaceInvaders-episode-3700.mp4\n"
     ]
    },
    {
     "name": "stderr",
     "output_type": "stream",
     "text": [
      " 37%|███▋      | 3701/10000 [2:53:42<4:49:17,  2.76s/it, episode_reward=210, running_reward=261]"
     ]
    },
    {
     "name": "stdout",
     "output_type": "stream",
     "text": [
      "Episode 3700: average reward: 260.76871115914616\n"
     ]
    },
    {
     "name": "stderr",
     "output_type": "stream",
     "text": [
      " 38%|███▊      | 3751/10000 [2:55:51<4:51:42,  2.80s/it, episode_reward=210, running_reward=260]"
     ]
    },
    {
     "name": "stdout",
     "output_type": "stream",
     "text": [
      "Episode 3750: average reward: 260.495867768595\n"
     ]
    },
    {
     "name": "stderr",
     "output_type": "stream",
     "text": [
      " 38%|███▊      | 3800/10000 [2:58:24<5:43:30,  3.32s/it, episode_reward=390, running_reward=261]"
     ]
    },
    {
     "name": "stdout",
     "output_type": "stream",
     "text": [
      "Moviepy - Building video /mnt/c/Users/Rwitobaan/Desktop/code/Reinforcement_project/Reinforcement_learning_project/videos/01_09_41.276997/SpaceInvaders-episode-3800.mp4.\n",
      "Moviepy - Writing video /mnt/c/Users/Rwitobaan/Desktop/code/Reinforcement_project/Reinforcement_learning_project/videos/01_09_41.276997/SpaceInvaders-episode-3800.mp4\n",
      "\n"
     ]
    },
    {
     "name": "stderr",
     "output_type": "stream",
     "text": [
      " 38%|███▊      | 3800/10000 [2:58:24<5:43:30,  3.32s/it, episode_reward=390, running_reward=261]"
     ]
    },
    {
     "name": "stdout",
     "output_type": "stream",
     "text": [
      "Moviepy - Done !\n",
      "Moviepy - video ready /mnt/c/Users/Rwitobaan/Desktop/code/Reinforcement_project/Reinforcement_learning_project/videos/01_09_41.276997/SpaceInvaders-episode-3800.mp4\n"
     ]
    },
    {
     "name": "stderr",
     "output_type": "stream",
     "text": [
      " 38%|███▊      | 3801/10000 [2:58:26<5:42:13,  3.31s/it, episode_reward=260, running_reward=261]"
     ]
    },
    {
     "name": "stdout",
     "output_type": "stream",
     "text": [
      "Episode 3800: average reward: 260.85503814785585\n"
     ]
    },
    {
     "name": "stderr",
     "output_type": "stream",
     "text": [
      " 39%|███▊      | 3851/10000 [3:00:49<4:49:14,  2.82s/it, episode_reward=260, running_reward=261]"
     ]
    },
    {
     "name": "stdout",
     "output_type": "stream",
     "text": [
      "Episode 3850: average reward: 261.05427161776163\n"
     ]
    },
    {
     "name": "stderr",
     "output_type": "stream",
     "text": [
      " 39%|███▉      | 3900/10000 [3:03:03<4:57:31,  2.93s/it, episode_reward=240, running_reward=261]"
     ]
    },
    {
     "name": "stdout",
     "output_type": "stream",
     "text": [
      "Moviepy - Building video /mnt/c/Users/Rwitobaan/Desktop/code/Reinforcement_project/Reinforcement_learning_project/videos/01_09_41.276997/SpaceInvaders-episode-3900.mp4.\n",
      "Moviepy - Writing video /mnt/c/Users/Rwitobaan/Desktop/code/Reinforcement_project/Reinforcement_learning_project/videos/01_09_41.276997/SpaceInvaders-episode-3900.mp4\n",
      "\n"
     ]
    },
    {
     "name": "stderr",
     "output_type": "stream",
     "text": [
      " 39%|███▉      | 3900/10000 [3:03:03<4:57:31,  2.93s/it, episode_reward=240, running_reward=261]"
     ]
    },
    {
     "name": "stdout",
     "output_type": "stream",
     "text": [
      "Moviepy - Done !\n",
      "Moviepy - video ready /mnt/c/Users/Rwitobaan/Desktop/code/Reinforcement_project/Reinforcement_learning_project/videos/01_09_41.276997/SpaceInvaders-episode-3900.mp4\n"
     ]
    },
    {
     "name": "stderr",
     "output_type": "stream",
     "text": [
      " 39%|███▉      | 3901/10000 [3:03:05<5:47:46,  3.42s/it, episode_reward=590, running_reward=261]"
     ]
    },
    {
     "name": "stdout",
     "output_type": "stream",
     "text": [
      "Episode 3900: average reward: 261.03947705716485\n"
     ]
    },
    {
     "name": "stderr",
     "output_type": "stream",
     "text": [
      " 40%|███▉      | 3951/10000 [3:05:31<4:53:56,  2.92s/it, episode_reward=530, running_reward=261]"
     ]
    },
    {
     "name": "stdout",
     "output_type": "stream",
     "text": [
      "Episode 3950: average reward: 261.4490002531005\n"
     ]
    },
    {
     "name": "stderr",
     "output_type": "stream",
     "text": [
      " 40%|████      | 4000/10000 [3:07:42<4:57:59,  2.98s/it, episode_reward=330, running_reward=261]"
     ]
    },
    {
     "name": "stdout",
     "output_type": "stream",
     "text": [
      "Moviepy - Building video /mnt/c/Users/Rwitobaan/Desktop/code/Reinforcement_project/Reinforcement_learning_project/videos/01_09_41.276997/SpaceInvaders-episode-4000.mp4.\n",
      "Moviepy - Writing video /mnt/c/Users/Rwitobaan/Desktop/code/Reinforcement_project/Reinforcement_learning_project/videos/01_09_41.276997/SpaceInvaders-episode-4000.mp4\n",
      "\n"
     ]
    },
    {
     "name": "stderr",
     "output_type": "stream",
     "text": [
      " 40%|████      | 4000/10000 [3:07:42<4:57:59,  2.98s/it, episode_reward=330, running_reward=261]"
     ]
    },
    {
     "name": "stdout",
     "output_type": "stream",
     "text": [
      "Moviepy - Done !\n",
      "Moviepy - video ready /mnt/c/Users/Rwitobaan/Desktop/code/Reinforcement_project/Reinforcement_learning_project/videos/01_09_41.276997/SpaceInvaders-episode-4000.mp4\n"
     ]
    },
    {
     "name": "stderr",
     "output_type": "stream",
     "text": [
      " 40%|████      | 4001/10000 [3:07:44<5:02:12,  3.02s/it, episode_reward=460, running_reward=261]"
     ]
    },
    {
     "name": "stdout",
     "output_type": "stream",
     "text": [
      "Episode 4000: average reward: 261.43464133966506\n"
     ]
    },
    {
     "name": "stderr",
     "output_type": "stream",
     "text": [
      " 41%|████      | 4051/10000 [3:09:49<3:46:35,  2.29s/it, episode_reward=210, running_reward=261]"
     ]
    },
    {
     "name": "stdout",
     "output_type": "stream",
     "text": [
      "Episode 4050: average reward: 261.25647988151076\n"
     ]
    },
    {
     "name": "stderr",
     "output_type": "stream",
     "text": [
      " 41%|████      | 4100/10000 [3:11:53<3:44:21,  2.28s/it, episode_reward=180, running_reward=261]"
     ]
    },
    {
     "name": "stdout",
     "output_type": "stream",
     "text": [
      "Moviepy - Building video /mnt/c/Users/Rwitobaan/Desktop/code/Reinforcement_project/Reinforcement_learning_project/videos/01_09_41.276997/SpaceInvaders-episode-4100.mp4.\n",
      "Moviepy - Writing video /mnt/c/Users/Rwitobaan/Desktop/code/Reinforcement_project/Reinforcement_learning_project/videos/01_09_41.276997/SpaceInvaders-episode-4100.mp4\n",
      "\n"
     ]
    },
    {
     "name": "stderr",
     "output_type": "stream",
     "text": [
      " 41%|████      | 4100/10000 [3:11:53<3:44:21,  2.28s/it, episode_reward=180, running_reward=261]"
     ]
    },
    {
     "name": "stdout",
     "output_type": "stream",
     "text": [
      "Moviepy - Done !\n",
      "Moviepy - video ready /mnt/c/Users/Rwitobaan/Desktop/code/Reinforcement_project/Reinforcement_learning_project/videos/01_09_41.276997/SpaceInvaders-episode-4100.mp4\n"
     ]
    },
    {
     "name": "stderr",
     "output_type": "stream",
     "text": [
      " 41%|████      | 4101/10000 [3:11:54<3:41:54,  2.26s/it, episode_reward=120, running_reward=261]"
     ]
    },
    {
     "name": "stdout",
     "output_type": "stream",
     "text": [
      "Episode 4100: average reward: 260.9814679346501\n"
     ]
    },
    {
     "name": "stderr",
     "output_type": "stream",
     "text": [
      " 42%|████▏     | 4151/10000 [3:13:51<4:23:59,  2.71s/it, episode_reward=260, running_reward=261]"
     ]
    },
    {
     "name": "stdout",
     "output_type": "stream",
     "text": [
      "Episode 4150: average reward: 260.5095157793303\n"
     ]
    },
    {
     "name": "stderr",
     "output_type": "stream",
     "text": [
      " 42%|████▏     | 4200/10000 [3:15:59<4:44:45,  2.95s/it, episode_reward=395, running_reward=261]"
     ]
    },
    {
     "name": "stdout",
     "output_type": "stream",
     "text": [
      "Moviepy - Building video /mnt/c/Users/Rwitobaan/Desktop/code/Reinforcement_project/Reinforcement_learning_project/videos/01_09_41.276997/SpaceInvaders-episode-4200.mp4.\n",
      "Moviepy - Writing video /mnt/c/Users/Rwitobaan/Desktop/code/Reinforcement_project/Reinforcement_learning_project/videos/01_09_41.276997/SpaceInvaders-episode-4200.mp4\n",
      "\n"
     ]
    },
    {
     "name": "stderr",
     "output_type": "stream",
     "text": [
      " 42%|████▏     | 4200/10000 [3:16:00<4:44:45,  2.95s/it, episode_reward=395, running_reward=261]"
     ]
    },
    {
     "name": "stdout",
     "output_type": "stream",
     "text": [
      "Moviepy - Done !\n",
      "Moviepy - video ready /mnt/c/Users/Rwitobaan/Desktop/code/Reinforcement_project/Reinforcement_learning_project/videos/01_09_41.276997/SpaceInvaders-episode-4200.mp4\n"
     ]
    },
    {
     "name": "stderr",
     "output_type": "stream",
     "text": [
      " 42%|████▏     | 4201/10000 [3:16:01<4:30:46,  2.80s/it, episode_reward=210, running_reward=261]"
     ]
    },
    {
     "name": "stdout",
     "output_type": "stream",
     "text": [
      "Episode 4200: average reward: 260.5343965722447\n"
     ]
    },
    {
     "name": "stderr",
     "output_type": "stream",
     "text": [
      " 43%|████▎     | 4251/10000 [3:17:58<3:37:04,  2.27s/it, episode_reward=185, running_reward=260]"
     ]
    },
    {
     "name": "stdout",
     "output_type": "stream",
     "text": [
      "Episode 4250: average reward: 259.95295224653023\n"
     ]
    },
    {
     "name": "stderr",
     "output_type": "stream",
     "text": [
      " 43%|████▎     | 4300/10000 [3:20:07<4:21:21,  2.75s/it, episode_reward=240, running_reward=260]"
     ]
    },
    {
     "name": "stdout",
     "output_type": "stream",
     "text": [
      "Moviepy - Building video /mnt/c/Users/Rwitobaan/Desktop/code/Reinforcement_project/Reinforcement_learning_project/videos/01_09_41.276997/SpaceInvaders-episode-4300.mp4.\n",
      "Moviepy - Writing video /mnt/c/Users/Rwitobaan/Desktop/code/Reinforcement_project/Reinforcement_learning_project/videos/01_09_41.276997/SpaceInvaders-episode-4300.mp4\n",
      "\n"
     ]
    },
    {
     "name": "stderr",
     "output_type": "stream",
     "text": [
      " 43%|████▎     | 4300/10000 [3:20:07<4:21:21,  2.75s/it, episode_reward=240, running_reward=260]"
     ]
    },
    {
     "name": "stdout",
     "output_type": "stream",
     "text": [
      "Moviepy - Done !\n",
      "Moviepy - video ready /mnt/c/Users/Rwitobaan/Desktop/code/Reinforcement_project/Reinforcement_learning_project/videos/01_09_41.276997/SpaceInvaders-episode-4300.mp4\n"
     ]
    },
    {
     "name": "stderr",
     "output_type": "stream",
     "text": [
      " 43%|████▎     | 4301/10000 [3:20:09<4:23:34,  2.77s/it, episode_reward=240, running_reward=260]"
     ]
    },
    {
     "name": "stdout",
     "output_type": "stream",
     "text": [
      "Episode 4300: average reward: 259.7628458498024\n"
     ]
    },
    {
     "name": "stderr",
     "output_type": "stream",
     "text": [
      " 44%|████▎     | 4351/10000 [3:22:19<4:14:39,  2.70s/it, episode_reward=265, running_reward=260]"
     ]
    },
    {
     "name": "stdout",
     "output_type": "stream",
     "text": [
      "Episode 4350: average reward: 259.58400367731554\n"
     ]
    },
    {
     "name": "stderr",
     "output_type": "stream",
     "text": [
      " 44%|████▍     | 4400/10000 [3:24:29<3:53:18,  2.50s/it, episode_reward=180, running_reward=260]"
     ]
    },
    {
     "name": "stdout",
     "output_type": "stream",
     "text": [
      "Moviepy - Building video /mnt/c/Users/Rwitobaan/Desktop/code/Reinforcement_project/Reinforcement_learning_project/videos/01_09_41.276997/SpaceInvaders-episode-4400.mp4.\n",
      "Moviepy - Writing video /mnt/c/Users/Rwitobaan/Desktop/code/Reinforcement_project/Reinforcement_learning_project/videos/01_09_41.276997/SpaceInvaders-episode-4400.mp4\n",
      "\n"
     ]
    },
    {
     "name": "stderr",
     "output_type": "stream",
     "text": [
      " 44%|████▍     | 4400/10000 [3:24:29<3:53:18,  2.50s/it, episode_reward=180, running_reward=260]"
     ]
    },
    {
     "name": "stdout",
     "output_type": "stream",
     "text": [
      "Moviepy - Done !\n",
      "Moviepy - video ready /mnt/c/Users/Rwitobaan/Desktop/code/Reinforcement_project/Reinforcement_learning_project/videos/01_09_41.276997/SpaceInvaders-episode-4400.mp4\n"
     ]
    },
    {
     "name": "stderr",
     "output_type": "stream",
     "text": [
      " 44%|████▍     | 4401/10000 [3:24:31<3:52:56,  2.50s/it, episode_reward=210, running_reward=260]"
     ]
    },
    {
     "name": "stdout",
     "output_type": "stream",
     "text": [
      "Episode 4400: average reward: 259.52169961372414\n"
     ]
    },
    {
     "name": "stderr",
     "output_type": "stream",
     "text": [
      " 45%|████▍     | 4451/10000 [3:26:34<3:49:31,  2.48s/it, episode_reward=180, running_reward=259]"
     ]
    },
    {
     "name": "stdout",
     "output_type": "stream",
     "text": [
      "Episode 4450: average reward: 259.30240395416763\n"
     ]
    },
    {
     "name": "stderr",
     "output_type": "stream",
     "text": [
      " 45%|████▌     | 4500/10000 [3:28:37<4:02:39,  2.65s/it, episode_reward=260, running_reward=259]"
     ]
    },
    {
     "name": "stdout",
     "output_type": "stream",
     "text": [
      "Moviepy - Building video /mnt/c/Users/Rwitobaan/Desktop/code/Reinforcement_project/Reinforcement_learning_project/videos/01_09_41.276997/SpaceInvaders-episode-4500.mp4.\n",
      "Moviepy - Writing video /mnt/c/Users/Rwitobaan/Desktop/code/Reinforcement_project/Reinforcement_learning_project/videos/01_09_41.276997/SpaceInvaders-episode-4500.mp4\n",
      "\n"
     ]
    },
    {
     "name": "stderr",
     "output_type": "stream",
     "text": [
      " 45%|████▌     | 4500/10000 [3:28:38<4:02:39,  2.65s/it, episode_reward=260, running_reward=259]"
     ]
    },
    {
     "name": "stdout",
     "output_type": "stream",
     "text": [
      "Moviepy - Done !\n",
      "Moviepy - video ready /mnt/c/Users/Rwitobaan/Desktop/code/Reinforcement_project/Reinforcement_learning_project/videos/01_09_41.276997/SpaceInvaders-episode-4500.mp4\n"
     ]
    },
    {
     "name": "stderr",
     "output_type": "stream",
     "text": [
      " 45%|████▌     | 4501/10000 [3:28:39<4:19:47,  2.83s/it, episode_reward=330, running_reward=259]"
     ]
    },
    {
     "name": "stdout",
     "output_type": "stream",
     "text": [
      "Episode 4500: average reward: 259.2346145301044\n"
     ]
    },
    {
     "name": "stderr",
     "output_type": "stream",
     "text": [
      " 46%|████▌     | 4551/10000 [3:30:43<3:55:28,  2.59s/it, episode_reward=275, running_reward=259]"
     ]
    },
    {
     "name": "stdout",
     "output_type": "stream",
     "text": [
      "Episode 4550: average reward: 259.0364754998901\n"
     ]
    },
    {
     "name": "stderr",
     "output_type": "stream",
     "text": [
      " 46%|████▌     | 4600/10000 [3:32:58<4:17:40,  2.86s/it, episode_reward=315, running_reward=259]"
     ]
    },
    {
     "name": "stdout",
     "output_type": "stream",
     "text": [
      "Moviepy - Building video /mnt/c/Users/Rwitobaan/Desktop/code/Reinforcement_project/Reinforcement_learning_project/videos/01_09_41.276997/SpaceInvaders-episode-4600.mp4.\n",
      "Moviepy - Writing video /mnt/c/Users/Rwitobaan/Desktop/code/Reinforcement_project/Reinforcement_learning_project/videos/01_09_41.276997/SpaceInvaders-episode-4600.mp4\n",
      "\n"
     ]
    },
    {
     "name": "stderr",
     "output_type": "stream",
     "text": [
      " 46%|████▌     | 4600/10000 [3:32:58<4:17:40,  2.86s/it, episode_reward=315, running_reward=259]"
     ]
    },
    {
     "name": "stdout",
     "output_type": "stream",
     "text": [
      "Moviepy - Done !\n",
      "Moviepy - video ready /mnt/c/Users/Rwitobaan/Desktop/code/Reinforcement_project/Reinforcement_learning_project/videos/01_09_41.276997/SpaceInvaders-episode-4600.mp4\n"
     ]
    },
    {
     "name": "stderr",
     "output_type": "stream",
     "text": [
      " 46%|████▌     | 4601/10000 [3:32:59<4:24:23,  2.94s/it, episode_reward=240, running_reward=259]"
     ]
    },
    {
     "name": "stdout",
     "output_type": "stream",
     "text": [
      "Episode 4600: average reward: 259.1317104977179\n"
     ]
    },
    {
     "name": "stderr",
     "output_type": "stream",
     "text": [
      " 47%|████▋     | 4651/10000 [3:35:16<4:05:10,  2.75s/it, episode_reward=210, running_reward=259]"
     ]
    },
    {
     "name": "stdout",
     "output_type": "stream",
     "text": [
      "Episode 4650: average reward: 259.19587185551495\n"
     ]
    },
    {
     "name": "stderr",
     "output_type": "stream",
     "text": [
      " 47%|████▋     | 4700/10000 [3:37:35<3:54:09,  2.65s/it, episode_reward=285, running_reward=259]"
     ]
    },
    {
     "name": "stdout",
     "output_type": "stream",
     "text": [
      "Moviepy - Building video /mnt/c/Users/Rwitobaan/Desktop/code/Reinforcement_project/Reinforcement_learning_project/videos/01_09_41.276997/SpaceInvaders-episode-4700.mp4.\n",
      "Moviepy - Writing video /mnt/c/Users/Rwitobaan/Desktop/code/Reinforcement_project/Reinforcement_learning_project/videos/01_09_41.276997/SpaceInvaders-episode-4700.mp4\n",
      "\n"
     ]
    },
    {
     "name": "stderr",
     "output_type": "stream",
     "text": [
      " 47%|████▋     | 4700/10000 [3:37:35<3:54:09,  2.65s/it, episode_reward=285, running_reward=259]"
     ]
    },
    {
     "name": "stdout",
     "output_type": "stream",
     "text": [
      "Moviepy - Done !\n",
      "Moviepy - video ready /mnt/c/Users/Rwitobaan/Desktop/code/Reinforcement_project/Reinforcement_learning_project/videos/01_09_41.276997/SpaceInvaders-episode-4700.mp4\n"
     ]
    },
    {
     "name": "stderr",
     "output_type": "stream",
     "text": [
      " 47%|████▋     | 4701/10000 [3:37:36<3:41:50,  2.51s/it, episode_reward=105, running_reward=259]"
     ]
    },
    {
     "name": "stdout",
     "output_type": "stream",
     "text": [
      "Episode 4700: average reward: 259.18953414167197\n"
     ]
    },
    {
     "name": "stderr",
     "output_type": "stream",
     "text": [
      " 48%|████▊     | 4751/10000 [3:39:44<3:31:25,  2.42s/it, episode_reward=210, running_reward=259]"
     ]
    },
    {
     "name": "stdout",
     "output_type": "stream",
     "text": [
      "Episode 4750: average reward: 259.0591454430646\n"
     ]
    },
    {
     "name": "stderr",
     "output_type": "stream",
     "text": [
      " 48%|████▊     | 4800/10000 [3:41:44<3:22:40,  2.34s/it, episode_reward=265, running_reward=259]"
     ]
    },
    {
     "name": "stdout",
     "output_type": "stream",
     "text": [
      "Moviepy - Building video /mnt/c/Users/Rwitobaan/Desktop/code/Reinforcement_project/Reinforcement_learning_project/videos/01_09_41.276997/SpaceInvaders-episode-4800.mp4.\n",
      "Moviepy - Writing video /mnt/c/Users/Rwitobaan/Desktop/code/Reinforcement_project/Reinforcement_learning_project/videos/01_09_41.276997/SpaceInvaders-episode-4800.mp4\n",
      "\n"
     ]
    },
    {
     "name": "stderr",
     "output_type": "stream",
     "text": [
      " 48%|████▊     | 4800/10000 [3:41:44<3:22:40,  2.34s/it, episode_reward=265, running_reward=259]"
     ]
    },
    {
     "name": "stdout",
     "output_type": "stream",
     "text": [
      "Moviepy - Done !\n",
      "Moviepy - video ready /mnt/c/Users/Rwitobaan/Desktop/code/Reinforcement_project/Reinforcement_learning_project/videos/01_09_41.276997/SpaceInvaders-episode-4800.mp4\n"
     ]
    },
    {
     "name": "stderr",
     "output_type": "stream",
     "text": [
      " 48%|████▊     | 4801/10000 [3:41:45<3:32:38,  2.45s/it, episode_reward=285, running_reward=259]"
     ]
    },
    {
     "name": "stdout",
     "output_type": "stream",
     "text": [
      "Episode 4800: average reward: 258.8523224328265\n"
     ]
    },
    {
     "name": "stderr",
     "output_type": "stream",
     "text": [
      " 49%|████▊     | 4851/10000 [3:43:43<3:47:06,  2.65s/it, episode_reward=245, running_reward=258]"
     ]
    },
    {
     "name": "stdout",
     "output_type": "stream",
     "text": [
      "Episode 4850: average reward: 258.48278705421563\n"
     ]
    },
    {
     "name": "stderr",
     "output_type": "stream",
     "text": [
      " 49%|████▉     | 4900/10000 [3:45:34<3:09:21,  2.23s/it, episode_reward=180, running_reward=258]"
     ]
    },
    {
     "name": "stdout",
     "output_type": "stream",
     "text": [
      "Moviepy - Building video /mnt/c/Users/Rwitobaan/Desktop/code/Reinforcement_project/Reinforcement_learning_project/videos/01_09_41.276997/SpaceInvaders-episode-4900.mp4.\n",
      "Moviepy - Writing video /mnt/c/Users/Rwitobaan/Desktop/code/Reinforcement_project/Reinforcement_learning_project/videos/01_09_41.276997/SpaceInvaders-episode-4900.mp4\n",
      "\n"
     ]
    },
    {
     "name": "stderr",
     "output_type": "stream",
     "text": [
      " 49%|████▉     | 4900/10000 [3:45:35<3:09:21,  2.23s/it, episode_reward=180, running_reward=258]"
     ]
    },
    {
     "name": "stdout",
     "output_type": "stream",
     "text": [
      "Moviepy - Done !\n",
      "Moviepy - video ready /mnt/c/Users/Rwitobaan/Desktop/code/Reinforcement_project/Reinforcement_learning_project/videos/01_09_41.276997/SpaceInvaders-episode-4900.mp4\n"
     ]
    },
    {
     "name": "stderr",
     "output_type": "stream",
     "text": [
      " 49%|████▉     | 4901/10000 [3:45:36<3:14:44,  2.29s/it, episode_reward=210, running_reward=258]"
     ]
    },
    {
     "name": "stdout",
     "output_type": "stream",
     "text": [
      "Episode 4900: average reward: 258.04121607835134\n"
     ]
    },
    {
     "name": "stderr",
     "output_type": "stream",
     "text": [
      " 50%|████▉     | 4951/10000 [3:47:36<3:23:08,  2.41s/it, episode_reward=155, running_reward=258]"
     ]
    },
    {
     "name": "stdout",
     "output_type": "stream",
     "text": [
      "Episode 4950: average reward: 257.7792365178752\n"
     ]
    },
    {
     "name": "stderr",
     "output_type": "stream",
     "text": [
      " 50%|█████     | 5000/10000 [3:49:41<3:25:07,  2.46s/it, episode_reward=215, running_reward=258]"
     ]
    },
    {
     "name": "stdout",
     "output_type": "stream",
     "text": [
      "Moviepy - Building video /mnt/c/Users/Rwitobaan/Desktop/code/Reinforcement_project/Reinforcement_learning_project/videos/01_09_41.276997/SpaceInvaders-episode-5000.mp4.\n",
      "Moviepy - Writing video /mnt/c/Users/Rwitobaan/Desktop/code/Reinforcement_project/Reinforcement_learning_project/videos/01_09_41.276997/SpaceInvaders-episode-5000.mp4\n",
      "\n"
     ]
    },
    {
     "name": "stderr",
     "output_type": "stream",
     "text": [
      " 50%|█████     | 5000/10000 [3:49:41<3:25:07,  2.46s/it, episode_reward=215, running_reward=258]"
     ]
    },
    {
     "name": "stdout",
     "output_type": "stream",
     "text": [
      "Moviepy - Done !\n",
      "Moviepy - video ready /mnt/c/Users/Rwitobaan/Desktop/code/Reinforcement_project/Reinforcement_learning_project/videos/01_09_41.276997/SpaceInvaders-episode-5000.mp4\n"
     ]
    },
    {
     "name": "stderr",
     "output_type": "stream",
     "text": [
      " 50%|█████     | 5001/10000 [3:49:42<3:26:45,  2.48s/it, episode_reward=135, running_reward=258]"
     ]
    },
    {
     "name": "stdout",
     "output_type": "stream",
     "text": [
      "Episode 5000: average reward: 257.7364527094581\n"
     ]
    },
    {
     "name": "stderr",
     "output_type": "stream",
     "text": [
      " 51%|█████     | 5051/10000 [3:51:37<3:36:42,  2.63s/it, episode_reward=255, running_reward=257]"
     ]
    },
    {
     "name": "stdout",
     "output_type": "stream",
     "text": [
      "Episode 5050: average reward: 257.321322510394\n"
     ]
    },
    {
     "name": "stderr",
     "output_type": "stream",
     "text": [
      " 51%|█████     | 5100/10000 [3:53:34<3:19:44,  2.45s/it, episode_reward=260, running_reward=257]"
     ]
    },
    {
     "name": "stdout",
     "output_type": "stream",
     "text": [
      "Moviepy - Building video /mnt/c/Users/Rwitobaan/Desktop/code/Reinforcement_project/Reinforcement_learning_project/videos/01_09_41.276997/SpaceInvaders-episode-5100.mp4.\n",
      "Moviepy - Writing video /mnt/c/Users/Rwitobaan/Desktop/code/Reinforcement_project/Reinforcement_learning_project/videos/01_09_41.276997/SpaceInvaders-episode-5100.mp4\n",
      "\n"
     ]
    },
    {
     "name": "stderr",
     "output_type": "stream",
     "text": [
      " 51%|█████     | 5100/10000 [3:53:34<3:19:44,  2.45s/it, episode_reward=260, running_reward=257]"
     ]
    },
    {
     "name": "stdout",
     "output_type": "stream",
     "text": [
      "Moviepy - Done !\n",
      "Moviepy - video ready /mnt/c/Users/Rwitobaan/Desktop/code/Reinforcement_project/Reinforcement_learning_project/videos/01_09_41.276997/SpaceInvaders-episode-5100.mp4\n"
     ]
    },
    {
     "name": "stderr",
     "output_type": "stream",
     "text": [
      " 51%|█████     | 5101/10000 [3:53:36<3:24:27,  2.50s/it, episode_reward=155, running_reward=257]"
     ]
    },
    {
     "name": "stdout",
     "output_type": "stream",
     "text": [
      "Episode 5100: average reward: 256.95157812193685\n"
     ]
    },
    {
     "name": "stderr",
     "output_type": "stream",
     "text": [
      " 52%|█████▏    | 5151/10000 [3:55:46<3:12:29,  2.38s/it, episode_reward=235, running_reward=257]"
     ]
    },
    {
     "name": "stdout",
     "output_type": "stream",
     "text": [
      "Episode 5150: average reward: 256.8462434478742\n"
     ]
    },
    {
     "name": "stderr",
     "output_type": "stream",
     "text": [
      " 52%|█████▏    | 5200/10000 [3:57:41<3:09:17,  2.37s/it, episode_reward=260, running_reward=257]"
     ]
    },
    {
     "name": "stdout",
     "output_type": "stream",
     "text": [
      "Moviepy - Building video /mnt/c/Users/Rwitobaan/Desktop/code/Reinforcement_project/Reinforcement_learning_project/videos/01_09_41.276997/SpaceInvaders-episode-5200.mp4.\n",
      "Moviepy - Writing video /mnt/c/Users/Rwitobaan/Desktop/code/Reinforcement_project/Reinforcement_learning_project/videos/01_09_41.276997/SpaceInvaders-episode-5200.mp4\n",
      "\n"
     ]
    },
    {
     "name": "stderr",
     "output_type": "stream",
     "text": [
      " 52%|█████▏    | 5200/10000 [3:57:41<3:09:17,  2.37s/it, episode_reward=260, running_reward=257]"
     ]
    },
    {
     "name": "stdout",
     "output_type": "stream",
     "text": [
      "Moviepy - Done !\n",
      "Moviepy - video ready /mnt/c/Users/Rwitobaan/Desktop/code/Reinforcement_project/Reinforcement_learning_project/videos/01_09_41.276997/SpaceInvaders-episode-5200.mp4\n"
     ]
    },
    {
     "name": "stderr",
     "output_type": "stream",
     "text": [
      " 52%|█████▏    | 5201/10000 [3:57:42<3:20:56,  2.51s/it, episode_reward=260, running_reward=257]"
     ]
    },
    {
     "name": "stdout",
     "output_type": "stream",
     "text": [
      "Episode 5200: average reward: 256.59392424533746\n"
     ]
    },
    {
     "name": "stderr",
     "output_type": "stream",
     "text": [
      " 53%|█████▎    | 5251/10000 [3:59:24<2:35:43,  1.97s/it, episode_reward=120, running_reward=256]"
     ]
    },
    {
     "name": "stdout",
     "output_type": "stream",
     "text": [
      "Episode 5250: average reward: 255.81889163968768\n"
     ]
    },
    {
     "name": "stderr",
     "output_type": "stream",
     "text": [
      " 53%|█████▎    | 5300/10000 [4:01:04<3:09:57,  2.42s/it, episode_reward=120, running_reward=255]"
     ]
    },
    {
     "name": "stdout",
     "output_type": "stream",
     "text": [
      "Moviepy - Building video /mnt/c/Users/Rwitobaan/Desktop/code/Reinforcement_project/Reinforcement_learning_project/videos/01_09_41.276997/SpaceInvaders-episode-5300.mp4.\n",
      "Moviepy - Writing video /mnt/c/Users/Rwitobaan/Desktop/code/Reinforcement_project/Reinforcement_learning_project/videos/01_09_41.276997/SpaceInvaders-episode-5300.mp4\n",
      "\n"
     ]
    },
    {
     "name": "stderr",
     "output_type": "stream",
     "text": [
      " 53%|█████▎    | 5300/10000 [4:01:04<3:09:57,  2.42s/it, episode_reward=120, running_reward=255]"
     ]
    },
    {
     "name": "stdout",
     "output_type": "stream",
     "text": [
      "Moviepy - Done !\n",
      "Moviepy - video ready /mnt/c/Users/Rwitobaan/Desktop/code/Reinforcement_project/Reinforcement_learning_project/videos/01_09_41.276997/SpaceInvaders-episode-5300.mp4\n"
     ]
    },
    {
     "name": "stderr",
     "output_type": "stream",
     "text": [
      " 53%|█████▎    | 5301/10000 [4:01:05<2:56:38,  2.26s/it, episode_reward=150, running_reward=255]"
     ]
    },
    {
     "name": "stdout",
     "output_type": "stream",
     "text": [
      "Episode 5300: average reward: 255.07262780607434\n"
     ]
    },
    {
     "name": "stderr",
     "output_type": "stream",
     "text": [
      " 54%|█████▎    | 5351/10000 [4:03:03<3:13:45,  2.50s/it, episode_reward=215, running_reward=255]"
     ]
    },
    {
     "name": "stdout",
     "output_type": "stream",
     "text": [
      "Episode 5350: average reward: 254.8878714259017\n"
     ]
    },
    {
     "name": "stderr",
     "output_type": "stream",
     "text": [
      " 54%|█████▍    | 5400/10000 [4:05:04<2:58:18,  2.33s/it, episode_reward=285, running_reward=255]"
     ]
    },
    {
     "name": "stdout",
     "output_type": "stream",
     "text": [
      "Moviepy - Building video /mnt/c/Users/Rwitobaan/Desktop/code/Reinforcement_project/Reinforcement_learning_project/videos/01_09_41.276997/SpaceInvaders-episode-5400.mp4.\n",
      "Moviepy - Writing video /mnt/c/Users/Rwitobaan/Desktop/code/Reinforcement_project/Reinforcement_learning_project/videos/01_09_41.276997/SpaceInvaders-episode-5400.mp4\n",
      "\n"
     ]
    },
    {
     "name": "stderr",
     "output_type": "stream",
     "text": [
      " 54%|█████▍    | 5400/10000 [4:05:04<2:58:18,  2.33s/it, episode_reward=285, running_reward=255]"
     ]
    },
    {
     "name": "stdout",
     "output_type": "stream",
     "text": [
      "Moviepy - Done !\n",
      "Moviepy - video ready /mnt/c/Users/Rwitobaan/Desktop/code/Reinforcement_project/Reinforcement_learning_project/videos/01_09_41.276997/SpaceInvaders-episode-5400.mp4\n"
     ]
    },
    {
     "name": "stderr",
     "output_type": "stream",
     "text": [
      " 54%|█████▍    | 5401/10000 [4:05:05<3:01:10,  2.36s/it, episode_reward=225, running_reward=255]"
     ]
    },
    {
     "name": "stdout",
     "output_type": "stream",
     "text": [
      "Episode 5400: average reward: 254.7824476948713\n"
     ]
    },
    {
     "name": "stderr",
     "output_type": "stream",
     "text": [
      " 55%|█████▍    | 5451/10000 [4:07:05<3:14:49,  2.57s/it, episode_reward=215, running_reward=255]"
     ]
    },
    {
     "name": "stdout",
     "output_type": "stream",
     "text": [
      "Episode 5450: average reward: 254.51018161805175\n"
     ]
    },
    {
     "name": "stderr",
     "output_type": "stream",
     "text": [
      " 55%|█████▌    | 5500/10000 [4:09:20<3:04:18,  2.46s/it, episode_reward=180, running_reward=255]"
     ]
    },
    {
     "name": "stdout",
     "output_type": "stream",
     "text": [
      "Moviepy - Building video /mnt/c/Users/Rwitobaan/Desktop/code/Reinforcement_project/Reinforcement_learning_project/videos/01_09_41.276997/SpaceInvaders-episode-5500.mp4.\n",
      "Moviepy - Writing video /mnt/c/Users/Rwitobaan/Desktop/code/Reinforcement_project/Reinforcement_learning_project/videos/01_09_41.276997/SpaceInvaders-episode-5500.mp4\n",
      "\n"
     ]
    },
    {
     "name": "stderr",
     "output_type": "stream",
     "text": [
      " 55%|█████▌    | 5500/10000 [4:09:21<3:04:18,  2.46s/it, episode_reward=180, running_reward=255]"
     ]
    },
    {
     "name": "stdout",
     "output_type": "stream",
     "text": [
      "Moviepy - Done !\n",
      "Moviepy - video ready /mnt/c/Users/Rwitobaan/Desktop/code/Reinforcement_project/Reinforcement_learning_project/videos/01_09_41.276997/SpaceInvaders-episode-5500.mp4\n"
     ]
    },
    {
     "name": "stderr",
     "output_type": "stream",
     "text": [
      " 55%|█████▌    | 5501/10000 [4:09:22<3:09:03,  2.52s/it, episode_reward=185, running_reward=255]"
     ]
    },
    {
     "name": "stdout",
     "output_type": "stream",
     "text": [
      "Episode 5500: average reward: 254.62734048354844\n"
     ]
    },
    {
     "name": "stderr",
     "output_type": "stream",
     "text": [
      " 56%|█████▌    | 5551/10000 [4:11:31<3:06:26,  2.51s/it, episode_reward=285, running_reward=255]"
     ]
    },
    {
     "name": "stdout",
     "output_type": "stream",
     "text": [
      "Episode 5550: average reward: 254.65141415961088\n"
     ]
    },
    {
     "name": "stderr",
     "output_type": "stream",
     "text": [
      " 56%|█████▌    | 5600/10000 [4:13:52<3:27:51,  2.83s/it, episode_reward=240, running_reward=255]"
     ]
    },
    {
     "name": "stdout",
     "output_type": "stream",
     "text": [
      "Moviepy - Building video /mnt/c/Users/Rwitobaan/Desktop/code/Reinforcement_project/Reinforcement_learning_project/videos/01_09_41.276997/SpaceInvaders-episode-5600.mp4.\n",
      "Moviepy - Writing video /mnt/c/Users/Rwitobaan/Desktop/code/Reinforcement_project/Reinforcement_learning_project/videos/01_09_41.276997/SpaceInvaders-episode-5600.mp4\n",
      "\n"
     ]
    },
    {
     "name": "stderr",
     "output_type": "stream",
     "text": [
      " 56%|█████▌    | 5600/10000 [4:13:52<3:27:51,  2.83s/it, episode_reward=240, running_reward=255]"
     ]
    },
    {
     "name": "stdout",
     "output_type": "stream",
     "text": [
      "Moviepy - Done !\n",
      "Moviepy - video ready /mnt/c/Users/Rwitobaan/Desktop/code/Reinforcement_project/Reinforcement_learning_project/videos/01_09_41.276997/SpaceInvaders-episode-5600.mp4\n"
     ]
    },
    {
     "name": "stderr",
     "output_type": "stream",
     "text": [
      " 56%|█████▌    | 5601/10000 [4:13:53<3:23:21,  2.77s/it, episode_reward=210, running_reward=255]"
     ]
    },
    {
     "name": "stdout",
     "output_type": "stream",
     "text": [
      "Episode 5600: average reward: 254.9812533476165\n"
     ]
    },
    {
     "name": "stderr",
     "output_type": "stream",
     "text": [
      " 57%|█████▋    | 5651/10000 [4:16:10<3:58:09,  3.29s/it, episode_reward=315, running_reward=255]"
     ]
    },
    {
     "name": "stdout",
     "output_type": "stream",
     "text": [
      "Episode 5650: average reward: 255.08936471420986\n"
     ]
    },
    {
     "name": "stderr",
     "output_type": "stream",
     "text": [
      " 57%|█████▋    | 5700/10000 [4:18:33<3:19:36,  2.79s/it, episode_reward=240, running_reward=255] "
     ]
    },
    {
     "name": "stdout",
     "output_type": "stream",
     "text": [
      "Moviepy - Building video /mnt/c/Users/Rwitobaan/Desktop/code/Reinforcement_project/Reinforcement_learning_project/videos/01_09_41.276997/SpaceInvaders-episode-5700.mp4.\n",
      "Moviepy - Writing video /mnt/c/Users/Rwitobaan/Desktop/code/Reinforcement_project/Reinforcement_learning_project/videos/01_09_41.276997/SpaceInvaders-episode-5700.mp4\n",
      "\n"
     ]
    },
    {
     "name": "stderr",
     "output_type": "stream",
     "text": [
      " 57%|█████▋    | 5700/10000 [4:18:34<3:19:36,  2.79s/it, episode_reward=240, running_reward=255]"
     ]
    },
    {
     "name": "stdout",
     "output_type": "stream",
     "text": [
      "Moviepy - Done !\n",
      "Moviepy - video ready /mnt/c/Users/Rwitobaan/Desktop/code/Reinforcement_project/Reinforcement_learning_project/videos/01_09_41.276997/SpaceInvaders-episode-5700.mp4\n"
     ]
    },
    {
     "name": "stderr",
     "output_type": "stream",
     "text": [
      " 57%|█████▋    | 5701/10000 [4:18:35<3:31:02,  2.95s/it, episode_reward=265, running_reward=256]"
     ]
    },
    {
     "name": "stdout",
     "output_type": "stream",
     "text": [
      "Episode 5700: average reward: 255.50078933520436\n"
     ]
    },
    {
     "name": "stderr",
     "output_type": "stream",
     "text": [
      " 58%|█████▊    | 5751/10000 [4:21:05<3:37:02,  3.06s/it, episode_reward=460, running_reward=256]"
     ]
    },
    {
     "name": "stdout",
     "output_type": "stream",
     "text": [
      "Episode 5750: average reward: 255.81377151799688\n"
     ]
    },
    {
     "name": "stderr",
     "output_type": "stream",
     "text": [
      " 58%|█████▊    | 5800/10000 [4:23:35<3:15:55,  2.80s/it, episode_reward=260, running_reward=256]"
     ]
    },
    {
     "name": "stdout",
     "output_type": "stream",
     "text": [
      "Moviepy - Building video /mnt/c/Users/Rwitobaan/Desktop/code/Reinforcement_project/Reinforcement_learning_project/videos/01_09_41.276997/SpaceInvaders-episode-5800.mp4.\n",
      "Moviepy - Writing video /mnt/c/Users/Rwitobaan/Desktop/code/Reinforcement_project/Reinforcement_learning_project/videos/01_09_41.276997/SpaceInvaders-episode-5800.mp4\n",
      "\n"
     ]
    },
    {
     "name": "stderr",
     "output_type": "stream",
     "text": [
      " 58%|█████▊    | 5800/10000 [4:23:36<3:15:55,  2.80s/it, episode_reward=260, running_reward=256]"
     ]
    },
    {
     "name": "stdout",
     "output_type": "stream",
     "text": [
      "Moviepy - Done !\n",
      "Moviepy - video ready /mnt/c/Users/Rwitobaan/Desktop/code/Reinforcement_project/Reinforcement_learning_project/videos/01_09_41.276997/SpaceInvaders-episode-5800.mp4\n"
     ]
    },
    {
     "name": "stderr",
     "output_type": "stream",
     "text": [
      " 58%|█████▊    | 5801/10000 [4:23:37<3:21:18,  2.88s/it, episode_reward=440, running_reward=256]"
     ]
    },
    {
     "name": "stdout",
     "output_type": "stream",
     "text": [
      "Episode 5800: average reward: 256.01534218238237\n"
     ]
    },
    {
     "name": "stderr",
     "output_type": "stream",
     "text": [
      " 59%|█████▊    | 5851/10000 [4:25:35<3:20:19,  2.90s/it, episode_reward=345, running_reward=256]"
     ]
    },
    {
     "name": "stdout",
     "output_type": "stream",
     "text": [
      "Episode 5850: average reward: 255.79815416168177\n"
     ]
    },
    {
     "name": "stderr",
     "output_type": "stream",
     "text": [
      " 59%|█████▉    | 5900/10000 [4:27:43<3:29:15,  3.06s/it, episode_reward=390, running_reward=256]"
     ]
    },
    {
     "name": "stdout",
     "output_type": "stream",
     "text": [
      "Moviepy - Building video /mnt/c/Users/Rwitobaan/Desktop/code/Reinforcement_project/Reinforcement_learning_project/videos/01_09_41.276997/SpaceInvaders-episode-5900.mp4.\n",
      "Moviepy - Writing video /mnt/c/Users/Rwitobaan/Desktop/code/Reinforcement_project/Reinforcement_learning_project/videos/01_09_41.276997/SpaceInvaders-episode-5900.mp4\n",
      "\n"
     ]
    },
    {
     "name": "stderr",
     "output_type": "stream",
     "text": [
      " 59%|█████▉    | 5900/10000 [4:27:43<3:29:15,  3.06s/it, episode_reward=390, running_reward=256]"
     ]
    },
    {
     "name": "stdout",
     "output_type": "stream",
     "text": [
      "Moviepy - Done !\n",
      "Moviepy - video ready /mnt/c/Users/Rwitobaan/Desktop/code/Reinforcement_project/Reinforcement_learning_project/videos/01_09_41.276997/SpaceInvaders-episode-5900.mp4\n"
     ]
    },
    {
     "name": "stderr",
     "output_type": "stream",
     "text": [
      " 59%|█████▉    | 5901/10000 [4:27:45<3:24:11,  2.99s/it, episode_reward=260, running_reward=256]"
     ]
    },
    {
     "name": "stdout",
     "output_type": "stream",
     "text": [
      "Episode 5900: average reward: 255.70411794611084\n"
     ]
    },
    {
     "name": "stderr",
     "output_type": "stream",
     "text": [
      " 60%|█████▉    | 5951/10000 [4:30:12<3:17:21,  2.92s/it, episode_reward=275, running_reward=256]"
     ]
    },
    {
     "name": "stdout",
     "output_type": "stream",
     "text": [
      "Episode 5950: average reward: 256.09981515711644\n"
     ]
    },
    {
     "name": "stderr",
     "output_type": "stream",
     "text": [
      " 60%|██████    | 6000/10000 [4:32:44<3:15:22,  2.93s/it, episode_reward=210, running_reward=256]"
     ]
    },
    {
     "name": "stdout",
     "output_type": "stream",
     "text": [
      "Moviepy - Building video /mnt/c/Users/Rwitobaan/Desktop/code/Reinforcement_project/Reinforcement_learning_project/videos/01_09_41.276997/SpaceInvaders-episode-6000.mp4.\n",
      "Moviepy - Writing video /mnt/c/Users/Rwitobaan/Desktop/code/Reinforcement_project/Reinforcement_learning_project/videos/01_09_41.276997/SpaceInvaders-episode-6000.mp4\n",
      "\n"
     ]
    },
    {
     "name": "stderr",
     "output_type": "stream",
     "text": [
      " 60%|██████    | 6000/10000 [4:32:44<3:15:22,  2.93s/it, episode_reward=210, running_reward=256]"
     ]
    },
    {
     "name": "stdout",
     "output_type": "stream",
     "text": [
      "Moviepy - Done !\n",
      "Moviepy - video ready /mnt/c/Users/Rwitobaan/Desktop/code/Reinforcement_project/Reinforcement_learning_project/videos/01_09_41.276997/SpaceInvaders-episode-6000.mp4\n"
     ]
    },
    {
     "name": "stderr",
     "output_type": "stream",
     "text": [
      " 60%|██████    | 6001/10000 [4:32:46<3:22:51,  3.04s/it, episode_reward=490, running_reward=256]"
     ]
    },
    {
     "name": "stdout",
     "output_type": "stream",
     "text": [
      "Episode 6000: average reward: 256.4880853191135\n"
     ]
    },
    {
     "name": "stderr",
     "output_type": "stream",
     "text": [
      " 61%|██████    | 6051/10000 [4:35:06<3:24:41,  3.11s/it, episode_reward=365, running_reward=257]"
     ]
    },
    {
     "name": "stdout",
     "output_type": "stream",
     "text": [
      "Episode 6050: average reward: 256.6823665509833\n"
     ]
    },
    {
     "name": "stderr",
     "output_type": "stream",
     "text": [
      " 61%|██████    | 6100/10000 [4:37:24<2:48:51,  2.60s/it, episode_reward=180, running_reward=257]"
     ]
    },
    {
     "name": "stdout",
     "output_type": "stream",
     "text": [
      "Moviepy - Building video /mnt/c/Users/Rwitobaan/Desktop/code/Reinforcement_project/Reinforcement_learning_project/videos/01_09_41.276997/SpaceInvaders-episode-6100.mp4.\n",
      "Moviepy - Writing video /mnt/c/Users/Rwitobaan/Desktop/code/Reinforcement_project/Reinforcement_learning_project/videos/01_09_41.276997/SpaceInvaders-episode-6100.mp4\n",
      "\n"
     ]
    },
    {
     "name": "stderr",
     "output_type": "stream",
     "text": [
      " 61%|██████    | 6100/10000 [4:37:24<2:48:51,  2.60s/it, episode_reward=180, running_reward=257]"
     ]
    },
    {
     "name": "stdout",
     "output_type": "stream",
     "text": [
      "Moviepy - Done !\n",
      "Moviepy - video ready /mnt/c/Users/Rwitobaan/Desktop/code/Reinforcement_project/Reinforcement_learning_project/videos/01_09_41.276997/SpaceInvaders-episode-6100.mp4\n"
     ]
    },
    {
     "name": "stderr",
     "output_type": "stream",
     "text": [
      " 61%|██████    | 6101/10000 [4:37:25<2:48:12,  2.59s/it, episode_reward=210, running_reward=257]"
     ]
    },
    {
     "name": "stdout",
     "output_type": "stream",
     "text": [
      "Episode 6100: average reward: 256.823471562039\n"
     ]
    },
    {
     "name": "stderr",
     "output_type": "stream",
     "text": [
      " 62%|██████▏   | 6151/10000 [4:39:30<2:23:57,  2.24s/it, episode_reward=110, running_reward=257]"
     ]
    },
    {
     "name": "stdout",
     "output_type": "stream",
     "text": [
      "Episode 6150: average reward: 256.7883271012843\n"
     ]
    },
    {
     "name": "stderr",
     "output_type": "stream",
     "text": [
      " 62%|██████▏   | 6200/10000 [4:41:46<2:37:10,  2.48s/it, episode_reward=210, running_reward=257]"
     ]
    },
    {
     "name": "stdout",
     "output_type": "stream",
     "text": [
      "Moviepy - Building video /mnt/c/Users/Rwitobaan/Desktop/code/Reinforcement_project/Reinforcement_learning_project/videos/01_09_41.276997/SpaceInvaders-episode-6200.mp4.\n",
      "Moviepy - Writing video /mnt/c/Users/Rwitobaan/Desktop/code/Reinforcement_project/Reinforcement_learning_project/videos/01_09_41.276997/SpaceInvaders-episode-6200.mp4\n",
      "\n"
     ]
    },
    {
     "name": "stderr",
     "output_type": "stream",
     "text": [
      " 62%|██████▏   | 6200/10000 [4:41:46<2:37:10,  2.48s/it, episode_reward=210, running_reward=257]"
     ]
    },
    {
     "name": "stdout",
     "output_type": "stream",
     "text": [
      "Moviepy - Done !\n",
      "Moviepy - video ready /mnt/c/Users/Rwitobaan/Desktop/code/Reinforcement_project/Reinforcement_learning_project/videos/01_09_41.276997/SpaceInvaders-episode-6200.mp4\n"
     ]
    },
    {
     "name": "stderr",
     "output_type": "stream",
     "text": [
      " 62%|██████▏   | 6201/10000 [4:41:48<2:52:00,  2.72s/it, episode_reward=310, running_reward=257]"
     ]
    },
    {
     "name": "stdout",
     "output_type": "stream",
     "text": [
      "Episode 6200: average reward: 256.8940493468795\n"
     ]
    },
    {
     "name": "stderr",
     "output_type": "stream",
     "text": [
      " 63%|██████▎   | 6251/10000 [4:43:53<2:24:25,  2.31s/it, episode_reward=285, running_reward=257]"
     ]
    },
    {
     "name": "stdout",
     "output_type": "stream",
     "text": [
      "Episode 6250: average reward: 256.91649336106224\n"
     ]
    },
    {
     "name": "stderr",
     "output_type": "stream",
     "text": [
      " 63%|██████▎   | 6300/10000 [4:45:57<2:19:20,  2.26s/it, episode_reward=195, running_reward=257]"
     ]
    },
    {
     "name": "stdout",
     "output_type": "stream",
     "text": [
      "Moviepy - Building video /mnt/c/Users/Rwitobaan/Desktop/code/Reinforcement_project/Reinforcement_learning_project/videos/01_09_41.276997/SpaceInvaders-episode-6300.mp4.\n",
      "Moviepy - Writing video /mnt/c/Users/Rwitobaan/Desktop/code/Reinforcement_project/Reinforcement_learning_project/videos/01_09_41.276997/SpaceInvaders-episode-6300.mp4\n",
      "\n"
     ]
    },
    {
     "name": "stderr",
     "output_type": "stream",
     "text": [
      " 63%|██████▎   | 6300/10000 [4:45:57<2:19:20,  2.26s/it, episode_reward=195, running_reward=257]"
     ]
    },
    {
     "name": "stdout",
     "output_type": "stream",
     "text": [
      "Moviepy - Done !\n",
      "Moviepy - video ready /mnt/c/Users/Rwitobaan/Desktop/code/Reinforcement_project/Reinforcement_learning_project/videos/01_09_41.276997/SpaceInvaders-episode-6300.mp4\n"
     ]
    },
    {
     "name": "stderr",
     "output_type": "stream",
     "text": [
      " 63%|██████▎   | 6301/10000 [4:45:58<2:35:59,  2.53s/it, episode_reward=260, running_reward=257]"
     ]
    },
    {
     "name": "stdout",
     "output_type": "stream",
     "text": [
      "Episode 6300: average reward: 256.90922075860976\n"
     ]
    },
    {
     "name": "stderr",
     "output_type": "stream",
     "text": [
      " 64%|██████▎   | 6351/10000 [4:47:52<2:34:32,  2.54s/it, episode_reward=620, running_reward=257]"
     ]
    },
    {
     "name": "stdout",
     "output_type": "stream",
     "text": [
      "Episode 6350: average reward: 256.62100456621005\n"
     ]
    },
    {
     "name": "stderr",
     "output_type": "stream",
     "text": [
      " 64%|██████▍   | 6400/10000 [4:49:41<2:17:43,  2.30s/it, episode_reward=180, running_reward=256]"
     ]
    },
    {
     "name": "stdout",
     "output_type": "stream",
     "text": [
      "Moviepy - Building video /mnt/c/Users/Rwitobaan/Desktop/code/Reinforcement_project/Reinforcement_learning_project/videos/01_09_41.276997/SpaceInvaders-episode-6400.mp4.\n",
      "Moviepy - Writing video /mnt/c/Users/Rwitobaan/Desktop/code/Reinforcement_project/Reinforcement_learning_project/videos/01_09_41.276997/SpaceInvaders-episode-6400.mp4\n",
      "\n"
     ]
    },
    {
     "name": "stderr",
     "output_type": "stream",
     "text": [
      " 64%|██████▍   | 6400/10000 [4:49:41<2:17:43,  2.30s/it, episode_reward=180, running_reward=256]"
     ]
    },
    {
     "name": "stdout",
     "output_type": "stream",
     "text": [
      "Moviepy - Done !\n",
      "Moviepy - video ready /mnt/c/Users/Rwitobaan/Desktop/code/Reinforcement_project/Reinforcement_learning_project/videos/01_09_41.276997/SpaceInvaders-episode-6400.mp4\n"
     ]
    },
    {
     "name": "stderr",
     "output_type": "stream",
     "text": [
      " 64%|██████▍   | 6401/10000 [4:49:42<2:23:42,  2.40s/it, episode_reward=260, running_reward=256]"
     ]
    },
    {
     "name": "stdout",
     "output_type": "stream",
     "text": [
      "Episode 6400: average reward: 256.18028433057333\n"
     ]
    },
    {
     "name": "stderr",
     "output_type": "stream",
     "text": [
      " 65%|██████▍   | 6451/10000 [4:52:00<2:33:54,  2.60s/it, episode_reward=265, running_reward=256]"
     ]
    },
    {
     "name": "stdout",
     "output_type": "stream",
     "text": [
      "Episode 6450: average reward: 256.3455278251434\n"
     ]
    },
    {
     "name": "stderr",
     "output_type": "stream",
     "text": [
      " 65%|██████▌   | 6500/10000 [4:54:03<2:20:03,  2.40s/it, episode_reward=210, running_reward=256]"
     ]
    },
    {
     "name": "stdout",
     "output_type": "stream",
     "text": [
      "Moviepy - Building video /mnt/c/Users/Rwitobaan/Desktop/code/Reinforcement_project/Reinforcement_learning_project/videos/01_09_41.276997/SpaceInvaders-episode-6500.mp4.\n",
      "Moviepy - Writing video /mnt/c/Users/Rwitobaan/Desktop/code/Reinforcement_project/Reinforcement_learning_project/videos/01_09_41.276997/SpaceInvaders-episode-6500.mp4\n",
      "\n"
     ]
    },
    {
     "name": "stderr",
     "output_type": "stream",
     "text": [
      " 65%|██████▌   | 6500/10000 [4:54:03<2:20:03,  2.40s/it, episode_reward=210, running_reward=256]"
     ]
    },
    {
     "name": "stdout",
     "output_type": "stream",
     "text": [
      "Moviepy - Done !\n",
      "Moviepy - video ready /mnt/c/Users/Rwitobaan/Desktop/code/Reinforcement_project/Reinforcement_learning_project/videos/01_09_41.276997/SpaceInvaders-episode-6500.mp4\n"
     ]
    },
    {
     "name": "stderr",
     "output_type": "stream",
     "text": [
      " 65%|██████▌   | 6501/10000 [4:54:04<2:32:52,  2.62s/it, episode_reward=290, running_reward=256]"
     ]
    },
    {
     "name": "stdout",
     "output_type": "stream",
     "text": [
      "Episode 6500: average reward: 256.1798184894632\n"
     ]
    },
    {
     "name": "stderr",
     "output_type": "stream",
     "text": [
      " 66%|██████▌   | 6551/10000 [4:56:17<2:14:37,  2.34s/it, episode_reward=210, running_reward=256]"
     ]
    },
    {
     "name": "stdout",
     "output_type": "stream",
     "text": [
      "Episode 6550: average reward: 256.1952373683407\n"
     ]
    },
    {
     "name": "stderr",
     "output_type": "stream",
     "text": [
      " 66%|██████▌   | 6600/10000 [4:58:23<2:18:03,  2.44s/it, episode_reward=185, running_reward=256]"
     ]
    },
    {
     "name": "stdout",
     "output_type": "stream",
     "text": [
      "Moviepy - Building video /mnt/c/Users/Rwitobaan/Desktop/code/Reinforcement_project/Reinforcement_learning_project/videos/01_09_41.276997/SpaceInvaders-episode-6600.mp4.\n",
      "Moviepy - Writing video /mnt/c/Users/Rwitobaan/Desktop/code/Reinforcement_project/Reinforcement_learning_project/videos/01_09_41.276997/SpaceInvaders-episode-6600.mp4\n",
      "\n"
     ]
    },
    {
     "name": "stderr",
     "output_type": "stream",
     "text": [
      " 66%|██████▌   | 6600/10000 [4:58:23<2:18:03,  2.44s/it, episode_reward=185, running_reward=256]"
     ]
    },
    {
     "name": "stdout",
     "output_type": "stream",
     "text": [
      "Moviepy - Done !\n",
      "Moviepy - video ready /mnt/c/Users/Rwitobaan/Desktop/code/Reinforcement_project/Reinforcement_learning_project/videos/01_09_41.276997/SpaceInvaders-episode-6600.mp4\n"
     ]
    },
    {
     "name": "stderr",
     "output_type": "stream",
     "text": [
      " 66%|██████▌   | 6601/10000 [4:58:25<2:20:19,  2.48s/it, episode_reward=255, running_reward=256]"
     ]
    },
    {
     "name": "stdout",
     "output_type": "stream",
     "text": [
      "Episode 6600: average reward: 256.10134828056357\n"
     ]
    },
    {
     "name": "stderr",
     "output_type": "stream",
     "text": [
      " 67%|██████▋   | 6651/10000 [5:00:29<2:28:31,  2.66s/it, episode_reward=240, running_reward=256]"
     ]
    },
    {
     "name": "stdout",
     "output_type": "stream",
     "text": [
      "Episode 6650: average reward: 256.00360847992783\n"
     ]
    },
    {
     "name": "stderr",
     "output_type": "stream",
     "text": [
      " 67%|██████▋   | 6700/10000 [5:02:43<2:32:07,  2.77s/it, episode_reward=325, running_reward=256]"
     ]
    },
    {
     "name": "stdout",
     "output_type": "stream",
     "text": [
      "Moviepy - Building video /mnt/c/Users/Rwitobaan/Desktop/code/Reinforcement_project/Reinforcement_learning_project/videos/01_09_41.276997/SpaceInvaders-episode-6700.mp4.\n",
      "Moviepy - Writing video /mnt/c/Users/Rwitobaan/Desktop/code/Reinforcement_project/Reinforcement_learning_project/videos/01_09_41.276997/SpaceInvaders-episode-6700.mp4\n",
      "\n"
     ]
    },
    {
     "name": "stderr",
     "output_type": "stream",
     "text": [
      " 67%|██████▋   | 6700/10000 [5:02:43<2:32:07,  2.77s/it, episode_reward=325, running_reward=256]"
     ]
    },
    {
     "name": "stdout",
     "output_type": "stream",
     "text": [
      "Moviepy - Done !\n",
      "Moviepy - video ready /mnt/c/Users/Rwitobaan/Desktop/code/Reinforcement_project/Reinforcement_learning_project/videos/01_09_41.276997/SpaceInvaders-episode-6700.mp4\n"
     ]
    },
    {
     "name": "stderr",
     "output_type": "stream",
     "text": [
      " 67%|██████▋   | 6701/10000 [5:02:44<2:28:16,  2.70s/it, episode_reward=210, running_reward=256]"
     ]
    },
    {
     "name": "stdout",
     "output_type": "stream",
     "text": [
      "Episode 6700: average reward: 256.26921355021636\n"
     ]
    },
    {
     "name": "stderr",
     "output_type": "stream",
     "text": [
      " 68%|██████▊   | 6751/10000 [5:04:38<2:08:49,  2.38s/it, episode_reward=290, running_reward=256]"
     ]
    },
    {
     "name": "stdout",
     "output_type": "stream",
     "text": [
      "Episode 6750: average reward: 255.99022367056733\n"
     ]
    },
    {
     "name": "stderr",
     "output_type": "stream",
     "text": [
      " 68%|██████▊   | 6800/10000 [5:06:32<1:50:10,  2.07s/it, episode_reward=440, running_reward=256]"
     ]
    },
    {
     "name": "stdout",
     "output_type": "stream",
     "text": [
      "Moviepy - Building video /mnt/c/Users/Rwitobaan/Desktop/code/Reinforcement_project/Reinforcement_learning_project/videos/01_09_41.276997/SpaceInvaders-episode-6800.mp4.\n",
      "Moviepy - Writing video /mnt/c/Users/Rwitobaan/Desktop/code/Reinforcement_project/Reinforcement_learning_project/videos/01_09_41.276997/SpaceInvaders-episode-6800.mp4\n",
      "\n"
     ]
    },
    {
     "name": "stderr",
     "output_type": "stream",
     "text": [
      " 68%|██████▊   | 6800/10000 [5:06:32<1:50:10,  2.07s/it, episode_reward=440, running_reward=256]"
     ]
    },
    {
     "name": "stdout",
     "output_type": "stream",
     "text": [
      "Moviepy - Done !\n",
      "Moviepy - video ready /mnt/c/Users/Rwitobaan/Desktop/code/Reinforcement_project/Reinforcement_learning_project/videos/01_09_41.276997/SpaceInvaders-episode-6800.mp4\n"
     ]
    },
    {
     "name": "stderr",
     "output_type": "stream",
     "text": [
      " 68%|██████▊   | 6801/10000 [5:06:33<1:47:29,  2.02s/it, episode_reward=120, running_reward=256]"
     ]
    },
    {
     "name": "stdout",
     "output_type": "stream",
     "text": [
      "Episode 6800: average reward: 255.90354359652991\n"
     ]
    },
    {
     "name": "stderr",
     "output_type": "stream",
     "text": [
      " 69%|██████▊   | 6851/10000 [5:08:27<1:58:40,  2.26s/it, episode_reward=290, running_reward=256]"
     ]
    },
    {
     "name": "stdout",
     "output_type": "stream",
     "text": [
      "Episode 6850: average reward: 255.68895051817253\n"
     ]
    },
    {
     "name": "stderr",
     "output_type": "stream",
     "text": [
      " 69%|██████▉   | 6900/10000 [5:10:34<1:46:28,  2.06s/it, episode_reward=260, running_reward=256]"
     ]
    },
    {
     "name": "stdout",
     "output_type": "stream",
     "text": [
      "Moviepy - Building video /mnt/c/Users/Rwitobaan/Desktop/code/Reinforcement_project/Reinforcement_learning_project/videos/01_09_41.276997/SpaceInvaders-episode-6900.mp4.\n",
      "Moviepy - Writing video /mnt/c/Users/Rwitobaan/Desktop/code/Reinforcement_project/Reinforcement_learning_project/videos/01_09_41.276997/SpaceInvaders-episode-6900.mp4\n",
      "\n"
     ]
    },
    {
     "name": "stderr",
     "output_type": "stream",
     "text": [
      " 69%|██████▉   | 6900/10000 [5:10:35<1:46:28,  2.06s/it, episode_reward=260, running_reward=256]"
     ]
    },
    {
     "name": "stdout",
     "output_type": "stream",
     "text": [
      "Moviepy - Done !\n",
      "Moviepy - video ready /mnt/c/Users/Rwitobaan/Desktop/code/Reinforcement_project/Reinforcement_learning_project/videos/01_09_41.276997/SpaceInvaders-episode-6900.mp4\n"
     ]
    },
    {
     "name": "stderr",
     "output_type": "stream",
     "text": [
      " 69%|██████▉   | 6901/10000 [5:10:36<1:54:51,  2.22s/it, episode_reward=260, running_reward=256]"
     ]
    },
    {
     "name": "stdout",
     "output_type": "stream",
     "text": [
      "Episode 6900: average reward: 255.7948123460368\n"
     ]
    },
    {
     "name": "stderr",
     "output_type": "stream",
     "text": [
      " 70%|██████▉   | 6951/10000 [5:12:31<2:15:27,  2.67s/it, episode_reward=240, running_reward=256]"
     ]
    },
    {
     "name": "stdout",
     "output_type": "stream",
     "text": [
      "Episode 6950: average reward: 255.55819306574594\n"
     ]
    },
    {
     "name": "stderr",
     "output_type": "stream",
     "text": [
      " 70%|███████   | 7000/10000 [5:14:20<1:48:15,  2.17s/it, episode_reward=285, running_reward=255]"
     ]
    },
    {
     "name": "stdout",
     "output_type": "stream",
     "text": [
      "Moviepy - Building video /mnt/c/Users/Rwitobaan/Desktop/code/Reinforcement_project/Reinforcement_learning_project/videos/01_09_41.276997/SpaceInvaders-episode-7000.mp4.\n",
      "Moviepy - Writing video /mnt/c/Users/Rwitobaan/Desktop/code/Reinforcement_project/Reinforcement_learning_project/videos/01_09_41.276997/SpaceInvaders-episode-7000.mp4\n",
      "\n"
     ]
    },
    {
     "name": "stderr",
     "output_type": "stream",
     "text": [
      " 70%|███████   | 7000/10000 [5:14:20<1:48:15,  2.17s/it, episode_reward=285, running_reward=255]"
     ]
    },
    {
     "name": "stdout",
     "output_type": "stream",
     "text": [
      "Moviepy - Done !\n",
      "Moviepy - video ready /mnt/c/Users/Rwitobaan/Desktop/code/Reinforcement_project/Reinforcement_learning_project/videos/01_09_41.276997/SpaceInvaders-episode-7000.mp4\n"
     ]
    },
    {
     "name": "stderr",
     "output_type": "stream",
     "text": [
      " 70%|███████   | 7001/10000 [5:14:21<1:54:17,  2.29s/it, episode_reward=260, running_reward=255]"
     ]
    },
    {
     "name": "stdout",
     "output_type": "stream",
     "text": [
      "Episode 7000: average reward: 255.20068561634054\n"
     ]
    },
    {
     "name": "stderr",
     "output_type": "stream",
     "text": [
      " 71%|███████   | 7051/10000 [5:16:17<1:36:19,  1.96s/it, episode_reward=155, running_reward=255]"
     ]
    },
    {
     "name": "stdout",
     "output_type": "stream",
     "text": [
      "Episode 7050: average reward: 254.9609984399376\n"
     ]
    },
    {
     "name": "stderr",
     "output_type": "stream",
     "text": [
      " 71%|███████   | 7100/10000 [5:18:05<1:36:16,  1.99s/it, episode_reward=110, running_reward=255]"
     ]
    },
    {
     "name": "stdout",
     "output_type": "stream",
     "text": [
      "Moviepy - Building video /mnt/c/Users/Rwitobaan/Desktop/code/Reinforcement_project/Reinforcement_learning_project/videos/01_09_41.276997/SpaceInvaders-episode-7100.mp4.\n",
      "Moviepy - Writing video /mnt/c/Users/Rwitobaan/Desktop/code/Reinforcement_project/Reinforcement_learning_project/videos/01_09_41.276997/SpaceInvaders-episode-7100.mp4\n",
      "\n"
     ]
    },
    {
     "name": "stderr",
     "output_type": "stream",
     "text": [
      " 71%|███████   | 7100/10000 [5:18:05<1:36:16,  1.99s/it, episode_reward=110, running_reward=255]"
     ]
    },
    {
     "name": "stdout",
     "output_type": "stream",
     "text": [
      "Moviepy - Done !\n",
      "Moviepy - video ready /mnt/c/Users/Rwitobaan/Desktop/code/Reinforcement_project/Reinforcement_learning_project/videos/01_09_41.276997/SpaceInvaders-episode-7100.mp4\n"
     ]
    },
    {
     "name": "stderr",
     "output_type": "stream",
     "text": [
      " 71%|███████   | 7101/10000 [5:18:06<1:35:04,  1.97s/it, episode_reward=155, running_reward=255]"
     ]
    },
    {
     "name": "stdout",
     "output_type": "stream",
     "text": [
      "Episode 7100: average reward: 254.65356991972962\n"
     ]
    },
    {
     "name": "stderr",
     "output_type": "stream",
     "text": [
      " 72%|███████▏  | 7151/10000 [5:19:51<1:53:57,  2.40s/it, episode_reward=180, running_reward=254]"
     ]
    },
    {
     "name": "stdout",
     "output_type": "stream",
     "text": [
      "Episode 7150: average reward: 254.20151027828277\n"
     ]
    },
    {
     "name": "stderr",
     "output_type": "stream",
     "text": [
      " 72%|███████▏  | 7200/10000 [5:21:53<2:14:06,  2.87s/it, episode_reward=470, running_reward=254]"
     ]
    },
    {
     "name": "stdout",
     "output_type": "stream",
     "text": [
      "Moviepy - Building video /mnt/c/Users/Rwitobaan/Desktop/code/Reinforcement_project/Reinforcement_learning_project/videos/01_09_41.276997/SpaceInvaders-episode-7200.mp4.\n",
      "Moviepy - Writing video /mnt/c/Users/Rwitobaan/Desktop/code/Reinforcement_project/Reinforcement_learning_project/videos/01_09_41.276997/SpaceInvaders-episode-7200.mp4\n",
      "\n"
     ]
    },
    {
     "name": "stderr",
     "output_type": "stream",
     "text": [
      " 72%|███████▏  | 7200/10000 [5:21:53<2:14:06,  2.87s/it, episode_reward=470, running_reward=254]"
     ]
    },
    {
     "name": "stdout",
     "output_type": "stream",
     "text": [
      "Moviepy - Done !\n",
      "Moviepy - video ready /mnt/c/Users/Rwitobaan/Desktop/code/Reinforcement_project/Reinforcement_learning_project/videos/01_09_41.276997/SpaceInvaders-episode-7200.mp4\n"
     ]
    },
    {
     "name": "stderr",
     "output_type": "stream",
     "text": [
      " 72%|███████▏  | 7201/10000 [5:21:55<2:13:37,  2.86s/it, episode_reward=260, running_reward=254]"
     ]
    },
    {
     "name": "stdout",
     "output_type": "stream",
     "text": [
      "Episode 7200: average reward: 254.0904041105402\n"
     ]
    },
    {
     "name": "stderr",
     "output_type": "stream",
     "text": [
      " 73%|███████▎  | 7251/10000 [5:23:53<1:49:44,  2.40s/it, episode_reward=135, running_reward=254]"
     ]
    },
    {
     "name": "stdout",
     "output_type": "stream",
     "text": [
      "Episode 7250: average reward: 253.92635498551923\n"
     ]
    },
    {
     "name": "stderr",
     "output_type": "stream",
     "text": [
      " 73%|███████▎  | 7300/10000 [5:25:38<1:35:54,  2.13s/it, episode_reward=295, running_reward=254]"
     ]
    },
    {
     "name": "stdout",
     "output_type": "stream",
     "text": [
      "Moviepy - Building video /mnt/c/Users/Rwitobaan/Desktop/code/Reinforcement_project/Reinforcement_learning_project/videos/01_09_41.276997/SpaceInvaders-episode-7300.mp4.\n",
      "Moviepy - Writing video /mnt/c/Users/Rwitobaan/Desktop/code/Reinforcement_project/Reinforcement_learning_project/videos/01_09_41.276997/SpaceInvaders-episode-7300.mp4\n",
      "\n"
     ]
    },
    {
     "name": "stderr",
     "output_type": "stream",
     "text": [
      " 73%|███████▎  | 7300/10000 [5:25:38<1:35:54,  2.13s/it, episode_reward=295, running_reward=254]"
     ]
    },
    {
     "name": "stdout",
     "output_type": "stream",
     "text": [
      "Moviepy - Done !\n",
      "Moviepy - video ready /mnt/c/Users/Rwitobaan/Desktop/code/Reinforcement_project/Reinforcement_learning_project/videos/01_09_41.276997/SpaceInvaders-episode-7300.mp4\n"
     ]
    },
    {
     "name": "stderr",
     "output_type": "stream",
     "text": [
      " 73%|███████▎  | 7301/10000 [5:25:39<1:34:47,  2.11s/it, episode_reward=125, running_reward=254]"
     ]
    },
    {
     "name": "stdout",
     "output_type": "stream",
     "text": [
      "Episode 7300: average reward: 253.5727982468155\n"
     ]
    },
    {
     "name": "stderr",
     "output_type": "stream",
     "text": [
      " 74%|███████▎  | 7351/10000 [5:27:34<1:44:06,  2.36s/it, episode_reward=225, running_reward=253]"
     ]
    },
    {
     "name": "stdout",
     "output_type": "stream",
     "text": [
      "Episode 7350: average reward: 253.37233029519794\n"
     ]
    },
    {
     "name": "stderr",
     "output_type": "stream",
     "text": [
      " 74%|███████▍  | 7400/10000 [5:29:43<1:53:01,  2.61s/it, episode_reward=210, running_reward=253]"
     ]
    },
    {
     "name": "stdout",
     "output_type": "stream",
     "text": [
      "Moviepy - Building video /mnt/c/Users/Rwitobaan/Desktop/code/Reinforcement_project/Reinforcement_learning_project/videos/01_09_41.276997/SpaceInvaders-episode-7400.mp4.\n",
      "Moviepy - Writing video /mnt/c/Users/Rwitobaan/Desktop/code/Reinforcement_project/Reinforcement_learning_project/videos/01_09_41.276997/SpaceInvaders-episode-7400.mp4\n",
      "\n"
     ]
    },
    {
     "name": "stderr",
     "output_type": "stream",
     "text": [
      " 74%|███████▍  | 7400/10000 [5:29:43<1:53:01,  2.61s/it, episode_reward=210, running_reward=253]"
     ]
    },
    {
     "name": "stdout",
     "output_type": "stream",
     "text": [
      "Moviepy - Done !\n",
      "Moviepy - video ready /mnt/c/Users/Rwitobaan/Desktop/code/Reinforcement_project/Reinforcement_learning_project/videos/01_09_41.276997/SpaceInvaders-episode-7400.mp4\n"
     ]
    },
    {
     "name": "stderr",
     "output_type": "stream",
     "text": [
      " 74%|███████▍  | 7401/10000 [5:29:45<2:02:05,  2.82s/it, episode_reward=400, running_reward=253]"
     ]
    },
    {
     "name": "stdout",
     "output_type": "stream",
     "text": [
      "Episode 7400: average reward: 253.38129982434805\n"
     ]
    },
    {
     "name": "stderr",
     "output_type": "stream",
     "text": [
      " 75%|███████▍  | 7451/10000 [5:31:39<1:42:59,  2.42s/it, episode_reward=155, running_reward=253]"
     ]
    },
    {
     "name": "stdout",
     "output_type": "stream",
     "text": [
      "Episode 7450: average reward: 253.06401825258354\n"
     ]
    },
    {
     "name": "stderr",
     "output_type": "stream",
     "text": [
      " 75%|███████▌  | 7500/10000 [5:33:22<1:24:01,  2.02s/it, episode_reward=210, running_reward=253]"
     ]
    },
    {
     "name": "stdout",
     "output_type": "stream",
     "text": [
      "Moviepy - Building video /mnt/c/Users/Rwitobaan/Desktop/code/Reinforcement_project/Reinforcement_learning_project/videos/01_09_41.276997/SpaceInvaders-episode-7500.mp4.\n",
      "Moviepy - Writing video /mnt/c/Users/Rwitobaan/Desktop/code/Reinforcement_project/Reinforcement_learning_project/videos/01_09_41.276997/SpaceInvaders-episode-7500.mp4\n",
      "\n"
     ]
    },
    {
     "name": "stderr",
     "output_type": "stream",
     "text": [
      " 75%|███████▌  | 7500/10000 [5:33:22<1:24:01,  2.02s/it, episode_reward=210, running_reward=253]"
     ]
    },
    {
     "name": "stdout",
     "output_type": "stream",
     "text": [
      "Moviepy - Done !\n",
      "Moviepy - video ready /mnt/c/Users/Rwitobaan/Desktop/code/Reinforcement_project/Reinforcement_learning_project/videos/01_09_41.276997/SpaceInvaders-episode-7500.mp4\n"
     ]
    },
    {
     "name": "stderr",
     "output_type": "stream",
     "text": [
      " 75%|███████▌  | 7501/10000 [5:33:23<1:22:26,  1.98s/it, episode_reward=105, running_reward=253]"
     ]
    },
    {
     "name": "stdout",
     "output_type": "stream",
     "text": [
      "Episode 7500: average reward: 252.64298093587522\n"
     ]
    },
    {
     "name": "stderr",
     "output_type": "stream",
     "text": [
      " 76%|███████▌  | 7551/10000 [5:35:14<1:27:23,  2.14s/it, episode_reward=120, running_reward=252]"
     ]
    },
    {
     "name": "stdout",
     "output_type": "stream",
     "text": [
      "Episode 7550: average reward: 252.36591179976162\n"
     ]
    },
    {
     "name": "stderr",
     "output_type": "stream",
     "text": [
      " 76%|███████▌  | 7600/10000 [5:37:03<1:21:31,  2.04s/it, episode_reward=105, running_reward=252]"
     ]
    },
    {
     "name": "stdout",
     "output_type": "stream",
     "text": [
      "Moviepy - Building video /mnt/c/Users/Rwitobaan/Desktop/code/Reinforcement_project/Reinforcement_learning_project/videos/01_09_41.276997/SpaceInvaders-episode-7600.mp4.\n",
      "Moviepy - Writing video /mnt/c/Users/Rwitobaan/Desktop/code/Reinforcement_project/Reinforcement_learning_project/videos/01_09_41.276997/SpaceInvaders-episode-7600.mp4\n",
      "\n"
     ]
    },
    {
     "name": "stderr",
     "output_type": "stream",
     "text": [
      " 76%|███████▌  | 7600/10000 [5:37:03<1:21:31,  2.04s/it, episode_reward=105, running_reward=252]"
     ]
    },
    {
     "name": "stdout",
     "output_type": "stream",
     "text": [
      "Moviepy - Done !\n",
      "Moviepy - video ready /mnt/c/Users/Rwitobaan/Desktop/code/Reinforcement_project/Reinforcement_learning_project/videos/01_09_41.276997/SpaceInvaders-episode-7600.mp4\n"
     ]
    },
    {
     "name": "stderr",
     "output_type": "stream",
     "text": [
      " 76%|███████▌  | 7601/10000 [5:37:04<1:29:28,  2.24s/it, episode_reward=205, running_reward=252]"
     ]
    },
    {
     "name": "stdout",
     "output_type": "stream",
     "text": [
      "Episode 7600: average reward: 252.0142086567557\n"
     ]
    },
    {
     "name": "stderr",
     "output_type": "stream",
     "text": [
      " 77%|███████▋  | 7651/10000 [5:38:58<1:38:35,  2.52s/it, episode_reward=105, running_reward=252]"
     ]
    },
    {
     "name": "stdout",
     "output_type": "stream",
     "text": [
      "Episode 7650: average reward: 251.733106783427\n"
     ]
    },
    {
     "name": "stderr",
     "output_type": "stream",
     "text": [
      " 77%|███████▋  | 7700/10000 [5:40:55<1:17:45,  2.03s/it, episode_reward=135, running_reward=252]"
     ]
    },
    {
     "name": "stdout",
     "output_type": "stream",
     "text": [
      "Moviepy - Building video /mnt/c/Users/Rwitobaan/Desktop/code/Reinforcement_project/Reinforcement_learning_project/videos/01_09_41.276997/SpaceInvaders-episode-7700.mp4.\n",
      "Moviepy - Writing video /mnt/c/Users/Rwitobaan/Desktop/code/Reinforcement_project/Reinforcement_learning_project/videos/01_09_41.276997/SpaceInvaders-episode-7700.mp4\n",
      "\n"
     ]
    },
    {
     "name": "stderr",
     "output_type": "stream",
     "text": [
      " 77%|███████▋  | 7700/10000 [5:40:56<1:17:45,  2.03s/it, episode_reward=135, running_reward=252]"
     ]
    },
    {
     "name": "stdout",
     "output_type": "stream",
     "text": [
      "Moviepy - Done !\n",
      "Moviepy - video ready /mnt/c/Users/Rwitobaan/Desktop/code/Reinforcement_project/Reinforcement_learning_project/videos/01_09_41.276997/SpaceInvaders-episode-7700.mp4\n"
     ]
    },
    {
     "name": "stderr",
     "output_type": "stream",
     "text": [
      " 77%|███████▋  | 7701/10000 [5:40:57<1:25:50,  2.24s/it, episode_reward=195, running_reward=252]"
     ]
    },
    {
     "name": "stdout",
     "output_type": "stream",
     "text": [
      "Episode 7700: average reward: 251.50175301908843\n"
     ]
    },
    {
     "name": "stderr",
     "output_type": "stream",
     "text": [
      " 78%|███████▊  | 7751/10000 [5:43:02<1:43:46,  2.77s/it, episode_reward=470, running_reward=251]"
     ]
    },
    {
     "name": "stdout",
     "output_type": "stream",
     "text": [
      "Episode 7750: average reward: 251.47593858856922\n"
     ]
    },
    {
     "name": "stderr",
     "output_type": "stream",
     "text": [
      " 78%|███████▊  | 7800/10000 [5:45:21<1:45:52,  2.89s/it, episode_reward=285, running_reward=252]"
     ]
    },
    {
     "name": "stdout",
     "output_type": "stream",
     "text": [
      "Moviepy - Building video /mnt/c/Users/Rwitobaan/Desktop/code/Reinforcement_project/Reinforcement_learning_project/videos/01_09_41.276997/SpaceInvaders-episode-7800.mp4.\n",
      "Moviepy - Writing video /mnt/c/Users/Rwitobaan/Desktop/code/Reinforcement_project/Reinforcement_learning_project/videos/01_09_41.276997/SpaceInvaders-episode-7800.mp4\n",
      "\n"
     ]
    },
    {
     "name": "stderr",
     "output_type": "stream",
     "text": [
      " 78%|███████▊  | 7800/10000 [5:45:21<1:45:52,  2.89s/it, episode_reward=285, running_reward=252]"
     ]
    },
    {
     "name": "stdout",
     "output_type": "stream",
     "text": [
      "Moviepy - Done !\n",
      "Moviepy - video ready /mnt/c/Users/Rwitobaan/Desktop/code/Reinforcement_project/Reinforcement_learning_project/videos/01_09_41.276997/SpaceInvaders-episode-7800.mp4\n"
     ]
    },
    {
     "name": "stderr",
     "output_type": "stream",
     "text": [
      " 78%|███████▊  | 7801/10000 [5:45:23<1:48:35,  2.96s/it, episode_reward=285, running_reward=252]"
     ]
    },
    {
     "name": "stdout",
     "output_type": "stream",
     "text": [
      "Episode 7800: average reward: 251.61645942827843\n"
     ]
    },
    {
     "name": "stderr",
     "output_type": "stream",
     "text": [
      " 79%|███████▊  | 7851/10000 [5:47:45<1:34:53,  2.65s/it, episode_reward=240, running_reward=252]"
     ]
    },
    {
     "name": "stdout",
     "output_type": "stream",
     "text": [
      "Episode 7850: average reward: 251.78193860654693\n"
     ]
    },
    {
     "name": "stderr",
     "output_type": "stream",
     "text": [
      " 79%|███████▉  | 7900/10000 [5:49:56<1:32:55,  2.66s/it, episode_reward=260, running_reward=252]"
     ]
    },
    {
     "name": "stdout",
     "output_type": "stream",
     "text": [
      "Moviepy - Building video /mnt/c/Users/Rwitobaan/Desktop/code/Reinforcement_project/Reinforcement_learning_project/videos/01_09_41.276997/SpaceInvaders-episode-7900.mp4.\n",
      "Moviepy - Writing video /mnt/c/Users/Rwitobaan/Desktop/code/Reinforcement_project/Reinforcement_learning_project/videos/01_09_41.276997/SpaceInvaders-episode-7900.mp4\n",
      "\n"
     ]
    },
    {
     "name": "stderr",
     "output_type": "stream",
     "text": [
      " 79%|███████▉  | 7900/10000 [5:49:56<1:32:55,  2.66s/it, episode_reward=260, running_reward=252]"
     ]
    },
    {
     "name": "stdout",
     "output_type": "stream",
     "text": [
      "Moviepy - Done !\n",
      "Moviepy - video ready /mnt/c/Users/Rwitobaan/Desktop/code/Reinforcement_project/Reinforcement_learning_project/videos/01_09_41.276997/SpaceInvaders-episode-7900.mp4\n"
     ]
    },
    {
     "name": "stderr",
     "output_type": "stream",
     "text": [
      " 79%|███████▉  | 7901/10000 [5:49:57<1:36:03,  2.75s/it, episode_reward=245, running_reward=252]"
     ]
    },
    {
     "name": "stdout",
     "output_type": "stream",
     "text": [
      "Episode 7900: average reward: 251.8098974813315\n"
     ]
    },
    {
     "name": "stderr",
     "output_type": "stream",
     "text": [
      " 80%|███████▉  | 7951/10000 [5:52:15<1:17:29,  2.27s/it, episode_reward=155, running_reward=252]"
     ]
    },
    {
     "name": "stdout",
     "output_type": "stream",
     "text": [
      "Episode 7950: average reward: 251.91799773613383\n"
     ]
    },
    {
     "name": "stderr",
     "output_type": "stream",
     "text": [
      " 80%|████████  | 8000/10000 [5:54:18<1:31:06,  2.73s/it, episode_reward=260, running_reward=252]"
     ]
    },
    {
     "name": "stdout",
     "output_type": "stream",
     "text": [
      "Moviepy - Building video /mnt/c/Users/Rwitobaan/Desktop/code/Reinforcement_project/Reinforcement_learning_project/videos/01_09_41.276997/SpaceInvaders-episode-8000.mp4.\n",
      "Moviepy - Writing video /mnt/c/Users/Rwitobaan/Desktop/code/Reinforcement_project/Reinforcement_learning_project/videos/01_09_41.276997/SpaceInvaders-episode-8000.mp4\n",
      "\n"
     ]
    },
    {
     "name": "stderr",
     "output_type": "stream",
     "text": [
      " 80%|████████  | 8000/10000 [5:54:18<1:31:06,  2.73s/it, episode_reward=260, running_reward=252]"
     ]
    },
    {
     "name": "stdout",
     "output_type": "stream",
     "text": [
      "Moviepy - Done !\n",
      "Moviepy - video ready /mnt/c/Users/Rwitobaan/Desktop/code/Reinforcement_project/Reinforcement_learning_project/videos/01_09_41.276997/SpaceInvaders-episode-8000.mp4\n"
     ]
    },
    {
     "name": "stderr",
     "output_type": "stream",
     "text": [
      " 80%|████████  | 8001/10000 [5:54:20<1:32:58,  2.79s/it, episode_reward=245, running_reward=252]"
     ]
    },
    {
     "name": "stdout",
     "output_type": "stream",
     "text": [
      "Episode 8000: average reward: 251.91976002999624\n"
     ]
    },
    {
     "name": "stderr",
     "output_type": "stream",
     "text": [
      " 81%|████████  | 8051/10000 [5:56:35<1:20:58,  2.49s/it, episode_reward=210, running_reward=252]"
     ]
    },
    {
     "name": "stdout",
     "output_type": "stream",
     "text": [
      "Episode 8050: average reward: 252.0171407278599\n"
     ]
    },
    {
     "name": "stderr",
     "output_type": "stream",
     "text": [
      " 81%|████████  | 8100/10000 [5:58:53<1:27:15,  2.76s/it, episode_reward=275, running_reward=252]"
     ]
    },
    {
     "name": "stdout",
     "output_type": "stream",
     "text": [
      "Moviepy - Building video /mnt/c/Users/Rwitobaan/Desktop/code/Reinforcement_project/Reinforcement_learning_project/videos/01_09_41.276997/SpaceInvaders-episode-8100.mp4.\n",
      "Moviepy - Writing video /mnt/c/Users/Rwitobaan/Desktop/code/Reinforcement_project/Reinforcement_learning_project/videos/01_09_41.276997/SpaceInvaders-episode-8100.mp4\n",
      "\n"
     ]
    },
    {
     "name": "stderr",
     "output_type": "stream",
     "text": [
      " 81%|████████  | 8100/10000 [5:58:53<1:27:15,  2.76s/it, episode_reward=275, running_reward=252]"
     ]
    },
    {
     "name": "stdout",
     "output_type": "stream",
     "text": [
      "Moviepy - Done !\n",
      "Moviepy - video ready /mnt/c/Users/Rwitobaan/Desktop/code/Reinforcement_project/Reinforcement_learning_project/videos/01_09_41.276997/SpaceInvaders-episode-8100.mp4\n"
     ]
    },
    {
     "name": "stderr",
     "output_type": "stream",
     "text": [
      " 81%|████████  | 8101/10000 [5:58:54<1:26:42,  2.74s/it, episode_reward=210, running_reward=252]"
     ]
    },
    {
     "name": "stdout",
     "output_type": "stream",
     "text": [
      "Episode 8100: average reward: 252.15467226268362\n"
     ]
    },
    {
     "name": "stderr",
     "output_type": "stream",
     "text": [
      " 82%|████████▏ | 8151/10000 [6:01:04<1:04:54,  2.11s/it, episode_reward=210, running_reward=252]"
     ]
    },
    {
     "name": "stdout",
     "output_type": "stream",
     "text": [
      "Episode 8150: average reward: 252.1322537112011\n"
     ]
    },
    {
     "name": "stderr",
     "output_type": "stream",
     "text": [
      " 82%|████████▏ | 8200/10000 [6:03:14<1:22:28,  2.75s/it, episode_reward=435, running_reward=252]"
     ]
    },
    {
     "name": "stdout",
     "output_type": "stream",
     "text": [
      "Moviepy - Building video /mnt/c/Users/Rwitobaan/Desktop/code/Reinforcement_project/Reinforcement_learning_project/videos/01_09_41.276997/SpaceInvaders-episode-8200.mp4.\n",
      "Moviepy - Writing video /mnt/c/Users/Rwitobaan/Desktop/code/Reinforcement_project/Reinforcement_learning_project/videos/01_09_41.276997/SpaceInvaders-episode-8200.mp4\n",
      "\n"
     ]
    },
    {
     "name": "stderr",
     "output_type": "stream",
     "text": [
      " 82%|████████▏ | 8200/10000 [6:03:14<1:22:28,  2.75s/it, episode_reward=435, running_reward=252]"
     ]
    },
    {
     "name": "stdout",
     "output_type": "stream",
     "text": [
      "Moviepy - Done !\n",
      "Moviepy - video ready /mnt/c/Users/Rwitobaan/Desktop/code/Reinforcement_project/Reinforcement_learning_project/videos/01_09_41.276997/SpaceInvaders-episode-8200.mp4\n"
     ]
    },
    {
     "name": "stderr",
     "output_type": "stream",
     "text": [
      " 82%|████████▏ | 8201/10000 [6:03:15<1:24:03,  2.80s/it, episode_reward=290, running_reward=252]"
     ]
    },
    {
     "name": "stdout",
     "output_type": "stream",
     "text": [
      "Episode 8200: average reward: 252.1783928789172\n"
     ]
    },
    {
     "name": "stderr",
     "output_type": "stream",
     "text": [
      " 83%|████████▎ | 8251/10000 [6:05:11<1:07:09,  2.30s/it, episode_reward=185, running_reward=252]"
     ]
    },
    {
     "name": "stdout",
     "output_type": "stream",
     "text": [
      "Episode 8250: average reward: 251.99369773360806\n"
     ]
    },
    {
     "name": "stderr",
     "output_type": "stream",
     "text": [
      " 83%|████████▎ | 8300/10000 [6:06:58<1:13:13,  2.58s/it, episode_reward=260, running_reward=252]"
     ]
    },
    {
     "name": "stdout",
     "output_type": "stream",
     "text": [
      "Moviepy - Building video /mnt/c/Users/Rwitobaan/Desktop/code/Reinforcement_project/Reinforcement_learning_project/videos/01_09_41.276997/SpaceInvaders-episode-8300.mp4.\n",
      "Moviepy - Writing video /mnt/c/Users/Rwitobaan/Desktop/code/Reinforcement_project/Reinforcement_learning_project/videos/01_09_41.276997/SpaceInvaders-episode-8300.mp4\n",
      "\n"
     ]
    },
    {
     "name": "stderr",
     "output_type": "stream",
     "text": [
      " 83%|████████▎ | 8300/10000 [6:06:58<1:13:13,  2.58s/it, episode_reward=260, running_reward=252]"
     ]
    },
    {
     "name": "stdout",
     "output_type": "stream",
     "text": [
      "Moviepy - Done !\n",
      "Moviepy - video ready /mnt/c/Users/Rwitobaan/Desktop/code/Reinforcement_project/Reinforcement_learning_project/videos/01_09_41.276997/SpaceInvaders-episode-8300.mp4\n"
     ]
    },
    {
     "name": "stderr",
     "output_type": "stream",
     "text": [
      " 83%|████████▎ | 8301/10000 [6:06:59<1:08:55,  2.43s/it, episode_reward=210, running_reward=252]"
     ]
    },
    {
     "name": "stdout",
     "output_type": "stream",
     "text": [
      "Episode 8300: average reward: 251.75882423804362\n"
     ]
    },
    {
     "name": "stderr",
     "output_type": "stream",
     "text": [
      " 84%|████████▎ | 8351/10000 [6:09:02<1:06:06,  2.41s/it, episode_reward=185, running_reward=252]"
     ]
    },
    {
     "name": "stdout",
     "output_type": "stream",
     "text": [
      "Episode 8350: average reward: 251.71596216022033\n"
     ]
    },
    {
     "name": "stderr",
     "output_type": "stream",
     "text": [
      " 84%|████████▍ | 8400/10000 [6:10:56<57:54,  2.17s/it, episode_reward=255, running_reward=252]  "
     ]
    },
    {
     "name": "stdout",
     "output_type": "stream",
     "text": [
      "Moviepy - Building video /mnt/c/Users/Rwitobaan/Desktop/code/Reinforcement_project/Reinforcement_learning_project/videos/01_09_41.276997/SpaceInvaders-episode-8400.mp4.\n",
      "Moviepy - Writing video /mnt/c/Users/Rwitobaan/Desktop/code/Reinforcement_project/Reinforcement_learning_project/videos/01_09_41.276997/SpaceInvaders-episode-8400.mp4\n",
      "\n"
     ]
    },
    {
     "name": "stderr",
     "output_type": "stream",
     "text": [
      " 84%|████████▍ | 8400/10000 [6:10:57<57:54,  2.17s/it, episode_reward=255, running_reward=252]"
     ]
    },
    {
     "name": "stdout",
     "output_type": "stream",
     "text": [
      "Moviepy - Done !\n",
      "Moviepy - video ready /mnt/c/Users/Rwitobaan/Desktop/code/Reinforcement_project/Reinforcement_learning_project/videos/01_09_41.276997/SpaceInvaders-episode-8400.mp4\n"
     ]
    },
    {
     "name": "stderr",
     "output_type": "stream",
     "text": [
      " 84%|████████▍ | 8401/10000 [6:10:58<1:02:00,  2.33s/it, episode_reward=260, running_reward=252]"
     ]
    },
    {
     "name": "stdout",
     "output_type": "stream",
     "text": [
      "Episode 8400: average reward: 251.51767646708726\n"
     ]
    },
    {
     "name": "stderr",
     "output_type": "stream",
     "text": [
      " 85%|████████▍ | 8451/10000 [6:12:55<1:00:00,  2.32s/it, episode_reward=240, running_reward=251]"
     ]
    },
    {
     "name": "stdout",
     "output_type": "stream",
     "text": [
      "Episode 8450: average reward: 251.3400780972666\n"
     ]
    },
    {
     "name": "stderr",
     "output_type": "stream",
     "text": [
      " 85%|████████▌ | 8500/10000 [6:15:07<1:00:57,  2.44s/it, episode_reward=225, running_reward=251]"
     ]
    },
    {
     "name": "stdout",
     "output_type": "stream",
     "text": [
      "Moviepy - Building video /mnt/c/Users/Rwitobaan/Desktop/code/Reinforcement_project/Reinforcement_learning_project/videos/01_09_41.276997/SpaceInvaders-episode-8500.mp4.\n",
      "Moviepy - Writing video /mnt/c/Users/Rwitobaan/Desktop/code/Reinforcement_project/Reinforcement_learning_project/videos/01_09_41.276997/SpaceInvaders-episode-8500.mp4\n",
      "\n"
     ]
    },
    {
     "name": "stderr",
     "output_type": "stream",
     "text": [
      " 85%|████████▌ | 8500/10000 [6:15:07<1:00:57,  2.44s/it, episode_reward=225, running_reward=251]"
     ]
    },
    {
     "name": "stdout",
     "output_type": "stream",
     "text": [
      "Moviepy - Done !\n",
      "Moviepy - video ready /mnt/c/Users/Rwitobaan/Desktop/code/Reinforcement_project/Reinforcement_learning_project/videos/01_09_41.276997/SpaceInvaders-episode-8500.mp4\n"
     ]
    },
    {
     "name": "stderr",
     "output_type": "stream",
     "text": [
      " 85%|████████▌ | 8501/10000 [6:15:08<1:01:51,  2.48s/it, episode_reward=260, running_reward=251]"
     ]
    },
    {
     "name": "stdout",
     "output_type": "stream",
     "text": [
      "Episode 8500: average reward: 251.3110222326785\n"
     ]
    },
    {
     "name": "stderr",
     "output_type": "stream",
     "text": [
      " 86%|████████▌ | 8551/10000 [6:17:15<1:08:13,  2.83s/it, episode_reward=265, running_reward=251]"
     ]
    },
    {
     "name": "stdout",
     "output_type": "stream",
     "text": [
      "Episode 8550: average reward: 251.31622032510816\n"
     ]
    },
    {
     "name": "stderr",
     "output_type": "stream",
     "text": [
      " 86%|████████▌ | 8600/10000 [6:19:27<57:39,  2.47s/it, episode_reward=210, running_reward=251]  "
     ]
    },
    {
     "name": "stdout",
     "output_type": "stream",
     "text": [
      "Moviepy - Building video /mnt/c/Users/Rwitobaan/Desktop/code/Reinforcement_project/Reinforcement_learning_project/videos/01_09_41.276997/SpaceInvaders-episode-8600.mp4.\n",
      "Moviepy - Writing video /mnt/c/Users/Rwitobaan/Desktop/code/Reinforcement_project/Reinforcement_learning_project/videos/01_09_41.276997/SpaceInvaders-episode-8600.mp4\n",
      "\n"
     ]
    },
    {
     "name": "stderr",
     "output_type": "stream",
     "text": [
      " 86%|████████▌ | 8600/10000 [6:19:27<57:39,  2.47s/it, episode_reward=210, running_reward=251]"
     ]
    },
    {
     "name": "stdout",
     "output_type": "stream",
     "text": [
      "Moviepy - Done !\n",
      "Moviepy - video ready /mnt/c/Users/Rwitobaan/Desktop/code/Reinforcement_project/Reinforcement_learning_project/videos/01_09_41.276997/SpaceInvaders-episode-8600.mp4\n"
     ]
    },
    {
     "name": "stderr",
     "output_type": "stream",
     "text": [
      " 86%|████████▌ | 8601/10000 [6:19:28<58:22,  2.50s/it, episode_reward=210, running_reward=251]"
     ]
    },
    {
     "name": "stdout",
     "output_type": "stream",
     "text": [
      "Episode 8600: average reward: 251.34054179746542\n"
     ]
    },
    {
     "name": "stderr",
     "output_type": "stream",
     "text": [
      " 87%|████████▋ | 8651/10000 [6:21:10<50:18,  2.24s/it, episode_reward=210, running_reward=251]  "
     ]
    },
    {
     "name": "stdout",
     "output_type": "stream",
     "text": [
      "Episode 8650: average reward: 251.07617616460524\n"
     ]
    },
    {
     "name": "stderr",
     "output_type": "stream",
     "text": [
      " 87%|████████▋ | 8700/10000 [6:22:49<48:14,  2.23s/it, episode_reward=215, running_reward=251]"
     ]
    },
    {
     "name": "stdout",
     "output_type": "stream",
     "text": [
      "Moviepy - Building video /mnt/c/Users/Rwitobaan/Desktop/code/Reinforcement_project/Reinforcement_learning_project/videos/01_09_41.276997/SpaceInvaders-episode-8700.mp4.\n",
      "Moviepy - Writing video /mnt/c/Users/Rwitobaan/Desktop/code/Reinforcement_project/Reinforcement_learning_project/videos/01_09_41.276997/SpaceInvaders-episode-8700.mp4\n",
      "\n"
     ]
    },
    {
     "name": "stderr",
     "output_type": "stream",
     "text": [
      " 87%|████████▋ | 8700/10000 [6:22:49<48:14,  2.23s/it, episode_reward=215, running_reward=251]"
     ]
    },
    {
     "name": "stdout",
     "output_type": "stream",
     "text": [
      "Moviepy - Done !\n",
      "Moviepy - video ready /mnt/c/Users/Rwitobaan/Desktop/code/Reinforcement_project/Reinforcement_learning_project/videos/01_09_41.276997/SpaceInvaders-episode-8700.mp4\n"
     ]
    },
    {
     "name": "stderr",
     "output_type": "stream",
     "text": [
      " 87%|████████▋ | 8701/10000 [6:22:50<51:48,  2.39s/it, episode_reward=250, running_reward=251]"
     ]
    },
    {
     "name": "stdout",
     "output_type": "stream",
     "text": [
      "Episode 8700: average reward: 250.74071945753363\n"
     ]
    },
    {
     "name": "stderr",
     "output_type": "stream",
     "text": [
      " 88%|████████▊ | 8751/10000 [6:24:30<48:44,  2.34s/it, episode_reward=440, running_reward=250]"
     ]
    },
    {
     "name": "stdout",
     "output_type": "stream",
     "text": [
      "Episode 8750: average reward: 250.432521997486\n"
     ]
    },
    {
     "name": "stderr",
     "output_type": "stream",
     "text": [
      " 88%|████████▊ | 8800/10000 [6:26:15<47:02,  2.35s/it, episode_reward=230, running_reward=250]  "
     ]
    },
    {
     "name": "stdout",
     "output_type": "stream",
     "text": [
      "Moviepy - Building video /mnt/c/Users/Rwitobaan/Desktop/code/Reinforcement_project/Reinforcement_learning_project/videos/01_09_41.276997/SpaceInvaders-episode-8800.mp4.\n",
      "Moviepy - Writing video /mnt/c/Users/Rwitobaan/Desktop/code/Reinforcement_project/Reinforcement_learning_project/videos/01_09_41.276997/SpaceInvaders-episode-8800.mp4\n",
      "\n"
     ]
    },
    {
     "name": "stderr",
     "output_type": "stream",
     "text": [
      " 88%|████████▊ | 8800/10000 [6:26:15<47:02,  2.35s/it, episode_reward=230, running_reward=250]"
     ]
    },
    {
     "name": "stdout",
     "output_type": "stream",
     "text": [
      "Moviepy - Done !\n",
      "Moviepy - video ready /mnt/c/Users/Rwitobaan/Desktop/code/Reinforcement_project/Reinforcement_learning_project/videos/01_09_41.276997/SpaceInvaders-episode-8800.mp4\n"
     ]
    },
    {
     "name": "stderr",
     "output_type": "stream",
     "text": [
      " 88%|████████▊ | 8801/10000 [6:26:16<42:32,  2.13s/it, episode_reward=110, running_reward=250]"
     ]
    },
    {
     "name": "stdout",
     "output_type": "stream",
     "text": [
      "Episode 8800: average reward: 250.30621520281787\n"
     ]
    },
    {
     "name": "stderr",
     "output_type": "stream",
     "text": [
      " 89%|████████▊ | 8851/10000 [6:28:05<43:29,  2.27s/it, episode_reward=210, running_reward=250]"
     ]
    },
    {
     "name": "stdout",
     "output_type": "stream",
     "text": [
      "Episode 8850: average reward: 250.1434866116823\n"
     ]
    },
    {
     "name": "stderr",
     "output_type": "stream",
     "text": [
      " 89%|████████▉ | 8900/10000 [6:30:04<41:36,  2.27s/it, episode_reward=210, running_reward=250]  "
     ]
    },
    {
     "name": "stdout",
     "output_type": "stream",
     "text": [
      "Moviepy - Building video /mnt/c/Users/Rwitobaan/Desktop/code/Reinforcement_project/Reinforcement_learning_project/videos/01_09_41.276997/SpaceInvaders-episode-8900.mp4.\n",
      "Moviepy - Writing video /mnt/c/Users/Rwitobaan/Desktop/code/Reinforcement_project/Reinforcement_learning_project/videos/01_09_41.276997/SpaceInvaders-episode-8900.mp4\n",
      "\n"
     ]
    },
    {
     "name": "stderr",
     "output_type": "stream",
     "text": [
      " 89%|████████▉ | 8900/10000 [6:30:04<41:36,  2.27s/it, episode_reward=210, running_reward=250]"
     ]
    },
    {
     "name": "stdout",
     "output_type": "stream",
     "text": [
      "Moviepy - Done !\n",
      "Moviepy - video ready /mnt/c/Users/Rwitobaan/Desktop/code/Reinforcement_project/Reinforcement_learning_project/videos/01_09_41.276997/SpaceInvaders-episode-8900.mp4\n"
     ]
    },
    {
     "name": "stderr",
     "output_type": "stream",
     "text": [
      " 89%|████████▉ | 8901/10000 [6:30:05<39:15,  2.14s/it, episode_reward=180, running_reward=250]"
     ]
    },
    {
     "name": "stdout",
     "output_type": "stream",
     "text": [
      "Episode 8900: average reward: 250.02696326255477\n"
     ]
    },
    {
     "name": "stderr",
     "output_type": "stream",
     "text": [
      " 90%|████████▉ | 8951/10000 [6:32:09<37:23,  2.14s/it, episode_reward=210, running_reward=250]"
     ]
    },
    {
     "name": "stdout",
     "output_type": "stream",
     "text": [
      "Episode 8950: average reward: 250.0340744050944\n"
     ]
    },
    {
     "name": "stderr",
     "output_type": "stream",
     "text": [
      " 90%|█████████ | 9000/10000 [6:33:47<39:36,  2.38s/it, episode_reward=250, running_reward=250]"
     ]
    },
    {
     "name": "stdout",
     "output_type": "stream",
     "text": [
      "Moviepy - Building video /mnt/c/Users/Rwitobaan/Desktop/code/Reinforcement_project/Reinforcement_learning_project/videos/01_09_41.276997/SpaceInvaders-episode-9000.mp4.\n",
      "Moviepy - Writing video /mnt/c/Users/Rwitobaan/Desktop/code/Reinforcement_project/Reinforcement_learning_project/videos/01_09_41.276997/SpaceInvaders-episode-9000.mp4\n",
      "\n"
     ]
    },
    {
     "name": "stderr",
     "output_type": "stream",
     "text": [
      " 90%|█████████ | 9000/10000 [6:33:47<39:36,  2.38s/it, episode_reward=250, running_reward=250]"
     ]
    },
    {
     "name": "stdout",
     "output_type": "stream",
     "text": [
      "Moviepy - Done !\n",
      "Moviepy - video ready /mnt/c/Users/Rwitobaan/Desktop/code/Reinforcement_project/Reinforcement_learning_project/videos/01_09_41.276997/SpaceInvaders-episode-9000.mp4\n"
     ]
    },
    {
     "name": "stderr",
     "output_type": "stream",
     "text": [
      " 90%|█████████ | 9001/10000 [6:33:48<36:09,  2.17s/it, episode_reward=150, running_reward=250]"
     ]
    },
    {
     "name": "stdout",
     "output_type": "stream",
     "text": [
      "Episode 9000: average reward: 249.7711365403844\n"
     ]
    },
    {
     "name": "stderr",
     "output_type": "stream",
     "text": [
      " 91%|█████████ | 9051/10000 [6:35:39<30:31,  1.93s/it, episode_reward=155, running_reward=250]"
     ]
    },
    {
     "name": "stdout",
     "output_type": "stream",
     "text": [
      "Episode 9050: average reward: 249.64921003204066\n"
     ]
    },
    {
     "name": "stderr",
     "output_type": "stream",
     "text": [
      " 91%|█████████ | 9100/10000 [6:37:26<38:43,  2.58s/it, episode_reward=210, running_reward=249]"
     ]
    },
    {
     "name": "stdout",
     "output_type": "stream",
     "text": [
      "Moviepy - Building video /mnt/c/Users/Rwitobaan/Desktop/code/Reinforcement_project/Reinforcement_learning_project/videos/01_09_41.276997/SpaceInvaders-episode-9100.mp4.\n",
      "Moviepy - Writing video /mnt/c/Users/Rwitobaan/Desktop/code/Reinforcement_project/Reinforcement_learning_project/videos/01_09_41.276997/SpaceInvaders-episode-9100.mp4\n",
      "\n"
     ]
    },
    {
     "name": "stderr",
     "output_type": "stream",
     "text": [
      " 91%|█████████ | 9100/10000 [6:37:26<38:43,  2.58s/it, episode_reward=210, running_reward=249]"
     ]
    },
    {
     "name": "stdout",
     "output_type": "stream",
     "text": [
      "Moviepy - Done !\n",
      "Moviepy - video ready /mnt/c/Users/Rwitobaan/Desktop/code/Reinforcement_project/Reinforcement_learning_project/videos/01_09_41.276997/SpaceInvaders-episode-9100.mp4\n"
     ]
    },
    {
     "name": "stderr",
     "output_type": "stream",
     "text": [
      " 91%|█████████ | 9101/10000 [6:37:28<40:57,  2.73s/it, episode_reward=480, running_reward=249]"
     ]
    },
    {
     "name": "stdout",
     "output_type": "stream",
     "text": [
      "Episode 9100: average reward: 249.4423689704428\n"
     ]
    },
    {
     "name": "stderr",
     "output_type": "stream",
     "text": [
      " 92%|█████████▏| 9151/10000 [6:39:15<27:49,  1.97s/it, episode_reward=120, running_reward=249]"
     ]
    },
    {
     "name": "stdout",
     "output_type": "stream",
     "text": [
      "Episode 9150: average reward: 249.2793137362037\n"
     ]
    },
    {
     "name": "stderr",
     "output_type": "stream",
     "text": [
      " 92%|█████████▏| 9200/10000 [6:41:11<34:14,  2.57s/it, episode_reward=240, running_reward=249]"
     ]
    },
    {
     "name": "stdout",
     "output_type": "stream",
     "text": [
      "Moviepy - Building video /mnt/c/Users/Rwitobaan/Desktop/code/Reinforcement_project/Reinforcement_learning_project/videos/01_09_41.276997/SpaceInvaders-episode-9200.mp4.\n",
      "Moviepy - Writing video /mnt/c/Users/Rwitobaan/Desktop/code/Reinforcement_project/Reinforcement_learning_project/videos/01_09_41.276997/SpaceInvaders-episode-9200.mp4\n",
      "\n"
     ]
    },
    {
     "name": "stderr",
     "output_type": "stream",
     "text": [
      " 92%|█████████▏| 9200/10000 [6:41:12<34:14,  2.57s/it, episode_reward=240, running_reward=249]"
     ]
    },
    {
     "name": "stdout",
     "output_type": "stream",
     "text": [
      "Moviepy - Done !\n",
      "Moviepy - video ready /mnt/c/Users/Rwitobaan/Desktop/code/Reinforcement_project/Reinforcement_learning_project/videos/01_09_41.276997/SpaceInvaders-episode-9200.mp4\n"
     ]
    },
    {
     "name": "stderr",
     "output_type": "stream",
     "text": [
      " 92%|█████████▏| 9201/10000 [6:41:13<33:49,  2.54s/it, episode_reward=180, running_reward=249]"
     ]
    },
    {
     "name": "stdout",
     "output_type": "stream",
     "text": [
      "Episode 9200: average reward: 249.2652972502989\n"
     ]
    },
    {
     "name": "stderr",
     "output_type": "stream",
     "text": [
      " 93%|█████████▎| 9251/10000 [6:43:04<30:11,  2.42s/it, episode_reward=210, running_reward=249]"
     ]
    },
    {
     "name": "stdout",
     "output_type": "stream",
     "text": [
      "Episode 9250: average reward: 249.07523510971788\n"
     ]
    },
    {
     "name": "stderr",
     "output_type": "stream",
     "text": [
      " 93%|█████████▎| 9300/10000 [6:45:25<31:55,  2.74s/it, episode_reward=260, running_reward=249]"
     ]
    },
    {
     "name": "stdout",
     "output_type": "stream",
     "text": [
      "Moviepy - Building video /mnt/c/Users/Rwitobaan/Desktop/code/Reinforcement_project/Reinforcement_learning_project/videos/01_09_41.276997/SpaceInvaders-episode-9300.mp4.\n",
      "Moviepy - Writing video /mnt/c/Users/Rwitobaan/Desktop/code/Reinforcement_project/Reinforcement_learning_project/videos/01_09_41.276997/SpaceInvaders-episode-9300.mp4\n",
      "\n"
     ]
    },
    {
     "name": "stderr",
     "output_type": "stream",
     "text": [
      " 93%|█████████▎| 9300/10000 [6:45:25<31:55,  2.74s/it, episode_reward=260, running_reward=249]"
     ]
    },
    {
     "name": "stdout",
     "output_type": "stream",
     "text": [
      "Moviepy - Done !\n",
      "Moviepy - video ready /mnt/c/Users/Rwitobaan/Desktop/code/Reinforcement_project/Reinforcement_learning_project/videos/01_09_41.276997/SpaceInvaders-episode-9300.mp4\n"
     ]
    },
    {
     "name": "stderr",
     "output_type": "stream",
     "text": [
      " 93%|█████████▎| 9301/10000 [6:45:27<32:58,  2.83s/it, episode_reward=285, running_reward=249]"
     ]
    },
    {
     "name": "stdout",
     "output_type": "stream",
     "text": [
      "Episode 9300: average reward: 249.24900548328137\n"
     ]
    },
    {
     "name": "stderr",
     "output_type": "stream",
     "text": [
      " 94%|█████████▎| 9351/10000 [6:47:29<23:24,  2.16s/it, episode_reward=155, running_reward=249]"
     ]
    },
    {
     "name": "stdout",
     "output_type": "stream",
     "text": [
      "Episode 9350: average reward: 249.24660464121484\n"
     ]
    },
    {
     "name": "stderr",
     "output_type": "stream",
     "text": [
      " 94%|█████████▍| 9400/10000 [6:49:12<18:36,  1.86s/it, episode_reward=110, running_reward=249]"
     ]
    },
    {
     "name": "stdout",
     "output_type": "stream",
     "text": [
      "Moviepy - Building video /mnt/c/Users/Rwitobaan/Desktop/code/Reinforcement_project/Reinforcement_learning_project/videos/01_09_41.276997/SpaceInvaders-episode-9400.mp4.\n",
      "Moviepy - Writing video /mnt/c/Users/Rwitobaan/Desktop/code/Reinforcement_project/Reinforcement_learning_project/videos/01_09_41.276997/SpaceInvaders-episode-9400.mp4\n",
      "\n"
     ]
    },
    {
     "name": "stderr",
     "output_type": "stream",
     "text": [
      " 94%|█████████▍| 9400/10000 [6:49:12<18:36,  1.86s/it, episode_reward=110, running_reward=249]"
     ]
    },
    {
     "name": "stdout",
     "output_type": "stream",
     "text": [
      "Moviepy - Done !\n",
      "Moviepy - video ready /mnt/c/Users/Rwitobaan/Desktop/code/Reinforcement_project/Reinforcement_learning_project/videos/01_09_41.276997/SpaceInvaders-episode-9400.mp4\n"
     ]
    },
    {
     "name": "stderr",
     "output_type": "stream",
     "text": [
      " 94%|█████████▍| 9401/10000 [6:49:13<19:45,  1.98s/it, episode_reward=210, running_reward=249]"
     ]
    },
    {
     "name": "stdout",
     "output_type": "stream",
     "text": [
      "Episode 9400: average reward: 248.9804276140836\n"
     ]
    },
    {
     "name": "stderr",
     "output_type": "stream",
     "text": [
      " 95%|█████████▍| 9451/10000 [6:50:55<17:46,  1.94s/it, episode_reward=210, running_reward=249]"
     ]
    },
    {
     "name": "stdout",
     "output_type": "stream",
     "text": [
      "Episode 9450: average reward: 248.73029309067823\n"
     ]
    },
    {
     "name": "stderr",
     "output_type": "stream",
     "text": [
      " 95%|█████████▌| 9500/10000 [6:52:50<18:59,  2.28s/it, episode_reward=210, running_reward=249]"
     ]
    },
    {
     "name": "stdout",
     "output_type": "stream",
     "text": [
      "Moviepy - Building video /mnt/c/Users/Rwitobaan/Desktop/code/Reinforcement_project/Reinforcement_learning_project/videos/01_09_41.276997/SpaceInvaders-episode-9500.mp4.\n",
      "Moviepy - Writing video /mnt/c/Users/Rwitobaan/Desktop/code/Reinforcement_project/Reinforcement_learning_project/videos/01_09_41.276997/SpaceInvaders-episode-9500.mp4\n",
      "\n"
     ]
    },
    {
     "name": "stderr",
     "output_type": "stream",
     "text": [
      " 95%|█████████▌| 9500/10000 [6:52:50<18:59,  2.28s/it, episode_reward=210, running_reward=249]"
     ]
    },
    {
     "name": "stdout",
     "output_type": "stream",
     "text": [
      "Moviepy - Done !\n",
      "Moviepy - video ready /mnt/c/Users/Rwitobaan/Desktop/code/Reinforcement_project/Reinforcement_learning_project/videos/01_09_41.276997/SpaceInvaders-episode-9500.mp4\n"
     ]
    },
    {
     "name": "stderr",
     "output_type": "stream",
     "text": [
      " 95%|█████████▌| 9501/10000 [6:52:51<20:19,  2.44s/it, episode_reward=240, running_reward=249]"
     ]
    },
    {
     "name": "stdout",
     "output_type": "stream",
     "text": [
      "Episode 9500: average reward: 248.649089569519\n"
     ]
    },
    {
     "name": "stderr",
     "output_type": "stream",
     "text": [
      " 96%|█████████▌| 9551/10000 [6:54:33<14:34,  1.95s/it, episode_reward=180, running_reward=248]"
     ]
    },
    {
     "name": "stdout",
     "output_type": "stream",
     "text": [
      "Episode 9550: average reward: 248.39964401633335\n"
     ]
    },
    {
     "name": "stderr",
     "output_type": "stream",
     "text": [
      " 96%|█████████▌| 9600/10000 [6:56:19<12:37,  1.89s/it, episode_reward=120, running_reward=248]"
     ]
    },
    {
     "name": "stdout",
     "output_type": "stream",
     "text": [
      "Moviepy - Building video /mnt/c/Users/Rwitobaan/Desktop/code/Reinforcement_project/Reinforcement_learning_project/videos/01_09_41.276997/SpaceInvaders-episode-9600.mp4.\n",
      "Moviepy - Writing video /mnt/c/Users/Rwitobaan/Desktop/code/Reinforcement_project/Reinforcement_learning_project/videos/01_09_41.276997/SpaceInvaders-episode-9600.mp4\n",
      "\n"
     ]
    },
    {
     "name": "stderr",
     "output_type": "stream",
     "text": [
      " 96%|█████████▌| 9600/10000 [6:56:19<12:37,  1.89s/it, episode_reward=120, running_reward=248]"
     ]
    },
    {
     "name": "stdout",
     "output_type": "stream",
     "text": [
      "Moviepy - Done !\n",
      "Moviepy - video ready /mnt/c/Users/Rwitobaan/Desktop/code/Reinforcement_project/Reinforcement_learning_project/videos/01_09_41.276997/SpaceInvaders-episode-9600.mp4\n"
     ]
    },
    {
     "name": "stderr",
     "output_type": "stream",
     "text": [
      " 96%|█████████▌| 9601/10000 [6:56:20<14:20,  2.16s/it, episode_reward=185, running_reward=248]"
     ]
    },
    {
     "name": "stdout",
     "output_type": "stream",
     "text": [
      "Episode 9600: average reward: 248.23716279554213\n"
     ]
    },
    {
     "name": "stderr",
     "output_type": "stream",
     "text": [
      " 97%|█████████▋| 9651/10000 [6:58:05<11:14,  1.93s/it, episode_reward=140, running_reward=248]"
     ]
    },
    {
     "name": "stdout",
     "output_type": "stream",
     "text": [
      "Episode 9650: average reward: 248.01056885296862\n"
     ]
    },
    {
     "name": "stderr",
     "output_type": "stream",
     "text": [
      " 97%|█████████▋| 9700/10000 [6:59:45<10:43,  2.14s/it, episode_reward=155, running_reward=248]"
     ]
    },
    {
     "name": "stdout",
     "output_type": "stream",
     "text": [
      "Moviepy - Building video /mnt/c/Users/Rwitobaan/Desktop/code/Reinforcement_project/Reinforcement_learning_project/videos/01_09_41.276997/SpaceInvaders-episode-9700.mp4.\n",
      "Moviepy - Writing video /mnt/c/Users/Rwitobaan/Desktop/code/Reinforcement_project/Reinforcement_learning_project/videos/01_09_41.276997/SpaceInvaders-episode-9700.mp4\n",
      "\n"
     ]
    },
    {
     "name": "stderr",
     "output_type": "stream",
     "text": [
      " 97%|█████████▋| 9700/10000 [6:59:45<10:43,  2.14s/it, episode_reward=155, running_reward=248]"
     ]
    },
    {
     "name": "stdout",
     "output_type": "stream",
     "text": [
      "Moviepy - Done !\n",
      "Moviepy - video ready /mnt/c/Users/Rwitobaan/Desktop/code/Reinforcement_project/Reinforcement_learning_project/videos/01_09_41.276997/SpaceInvaders-episode-9700.mp4\n"
     ]
    },
    {
     "name": "stderr",
     "output_type": "stream",
     "text": [
      " 97%|█████████▋| 9701/10000 [6:59:47<11:33,  2.32s/it, episode_reward=220, running_reward=248]"
     ]
    },
    {
     "name": "stdout",
     "output_type": "stream",
     "text": [
      "Episode 9700: average reward: 247.77600247397174\n"
     ]
    },
    {
     "name": "stderr",
     "output_type": "stream",
     "text": [
      " 98%|█████████▊| 9751/10000 [7:01:38<09:56,  2.40s/it, episode_reward=210, running_reward=248]"
     ]
    },
    {
     "name": "stdout",
     "output_type": "stream",
     "text": [
      "Episode 9750: average reward: 247.61716747000307\n"
     ]
    },
    {
     "name": "stderr",
     "output_type": "stream",
     "text": [
      " 98%|█████████▊| 9800/10000 [7:03:44<06:32,  1.96s/it, episode_reward=185, running_reward=248]"
     ]
    },
    {
     "name": "stdout",
     "output_type": "stream",
     "text": [
      "Moviepy - Building video /mnt/c/Users/Rwitobaan/Desktop/code/Reinforcement_project/Reinforcement_learning_project/videos/01_09_41.276997/SpaceInvaders-episode-9800.mp4.\n",
      "Moviepy - Writing video /mnt/c/Users/Rwitobaan/Desktop/code/Reinforcement_project/Reinforcement_learning_project/videos/01_09_41.276997/SpaceInvaders-episode-9800.mp4\n",
      "\n"
     ]
    },
    {
     "name": "stderr",
     "output_type": "stream",
     "text": [
      " 98%|█████████▊| 9800/10000 [7:03:44<06:32,  1.96s/it, episode_reward=185, running_reward=248]"
     ]
    },
    {
     "name": "stdout",
     "output_type": "stream",
     "text": [
      "Moviepy - Done !\n",
      "Moviepy - video ready /mnt/c/Users/Rwitobaan/Desktop/code/Reinforcement_project/Reinforcement_learning_project/videos/01_09_41.276997/SpaceInvaders-episode-9800.mp4\n"
     ]
    },
    {
     "name": "stderr",
     "output_type": "stream",
     "text": [
      " 98%|█████████▊| 9801/10000 [7:03:45<06:38,  2.00s/it, episode_reward=210, running_reward=248]"
     ]
    },
    {
     "name": "stdout",
     "output_type": "stream",
     "text": [
      "Episode 9800: average reward: 247.67625752474237\n"
     ]
    },
    {
     "name": "stderr",
     "output_type": "stream",
     "text": [
      " 99%|█████████▊| 9851/10000 [7:05:28<04:49,  1.95s/it, episode_reward=155, running_reward=248]"
     ]
    },
    {
     "name": "stdout",
     "output_type": "stream",
     "text": [
      "Episode 9850: average reward: 247.5530403004771\n"
     ]
    },
    {
     "name": "stderr",
     "output_type": "stream",
     "text": [
      " 99%|█████████▉| 9900/10000 [7:07:12<03:51,  2.31s/it, episode_reward=110, running_reward=247]"
     ]
    },
    {
     "name": "stdout",
     "output_type": "stream",
     "text": [
      "Moviepy - Building video /mnt/c/Users/Rwitobaan/Desktop/code/Reinforcement_project/Reinforcement_learning_project/videos/01_09_41.276997/SpaceInvaders-episode-9900.mp4.\n",
      "Moviepy - Writing video /mnt/c/Users/Rwitobaan/Desktop/code/Reinforcement_project/Reinforcement_learning_project/videos/01_09_41.276997/SpaceInvaders-episode-9900.mp4\n",
      "\n"
     ]
    },
    {
     "name": "stderr",
     "output_type": "stream",
     "text": [
      " 99%|█████████▉| 9900/10000 [7:07:12<03:51,  2.31s/it, episode_reward=110, running_reward=247]"
     ]
    },
    {
     "name": "stdout",
     "output_type": "stream",
     "text": [
      "Moviepy - Done !\n",
      "Moviepy - video ready /mnt/c/Users/Rwitobaan/Desktop/code/Reinforcement_project/Reinforcement_learning_project/videos/01_09_41.276997/SpaceInvaders-episode-9900.mp4\n"
     ]
    },
    {
     "name": "stderr",
     "output_type": "stream",
     "text": [
      " 99%|█████████▉| 9901/10000 [7:07:13<03:29,  2.12s/it, episode_reward=120, running_reward=247]"
     ]
    },
    {
     "name": "stdout",
     "output_type": "stream",
     "text": [
      "Episode 9900: average reward: 247.46035753964247\n"
     ]
    },
    {
     "name": "stderr",
     "output_type": "stream",
     "text": [
      "100%|█████████▉| 9951/10000 [7:08:51<01:28,  1.81s/it, episode_reward=210, running_reward=247]"
     ]
    },
    {
     "name": "stdout",
     "output_type": "stream",
     "text": [
      "Episode 9950: average reward: 247.16058687569088\n"
     ]
    },
    {
     "name": "stderr",
     "output_type": "stream",
     "text": [
      "100%|██████████| 10000/10000 [7:10:35<00:00,  2.58s/it, episode_reward=385, running_reward=247]"
     ]
    },
    {
     "name": "stdout",
     "output_type": "stream",
     "text": [
      "\n",
      "Solved at episode 9999: average reward: 247.09!\n",
      "CPU times: user 4h 21min 12s, sys: 2h 30min 16s, total: 6h 51min 28s\n",
      "Wall time: 7h 10min 35s\n"
     ]
    },
    {
     "name": "stderr",
     "output_type": "stream",
     "text": [
      "\n"
     ]
    }
   ],
   "source": [
    "%%time\n",
    "\n",
    "min_episodes_criterion = 50\n",
    "max_episodes = 10000\n",
    "max_steps_per_episode = 100000\n",
    "\n",
    "reward_threshold = 1000\n",
    "running_reward = 0\n",
    "\n",
    "# The discount factor for future rewards\n",
    "gamma = 0.99\n",
    "\n",
    "# Keep the last episodes reward\n",
    "episodes_reward = []\n",
    "running_totals = []\n",
    "\n",
    "t = tqdm.trange(max_episodes)\n",
    "with tf.device('/GPU:0'):\n",
    "    for i in t:\n",
    "        initial_state, info = env.reset()\n",
    "        initial_state = tf.constant(initial_state, dtype=tf.float32)\n",
    "        \n",
    "        initial_state = tf.reshape(initial_state, (32, 32))\n",
    "        initial_state = tf.expand_dims(initial_state, axis=-1)  # Add channels dimension\n",
    "        initial_state = tf.expand_dims(initial_state, axis=0)  # Add batch dimension\n",
    "        episode_reward = int(train_step(\n",
    "            initial_state, model, optimizer, gamma, max_steps_per_episode))\n",
    "\n",
    "        episodes_reward.append(episode_reward)\n",
    "        running_reward = statistics.mean(episodes_reward)\n",
    "        running_totals.append(running_reward)\n",
    "\n",
    "        t.set_postfix(\n",
    "            episode_reward=episode_reward, running_reward=running_reward) \n",
    "\n",
    "        # Show the average episode reward every 10 episodesa\n",
    "        if i % 50 == 0:\n",
    "            print(f'Episode {i}: average reward: {running_reward}')\n",
    "            pass # \n",
    "\n",
    "       
    "        if running_reward > reward_threshold and i >= min_episodes_criterion:\n",
    "          break\n",
    "\n",
    "print(f'\\nSolved at episode {i}: average reward: {running_reward:.2f}!')"
   ]
  },
  {
   "cell_type": "code",
   "execution_count": 11,
   "id": "b614e745-e34e-42e1-b600-8db25c2b3092",
   "metadata": {},
   "outputs": [
    {
     "data": {
      "text/plain": [
       "[<matplotlib.lines.Line2D at 0x7fecf494d6f0>]"
      ]
     },
     "execution_count": 11,
     "metadata": {},
     "output_type": "execute_result"
    },
    {
     "data": {
      "image/png": "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",
      "text/plain": [
       "<Figure size 640x480 with 1 Axes>"
      ]
     },
     "metadata": {},
     "output_type": "display_data"
    }
   ],
   "source": [
    "#plt.plot(episodes_reward)\n",
    "plt.plot(running_totals)"
   ]
  },
  {
   "cell_type": "code",
   "execution_count": 20,
   "id": "acee859e",
   "metadata": {},
   "outputs": [
    {
     "data": {
      "text/plain": [
       "<matplotlib.legend.Legend at 0x7fec347a34c0>"
      ]
     },
     "execution_count": 20,
     "metadata": {},
     "output_type": "execute_result"
    },
    {
     "data": {
      "image/png": "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",
      "text/plain": [
       "<Figure size 640x480 with 1 Axes>"
      ]
     },
     "metadata": {},
     "output_type": "display_data"
    }
   ],
   "source": [
    "def cum_avg(lst):\n",
    "  cum_sum = 0\n",
    "  cum_avg = []\n",
    "  for num in lst:\n",
    "    cum_sum += num\n",
    "    cum_avg.append(cum_sum / len(cum_avg + [0]))\n",
    "  return cum_avg\n",
    "\n",
    "def cum_avg_window(lst, window_size=50):\n",
    "  cum_sum = 0\n",
    "  cum_avg = []\n",
    "  for i, num in enumerate(lst):\n",
    "    start = max(0, i - window_size + 1)\n",
    "    cum_sum = sum(lst[start:i+1])\n",
    "    cum_avg.append(cum_sum / (i - start + 1))\n",
    "  return cum_avg\n",
    "\n",
    "# plt.plot(episodes_reward, linewidth=0.3,alpha=0.7)\n",
    "# plt.show()\n",
    "plt.plot(cum_avg(episodes_reward),label = \"average rewards overall\")\n",
    "plt.plot(cum_avg_window(episodes_reward), label = \"average rewards of last 50 eps\")\n",
    "plt.legend()"
   ]
  },
  {
   "cell_type": "code",
   "execution_count": null,
   "id": "5be5e9d2",
   "metadata": {},
   "outputs": [],
   "source": []
  }
 ],
 "metadata": {
  "kernelspec": {
   "display_name": "Python 3 (ipykernel)",
   "language": "python",
   "name": "python3"
  },
  "language_info": {
   "codemirror_mode": {
    "name": "ipython",
    "version": 3
   },
   "file_extension": ".py",
   "mimetype": "text/x-python",
   "name": "python",
   "nbconvert_exporter": "python",
   "pygments_lexer": "ipython3",
   "version": "3.10.12"
  }
 },
 "nbformat": 4,
 "nbformat_minor": 5
}
