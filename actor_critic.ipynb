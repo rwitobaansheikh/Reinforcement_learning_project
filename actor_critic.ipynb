{
 "cells": [
  {
   "cell_type": "markdown",
   "metadata": {
    "id": "_jQ1tEQCxwRx"
   },
   "source": [
    "##### Copyright 2020 The TensorFlow Authors."
   ]
  },
  {
   "cell_type": "code",
   "execution_count": 18,
   "metadata": {
    "cellView": "form",
    "execution": {
     "iopub.execute_input": "2023-09-28T01:25:35.264413Z",
     "iopub.status.busy": "2023-09-28T01:25:35.264187Z",
     "iopub.status.idle": "2023-09-28T01:25:35.267956Z",
     "shell.execute_reply": "2023-09-28T01:25:35.267375Z"
    },
    "id": "V_sgB_5dx1f1"
   },
   "outputs": [],
   "source": [
    "#@title Licensed under the Apache License, Version 2.0 (the \"License\");\n",
    "# you may not use this file except in compliance with the License.\n",
    "# You may obtain a copy of the License at\n",
    "#\n",
    "# https://www.apache.org/licenses/LICENSE-2.0\n",
    "#\n",
    "# Unless required by applicable law or agreed to in writing, software\n",
    "# distributed under the License is distributed on an \"AS IS\" BASIS,\n",
    "# WITHOUT WARRANTIES OR CONDITIONS OF ANY KIND, either express or implied.\n",
    "# See the License for the specific language governing permissions and\n",
    "# limitations under the License."
   ]
  },
  {
   "cell_type": "markdown",
   "metadata": {
    "id": "p62G8M_viUJp"
   },
   "source": [
    "# Playing CartPole with the Actor-Critic method\n"
   ]
  },
  {
   "cell_type": "markdown",
   "metadata": {
    "id": "-mJ2i6jvZ3sK"
   },
   "source": [
    "<table class=\"tfo-notebook-buttons\" align=\"left\">\n",
    "  <td>\n",
    "    <a target=\"_blank\" href=\"https://www.tensorflow.org/tutorials/reinforcement_learning/actor_critic\">\n",
    "    <img src=\"https://www.tensorflow.org/images/tf_logo_32px.png\" />\n",
    "    View on TensorFlow.org</a>\n",
    "  </td>\n",
    "  <td>\n",
    "    <a target=\"_blank\" href=\"https://colab.research.google.com/github/tensorflow/docs/blob/master/site/en/tutorials/reinforcement_learning/actor_critic.ipynb\">\n",
    "    <img src=\"https://www.tensorflow.org/images/colab_logo_32px.png\" />\n",
    "    Run in Google Colab</a>\n",
    "  </td>\n",
    "  <td>\n",
    "    <a target=\"_blank\" href=\"https://github.com/tensorflow/docs/blob/master/site/en/tutorials/reinforcement_learning/actor_critic.ipynb\">\n",
    "    <img src=\"https://www.tensorflow.org/images/GitHub-Mark-32px.png\" />\n",
    "    View source on GitHub</a>\n",
    "  </td>\n",
    "  <td>\n",
    "    <a href=\"https://storage.googleapis.com/tensorflow_docs/docs/site/en/tutorials/reinforcement_learning/actor_critic.ipynb\"><img src=\"https://www.tensorflow.org/images/download_logo_32px.png\" />Download notebook</a>\n",
    "  </td>\n",
    "</table>"
   ]
  },
  {
   "cell_type": "markdown",
   "metadata": {
    "id": "kFgN7h_wiUJq"
   },
   "source": [
    "This tutorial demonstrates how to implement the [Actor-Critic](https://papers.nips.cc/paper/1786-actor-critic-algorithms.pdf) method using TensorFlow to train an agent on the [Open AI Gym](https://www.gymlibrary.dev/) [`CartPole-v0`](https://www.gymlibrary.dev/environments/classic_control/cart_pole/) environment.\n",
    "The reader is assumed to have some familiarity with [policy gradient methods](https://papers.nips.cc/paper/1713-policy-gradient-methods-for-reinforcement-learning-with-function-approximation.pdf) of [(deep) reinforcement learning](https://en.wikipedia.org/wiki/Deep_reinforcement_learning).\n"
   ]
  },
  {
   "cell_type": "markdown",
   "metadata": {
    "id": "_kA10ZKRR0hi"
   },
   "source": [
    "**Actor-Critic methods**\n",
    "\n",
    "Actor-Critic methods are [temporal difference (TD) learning](https://en.wikipedia.org/wiki/Temporal_difference_learning) methods that represent the policy function independent of the value function.\n",
    "\n",
    "A policy function (or policy) returns a probability distribution over actions that the agent can take based on the given state.\n",
    "A value function determines the expected return for an agent starting at a given state and acting according to a particular policy forever after.\n",
    "\n",
    "In the Actor-Critic method, the policy is referred to as the *actor* that proposes a set of possible actions given a state, and the estimated value function is referred to as the *critic*, which evaluates actions taken by the *actor* based on the given policy.\n",
    "\n",
    "In this tutorial, both the *Actor* and *Critic* will be represented using one neural network with two outputs.\n"
   ]
  },
  {
   "cell_type": "markdown",
   "metadata": {
    "id": "rBfiafKSRs2k"
   },
   "source": [
    "**`CartPole-v0`**\n",
    "\n",
    "In the [`CartPole-v0` environment](https://www.gymlibrary.dev/environments/classic_control/cart_pole/), a pole is attached to a cart moving along a frictionless track.\n",
    "The pole starts upright and the goal of the agent is to prevent it from falling over by applying a force of `-1` or `+1` to the cart.\n",
    "A reward of `+1` is given for every time step the pole remains upright.\n",
    "An episode ends when: 1) the pole is more than 15 degrees from vertical; or 2) the cart moves more than 2.4 units from the center.\n",
    "\n",
    "<center>\n",
    "  <figure>\n",
    "    <image src=\"https://tensorflow.org/tutorials/reinforcement_learning/images/cartpole-v0.gif\">\n",
    "    <figcaption>\n",
    "      Trained actor-critic model in Cartpole-v0 environment\n",
    "    </figcaption>\n",
    "  </figure>\n",
    "</center>\n"
   ]
  },
  {
   "cell_type": "markdown",
   "metadata": {
    "id": "XSNVK0AeRoJd"
   },
   "source": [
    "The problem is considered \"solved\" when the average total reward for the episode reaches 195 over 100 consecutive trials."
   ]
  },
  {
   "cell_type": "markdown",
   "metadata": {
    "id": "glLwIctHiUJq"
   },
   "source": [
    "## Setup\n",
    "\n",
    "Import necessary packages and configure global settings.\n"
   ]
  },
  {
   "cell_type": "code",
   "execution_count": 19,
   "metadata": {
    "execution": {
     "iopub.execute_input": "2023-09-28T01:25:35.271736Z",
     "iopub.status.busy": "2023-09-28T01:25:35.271315Z",
     "iopub.status.idle": "2023-09-28T01:25:45.517370Z",
     "shell.execute_reply": "2023-09-28T01:25:45.516290Z"
    },
    "id": "13l6BbxKhCKp"
   },
   "outputs": [
    {
     "name": "stdout",
     "output_type": "stream",
     "text": [
      "Requirement already satisfied: gym[classic_control] in /usr/local/lib/python3.10/dist-packages (0.26.2)\n",
      "\u001b[33mWARNING: gym 0.26.2 does not provide the extra 'classic-control'\u001b[0m\u001b[33m\n",
      "\u001b[0mRequirement already satisfied: numpy>=1.18.0 in /usr/local/lib/python3.10/dist-packages (from gym[classic_control]) (1.26.3)\n",
      "Requirement already satisfied: cloudpickle>=1.2.0 in /usr/local/lib/python3.10/dist-packages (from gym[classic_control]) (3.0.0)\n",
      "Requirement already satisfied: gym-notices>=0.0.4 in /usr/local/lib/python3.10/dist-packages (from gym[classic_control]) (0.0.8)\n",
      "Requirement already satisfied: pygame==2.1.0 in /usr/local/lib/python3.10/dist-packages (from gym[classic_control]) (2.1.0)\n",
      "\u001b[33mDEPRECATION: distro-info 1.1build1 has a non-standard version number. pip 24.1 will enforce this behaviour change. A possible replacement is to upgrade to a newer version of distro-info or contact the author to suggest that they release a version with a conforming version number. Discussion can be found at https://github.com/pypa/pip/issues/12063\u001b[0m\u001b[33m\n",
      "\u001b[0m\u001b[33mDEPRECATION: python-debian 0.1.43ubuntu1 has a non-standard version number. pip 24.1 will enforce this behaviour change. A possible replacement is to upgrade to a newer version of python-debian or contact the author to suggest that they release a version with a conforming version number. Discussion can be found at https://github.com/pypa/pip/issues/12063\u001b[0m\u001b[33m\n",
      "\u001b[0m\u001b[33mWARNING: Running pip as the 'root' user can result in broken permissions and conflicting behaviour with the system package manager. It is recommended to use a virtual environment instead: https://pip.pypa.io/warnings/venv\u001b[0m\u001b[33m\n",
      "\u001b[0mRequirement already satisfied: pyglet in /usr/local/lib/python3.10/dist-packages (2.0.15)\n",
      "\u001b[33mDEPRECATION: distro-info 1.1build1 has a non-standard version number. pip 24.1 will enforce this behaviour change. A possible replacement is to upgrade to a newer version of distro-info or contact the author to suggest that they release a version with a conforming version number. Discussion can be found at https://github.com/pypa/pip/issues/12063\u001b[0m\u001b[33m\n",
      "\u001b[0m\u001b[33mDEPRECATION: python-debian 0.1.43ubuntu1 has a non-standard version number. pip 24.1 will enforce this behaviour change. A possible replacement is to upgrade to a newer version of python-debian or contact the author to suggest that they release a version with a conforming version number. Discussion can be found at https://github.com/pypa/pip/issues/12063\u001b[0m\u001b[33m\n",
      "\u001b[0m\u001b[33mWARNING: Running pip as the 'root' user can result in broken permissions and conflicting behaviour with the system package manager. It is recommended to use a virtual environment instead: https://pip.pypa.io/warnings/venv\u001b[0m\u001b[33m\n",
      "\u001b[0m"
     ]
    }
   ],
   "source": [
    "!pip install gym[classic_control]\n",
    "!pip install pyglet"
   ]
  },
  {
   "cell_type": "code",
   "execution_count": 20,
   "metadata": {
    "execution": {
     "iopub.execute_input": "2023-09-28T01:25:45.521618Z",
     "iopub.status.busy": "2023-09-28T01:25:45.521363Z",
     "iopub.status.idle": "2023-09-28T01:25:56.121769Z",
     "shell.execute_reply": "2023-09-28T01:25:56.120606Z"
    },
    "id": "WBeQhPi2S4m5"
   },
   "outputs": [],
   "source": [
    "%%bash\n",
    "# Install additional packages for visualization\n",
    "sudo apt-get install -y python-opengl > /dev/null 2>&1\n",
    "pip install git+https://github.com/tensorflow/docs > /dev/null 2>&1"
   ]
  },
  {
   "cell_type": "code",
   "execution_count": 21,
   "metadata": {
    "execution": {
     "iopub.execute_input": "2023-09-28T01:25:56.125886Z",
     "iopub.status.busy": "2023-09-28T01:25:56.125619Z",
     "iopub.status.idle": "2023-09-28T01:25:58.835287Z",
     "shell.execute_reply": "2023-09-28T01:25:58.834487Z"
    },
    "id": "tT4N3qYviUJr"
   },
   "outputs": [],
   "source": [
    "import collections\n",
    "import gym\n",
    "import numpy as np\n",
    "import statistics\n",
    "import tensorflow as tf\n",
    "import tqdm\n",
    "\n",
    "from matplotlib import pyplot as plt\n",
    "from tensorflow.keras import layers\n",
    "from typing import Any, List, Sequence, Tuple\n",
    "\n",
    "\n",
    "# Create the environment\n",
    "env = gym.make(\"CartPole-v1\")\n",
    "\n",
    "# Set seed for experiment reproducibility\n",
    "seed = 42\n",
    "tf.random.set_seed(seed)\n",
    "np.random.seed(seed)\n",
    "\n",
    "# Small epsilon value for stabilizing division operations\n",
    "eps = np.finfo(np.float32).eps.item()"
   ]
  },
  {
   "cell_type": "markdown",
   "metadata": {
    "id": "AOUCe2D0iUJu"
   },
   "source": [
    "## The model\n",
    "\n",
    "The *Actor* and *Critic* will be modeled using one neural network that generates the action probabilities and Critic value respectively. This tutorial uses model subclassing to define the model.\n",
    "\n",
    "During the forward pass, the model will take in the state as the input and will output both action probabilities and critic value $V$, which models the state-dependent [value function](https://spinningup.openai.com/en/latest/spinningup/rl_intro.html#value-functions). The goal is to train a model that chooses actions based on a policy $\\pi$ that maximizes expected [return](https://spinningup.openai.com/en/latest/spinningup/rl_intro.html#reward-and-return).\n",
    "\n",
    "For `CartPole-v0`, there are four values representing the state: cart position, cart-velocity, pole angle and pole velocity respectively. The agent can take two actions to push the cart left (`0`) and right (`1`), respectively.\n",
    "\n",
    "Refer to [Gym's Cart Pole documentation page](https://www.gymlibrary.dev/environments/classic_control/cart_pole/) and [_Neuronlike adaptive elements that can solve difficult learning control problems_](http://www.derongliu.org/adp/adp-cdrom/Barto1983.pdf) by Barto, Sutton and Anderson (1983) for more information.\n"
   ]
  },
  {
   "cell_type": "code",
   "execution_count": 22,
   "metadata": {
    "execution": {
     "iopub.execute_input": "2023-09-28T01:25:58.839424Z",
     "iopub.status.busy": "2023-09-28T01:25:58.839013Z",
     "iopub.status.idle": "2023-09-28T01:25:58.845204Z",
     "shell.execute_reply": "2023-09-28T01:25:58.844355Z"
    },
    "id": "aXKbbMC-kmuv"
   },
   "outputs": [],
   "source": [
    "class ActorCritic(tf.keras.Model):\n",
    "  \"\"\"Combined actor-critic network.\"\"\"\n",
    "\n",
    "  def __init__(\n",
    "      self,\n",
    "      num_actions: int,\n",
    "      num_hidden_units: int):\n",
    "    \"\"\"Initialize.\"\"\"\n",
    "    super().__init__()\n",
    "\n",
    "    self.common = layers.Dense(num_hidden_units, activation=\"relu\")\n",
    "    self.actor = layers.Dense(num_actions)\n",
    "    self.critic = layers.Dense(1)\n",
    "\n",
    "  def call(self, inputs: tf.Tensor) -> Tuple[tf.Tensor, tf.Tensor]:\n",
    "    x = self.common(inputs)\n",
    "    return self.actor(x), self.critic(x)"
   ]
  },
  {
   "cell_type": "code",
   "execution_count": 23,
   "metadata": {
    "execution": {
     "iopub.execute_input": "2023-09-28T01:25:58.848853Z",
     "iopub.status.busy": "2023-09-28T01:25:58.848324Z",
     "iopub.status.idle": "2023-09-28T01:25:59.447990Z",
     "shell.execute_reply": "2023-09-28T01:25:59.447049Z"
    },
    "id": "nWyxJgjLn68c"
   },
   "outputs": [],
   "source": [
    "num_actions = env.action_space.n  # 2\n",
    "num_hidden_units = 128\n",
    "\n",
    "model = ActorCritic(num_actions, num_hidden_units)"
   ]
  },
  {
   "cell_type": "markdown",
   "metadata": {
    "id": "hk92njFziUJw"
   },
   "source": [
    "## Train the agent\n",
    "\n",
    "To train the agent, you will follow these steps:\n",
    "\n",
    "1. Run the agent on the environment to collect training data per episode.\n",
    "2. Compute expected return at each time step.\n",
    "3. Compute the loss for the combined Actor-Critic model.\n",
    "4. Compute gradients and update network parameters.\n",
    "5. Repeat 1-4 until either success criterion or max episodes has been reached.\n"
   ]
  },
  {
   "cell_type": "markdown",
   "metadata": {
    "id": "R2nde2XDs8Gh"
   },
   "source": [
    "### 1. Collect training data\n",
    "\n",
    "As in supervised learning, in order to train the actor-critic model, you need\n",
    "to have training data. However, in order to collect such data, the model would\n",
    "need to be \"run\" in the environment.\n",
    "\n",
    "Training data is collected for each episode. Then at each time step, the model's forward pass will be run on the environment's state in order to generate action probabilities and the critic value based on the current policy parameterized by the model's weights.\n",
    "\n",
    "The next action will be sampled from the action probabilities generated by the model, which would then be applied to the environment, causing the next state and reward to be generated.\n",
    "\n",
    "This process is implemented in the `run_episode` function, which uses TensorFlow operations so that it can later be compiled into a TensorFlow graph for faster training. Note that `tf.TensorArray`s were used to support Tensor iteration on variable length arrays."
   ]
  },
  {
   "cell_type": "code",
   "execution_count": 24,
   "metadata": {
    "execution": {
     "iopub.execute_input": "2023-09-28T01:25:59.452399Z",
     "iopub.status.busy": "2023-09-28T01:25:59.451726Z",
     "iopub.status.idle": "2023-09-28T01:25:59.456805Z",
     "shell.execute_reply": "2023-09-28T01:25:59.456041Z"
    },
    "id": "5URrbGlDSAGx"
   },
   "outputs": [],
   "source": [
    "# Wrap Gym's `env.step` call as an operation in a TensorFlow function.\n",
    "# This would allow it to be included in a callable TensorFlow graph.\n",
    "\n",
    "@tf.numpy_function(Tout=[tf.float32, tf.int32, tf.int32])\n",
    "def env_step(action: np.ndarray) -> Tuple[np.ndarray, np.ndarray, np.ndarray]:\n",
    "  \"\"\"Returns state, reward and done flag given an action.\"\"\"\n",
    "\n",
    "  state, reward, done, truncated, info = env.step(action)\n",
    "  return (state.astype(np.float32),\n",
    "          np.array(reward, np.int32),\n",
    "          np.array(done, np.int32))\n"
   ]
  },
  {
   "cell_type": "code",
   "execution_count": 25,
   "metadata": {
    "execution": {
     "iopub.execute_input": "2023-09-28T01:25:59.460272Z",
     "iopub.status.busy": "2023-09-28T01:25:59.459859Z",
     "iopub.status.idle": "2023-09-28T01:25:59.467299Z",
     "shell.execute_reply": "2023-09-28T01:25:59.466493Z"
    },
    "id": "a4qVRV063Cl9"
   },
   "outputs": [],
   "source": [
    "def run_episode(\n",
    "    initial_state: tf.Tensor,\n",
    "    model: tf.keras.Model,\n",
    "    max_steps: int) -> Tuple[tf.Tensor, tf.Tensor, tf.Tensor]:\n",
    "  \"\"\"Runs a single episode to collect training data.\"\"\"\n",
    "\n",
    "  action_probs = tf.TensorArray(dtype=tf.float32, size=0, dynamic_size=True)\n",
    "  values = tf.TensorArray(dtype=tf.float32, size=0, dynamic_size=True)\n",
    "  rewards = tf.TensorArray(dtype=tf.int32, size=0, dynamic_size=True)\n",
    "\n",
    "  initial_state_shape = initial_state.shape\n",
    "  state = initial_state\n",
    "\n",
    "  for t in tf.range(max_steps):\n",
    "    # Convert state into a batched tensor (batch size = 1)\n",
    "    state = tf.expand_dims(state, 0)\n",
    "\n",
    "    # Run the model and to get action probabilities and critic value\n",
    "    action_logits_t, value = model(state)\n",
    "\n",
    "    # Sample next action from the action probability distribution\n",
    "    action = tf.random.categorical(action_logits_t, 1)[0, 0]\n",
    "    action_probs_t = tf.nn.softmax(action_logits_t)\n",
    "\n",
    "    # Store critic values\n",
    "    values = values.write(t, tf.squeeze(value))\n",
    "\n",
    "    # Store log probability of the action chosen\n",
    "    action_probs = action_probs.write(t, action_probs_t[0, action])\n",
    "\n",
    "    # Apply action to the environment to get next state and reward\n",
    "    state, reward, done = env_step(action)\n",
    "    state.set_shape(initial_state_shape)\n",
    "\n",
    "    # Store reward\n",
    "    rewards = rewards.write(t, reward)\n",
    "\n",
    "    if tf.cast(done, tf.bool):\n",
    "      break\n",
    "\n",
    "  action_probs = action_probs.stack()\n",
    "  values = values.stack()\n",
    "  rewards = rewards.stack()\n",
    "\n",
    "  return action_probs, values, rewards"
   ]
  },
  {
   "cell_type": "markdown",
   "metadata": {
    "id": "lBnIHdz22dIx"
   },
   "source": [
    "### 2. Compute the expected returns\n",
    "\n",
    "The sequence of rewards for each timestep $t$, $\\{r_{t}\\}^{T}_{t=1}$ collected during one episode is converted into a sequence of expected returns $\\{G_{t}\\}^{T}_{t=1}$ in which the sum of rewards is taken from the current timestep $t$ to $T$ and each reward is multiplied with an exponentially decaying discount factor $\\gamma$:\n",
    "\n",
    "$$G_{t} = \\sum^{T}_{t'=t} \\gamma^{t'-t}r_{t'}$$\n",
    "\n",
    "Since $\\gamma\\in(0,1)$, rewards further out from the current timestep are given less weight.\n",
    "\n",
    "Intuitively, expected return simply implies that rewards now are better than rewards later. In a mathematical sense, it is to ensure that the sum of the rewards converges.\n",
    "\n",
    "To stabilize training, the resulting sequence of returns is also standardized (i.e. to have zero mean and unit standard deviation).\n"
   ]
  },
  {
   "cell_type": "code",
   "execution_count": 26,
   "metadata": {
    "execution": {
     "iopub.execute_input": "2023-09-28T01:25:59.470884Z",
     "iopub.status.busy": "2023-09-28T01:25:59.470301Z",
     "iopub.status.idle": "2023-09-28T01:25:59.476320Z",
     "shell.execute_reply": "2023-09-28T01:25:59.475294Z"
    },
    "id": "jpEwFyl315dl"
   },
   "outputs": [],
   "source": [
    "def get_expected_return(\n",
    "    rewards: tf.Tensor,\n",
    "    gamma: float,\n",
    "    standardize: bool = True) -> tf.Tensor:\n",
    "  \"\"\"Compute expected returns per timestep.\"\"\"\n",
    "\n",
    "  n = tf.shape(rewards)[0]\n",
    "  returns = tf.TensorArray(dtype=tf.float32, size=n)\n",
    "\n",
    "  # Start from the end of `rewards` and accumulate reward sums\n",
    "  # into the `returns` array\n",
    "  rewards = tf.cast(rewards[::-1], dtype=tf.float32)\n",
    "  discounted_sum = tf.constant(0.0)\n",
    "  discounted_sum_shape = discounted_sum.shape\n",
    "  for i in tf.range(n):\n",
    "    reward = rewards[i]\n",
    "    discounted_sum = reward + gamma * discounted_sum\n",
    "    discounted_sum.set_shape(discounted_sum_shape)\n",
    "    returns = returns.write(i, discounted_sum)\n",
    "  returns = returns.stack()[::-1]\n",
    "\n",
    "  if standardize:\n",
    "    returns = ((returns - tf.math.reduce_mean(returns)) /\n",
    "               (tf.math.reduce_std(returns) + eps))\n",
    "\n",
    "  return returns"
   ]
  },
  {
   "cell_type": "markdown",
   "metadata": {
    "id": "qhr50_Czxazw"
   },
   "source": [
    "### 3. The Actor-Critic loss\n",
    "\n",
    "Since you're using a hybrid Actor-Critic model, the chosen loss function is a combination of Actor and Critic losses for training, as shown below:\n",
    "\n",
    "$$L = L_{actor} + L_{critic}$$"
   ]
  },
  {
   "cell_type": "markdown",
   "metadata": {
    "id": "nOQIJuG1xdTH"
   },
   "source": [
    "#### The Actor loss\n",
    "\n",
    "The Actor loss is based on [policy gradients with the Critic as a state dependent baseline](https://www.youtube.com/watch?v=EKqxumCuAAY&t=62m23s) and computed with single-sample (per-episode) estimates.\n",
    "\n",
    "$$L_{actor} = -\\sum^{T}_{t=1} \\log\\pi_{\\theta}(a_{t} | s_{t})[G(s_{t}, a_{t})  - V^{\\pi}_{\\theta}(s_{t})]$$\n",
    "\n",
    "where:\n",
    "- $T$: the number of timesteps per episode, which can vary per episode\n",
    "- $s_{t}$: the state at timestep $t$\n",
    "- $a_{t}$: chosen action at timestep $t$ given state $s$\n",
    "- $\\pi_{\\theta}$: is the policy (Actor) parameterized by $\\theta$\n",
    "- $V^{\\pi}_{\\theta}$: is the value function (Critic) also parameterized by $\\theta$\n",
    "- $G = G_{t}$: the expected return for a given state, action pair at timestep $t$\n",
    "\n",
    "A negative term is added to the sum since the idea is to maximize the probabilities of actions yielding higher rewards by minimizing the combined loss.\n",
    "\n",
    "<br>"
   ]
  },
  {
   "cell_type": "markdown",
   "metadata": {
    "id": "Y304O4OAxiAv"
   },
   "source": [
    "##### The Advantage\n",
    "\n",
    "The $G - V$ term in our $L_{actor}$ formulation is called the [Advantage](https://spinningup.openai.com/en/latest/spinningup/rl_intro.html#advantage-functions), which indicates how much better an action is given a particular state over a random action selected according to the policy $\\pi$ for that state.\n",
    "\n",
    "While it's possible to exclude a baseline, this may result in high variance during training. And the nice thing about choosing the critic $V$ as a baseline is that it trained to be as close as possible to $G$, leading to a lower variance.\n",
    "\n",
    "In addition, without the Critic, the algorithm would try to increase probabilities for actions taken on a particular state based on expected return, which may not make much of a difference if the relative probabilities between actions remain the same.\n",
    "\n",
    "For instance, suppose that two actions for a given state would yield the same expected return. Without the Critic, the algorithm would try to raise the probability of these actions based on the objective $J$. With the Critic, it may turn out that there's no Advantage ($G - V = 0$), and thus no benefit gained in increasing the actions' probabilities and the algorithm would set the gradients to zero.\n",
    "\n",
    "<br>"
   ]
  },
  {
   "cell_type": "markdown",
   "metadata": {
    "id": "1hrPLrgGxlvb"
   },
   "source": [
    "#### The Critic loss\n",
    "\n",
    "Training $V$ to be as close possible to $G$ can be set up as a regression problem with the following loss function:\n",
    "\n",
    "$$L_{critic} = L_{\\delta}(G, V^{\\pi}_{\\theta})$$\n",
    "\n",
    "where $L_{\\delta}$ is the [Huber loss](https://en.wikipedia.org/wiki/Huber_loss), which is less sensitive to outliers in data than squared-error loss.\n"
   ]
  },
  {
   "cell_type": "code",
   "execution_count": 27,
   "metadata": {
    "execution": {
     "iopub.execute_input": "2023-09-28T01:25:59.480063Z",
     "iopub.status.busy": "2023-09-28T01:25:59.479506Z",
     "iopub.status.idle": "2023-09-28T01:25:59.484047Z",
     "shell.execute_reply": "2023-09-28T01:25:59.483267Z"
    },
    "id": "9EXwbEez6n9m"
   },
   "outputs": [],
   "source": [
    "huber_loss = tf.keras.losses.Huber(reduction=tf.keras.losses.Reduction.SUM)\n",
    "\n",
    "def compute_loss(\n",
    "    action_probs: tf.Tensor,\n",
    "    values: tf.Tensor,\n",
    "    returns: tf.Tensor) -> tf.Tensor:\n",
    "  \"\"\"Computes the combined Actor-Critic loss.\"\"\"\n",
    "\n",
    "  advantage = returns - values\n",
    "\n",
    "  action_log_probs = tf.math.log(action_probs)\n",
    "  actor_loss = -tf.math.reduce_sum(action_log_probs * advantage)\n",
    "\n",
    "  critic_loss = huber_loss(values, returns)\n",
    "\n",
    "  return actor_loss + critic_loss"
   ]
  },
  {
   "cell_type": "markdown",
   "metadata": {
    "id": "HSYkQOmRfV75"
   },
   "source": [
    "### 4. Define the training step to update parameters\n",
    "\n",
    "All of the steps above are combined into a training step that is run every episode. All steps leading up to the loss function are executed with the `tf.GradientTape` context to enable automatic differentiation.\n",
    "\n",
    "This tutorial uses the Adam optimizer to apply the gradients to the model parameters.\n",
    "\n",
    "The sum of the undiscounted rewards, `episode_reward`, is also computed in this step. This value will be used later on to evaluate if the success criterion is met.\n",
    "\n",
    "The `tf.function` context is applied to the `train_step` function so that it can be compiled into a callable TensorFlow graph, which can lead to 10x speedup in training.\n"
   ]
  },
  {
   "cell_type": "code",
   "execution_count": 28,
   "metadata": {
    "execution": {
     "iopub.execute_input": "2023-09-28T01:25:59.487636Z",
     "iopub.status.busy": "2023-09-28T01:25:59.487081Z",
     "iopub.status.idle": "2023-09-28T01:25:59.496795Z",
     "shell.execute_reply": "2023-09-28T01:25:59.496228Z"
    },
    "id": "QoccrkF3IFCg"
   },
   "outputs": [],
   "source": [
    "optimizer = tf.keras.optimizers.Adam(learning_rate=0.01)\n",
    "\n",
    "\n",
    "@tf.function\n",
    "def train_step(\n",
    "    initial_state: tf.Tensor,\n",
    "    model: tf.keras.Model,\n",
    "    optimizer: tf.keras.optimizers.Optimizer,\n",
    "    gamma: float,\n",
    "    max_steps_per_episode: int) -> tf.Tensor:\n",
    "  \"\"\"Runs a model training step.\"\"\"\n",
    "\n",
    "  with tf.GradientTape() as tape:\n",
    "\n",
    "    # Run the model for one episode to collect training data\n",
    "    action_probs, values, rewards = run_episode(\n",
    "        initial_state, model, max_steps_per_episode)\n",
    "\n",
    "    # Calculate the expected returns\n",
    "    returns = get_expected_return(rewards, gamma)\n",
    "\n",
    "    # Convert training data to appropriate TF tensor shapes\n",
    "    action_probs, values, returns = [\n",
    "        tf.expand_dims(x, 1) for x in [action_probs, values, returns]]\n",
    "\n",
    "    # Calculate the loss values to update our network\n",
    "    loss = compute_loss(action_probs, values, returns)\n",
    "\n",
    "  # Compute the gradients from the loss\n",
    "  grads = tape.gradient(loss, model.trainable_variables)\n",
    "\n",
    "  # Apply the gradients to the model's parameters\n",
    "  optimizer.apply_gradients(zip(grads, model.trainable_variables))\n",
    "\n",
    "  episode_reward = tf.math.reduce_sum(rewards)\n",
    "\n",
    "  return episode_reward"
   ]
  },
  {
   "cell_type": "markdown",
   "metadata": {
    "id": "HFvZiDoAflGK"
   },
   "source": [
    "### 5. Run the training loop\n",
    "\n",
    "Training is executed by running the training step until either the success criterion or maximum number of episodes is reached.  \n",
    "\n",
    "A running record of episode rewards is kept in a queue. Once 100 trials are reached, the oldest reward is removed at the left (tail) end of the queue and the newest one is added at the head (right). A running sum of the rewards is also maintained for computational efficiency.\n",
    "\n",
    "Depending on your runtime, training can finish in less than a minute."
   ]
  },
  {
   "cell_type": "code",
   "execution_count": 29,
   "metadata": {
    "execution": {
     "iopub.execute_input": "2023-09-28T01:25:59.499898Z",
     "iopub.status.busy": "2023-09-28T01:25:59.499656Z",
     "iopub.status.idle": "2023-09-28T01:26:18.244815Z",
     "shell.execute_reply": "2023-09-28T01:26:18.244059Z"
    },
    "id": "kbmBxnzLiUJx"
   },
   "outputs": [
    {
     "name": "stderr",
     "output_type": "stream",
     "text": [
      "  0%|          | 0/10000 [00:00<?, ?it/s]/usr/local/lib/python3.10/dist-packages/gym/utils/passive_env_checker.py:233: DeprecationWarning: `np.bool8` is a deprecated alias for `np.bool_`.  (Deprecated NumPy 1.24)\n",
      "  if not isinstance(terminated, (bool, np.bool8)):\n",
      "  8%|▊         | 815/10000 [08:45<1:38:43,  1.55it/s, episode_reward=500, running_reward=475] "
     ]
    },
    {
     "name": "stdout",
     "output_type": "stream",
     "text": [
      "\n",
      "Solved at episode 815: average reward: 475.46!\n",
      "CPU times: user 6min 56s, sys: 4min 45s, total: 11min 41s\n",
      "Wall time: 8min 45s\n"
     ]
    },
    {
     "name": "stderr",
     "output_type": "stream",
     "text": [
      "\n"
     ]
    }
   ],
   "source": [
    "%%time\n",
    "\n",
    "min_episodes_criterion = 100\n",
    "max_episodes = 10000\n",
    "max_steps_per_episode = 500\n",
    "\n",
    "# `CartPole-v1` is considered solved if average reward is >= 475 over 500\n",
    "# consecutive trials\n",
    "reward_threshold = 475\n",
    "running_reward = 0\n",
    "\n",
    "# The discount factor for future rewards\n",
    "gamma = 0.99\n",
    "\n",
    "# Keep the last episodes reward\n",
    "episodes_reward: collections.deque = collections.deque(maxlen=min_episodes_criterion)\n",
    "\n",
    "t = tqdm.trange(max_episodes)\n",
    "for i in t:\n",
    "    initial_state, info = env.reset()\n",
    "    initial_state = tf.constant(initial_state, dtype=tf.float32)\n",
    "    episode_reward = int(train_step(\n",
    "        initial_state, model, optimizer, gamma, max_steps_per_episode))\n",
    "\n",
    "    episodes_reward.append(episode_reward)\n",
    "    running_reward = statistics.mean(episodes_reward)\n",
    "\n",
    "\n",
    "    t.set_postfix(\n",
    "        episode_reward=episode_reward, running_reward=running_reward)\n",
    "\n",
    "    # Show the average episode reward every 10 episodes\n",
    "    if i % 10 == 0:\n",
    "      pass # print(f'Episode {i}: average reward: {avg_reward}')\n",
    "\n",
    "    if running_reward > reward_threshold and i >= min_episodes_criterion:\n",
    "        break\n",
    "\n",
    "print(f'\\nSolved at episode {i}: average reward: {running_reward:.2f}!')"
   ]
  },
  {
   "cell_type": "markdown",
   "metadata": {
    "id": "ru8BEwS1EmAv"
   },
   "source": [
    "## Visualization\n",
    "\n",
    "After training, it would be good to visualize how the model performs in the environment. You can run the cells below to generate a GIF animation of one episode run of the model. Note that additional packages need to be installed for Gym to render the environment's images correctly in Colab."
   ]
  },
  {
   "cell_type": "code",
   "execution_count": 32,
   "metadata": {
    "execution": {
     "iopub.execute_input": "2023-09-28T01:26:18.248353Z",
     "iopub.status.busy": "2023-09-28T01:26:18.248056Z",
     "iopub.status.idle": "2023-09-28T01:26:20.698427Z",
     "shell.execute_reply": "2023-09-28T01:26:20.697663Z"
    },
    "id": "qbIMMkfmRHyC"
   },
   "outputs": [],
   "source": [
    "# Render an episode and save as a GIF file\n",
    "\n",
    "from IPython import display as ipythondisplay\n",
    "from PIL import Image\n",
    "\n",
    "render_env = gym.make(\"CartPole-v1\", render_mode='rgb_array')\n",
    "\n",
    "def render_episode(env: gym.Env, model: tf.keras.Model, max_steps: int):\n",
    "  state, info = env.reset()\n",
    "  state = tf.constant(state, dtype=tf.float32)\n",
    "  screen = env.render()\n",
    "  images = [Image.fromarray(screen)]\n",
    "\n",
    "  for i in range(1, max_steps + 1):\n",
    "    state = tf.expand_dims(state, 0)\n",
    "    action_probs, _ = model(state)\n",
    "    action = np.argmax(np.squeeze(action_probs))\n",
    "\n",
    "    state, reward, done, truncated, info = env.step(action)\n",
    "    state = tf.constant(state, dtype=tf.float32)\n",
    "\n",
    "    # Render screen every 10 steps\n",
    "    if i % 10 == 0:\n",
    "      screen = env.render()\n",
    "      images.append(Image.fromarray(screen))\n",
    "\n",
    "    if done:\n",
    "      break\n",
    "\n",
    "  return images\n",
    "\n",
    "\n",
    "# Save GIF image\n",
    "images = render_episode(render_env, model, 500)\n",
    "image_file = 'cartpole-v1.gif'\n",
    "# loop=0: loop forever, duration=1: play each frame for 1ms\n",
    "images[0].save(\n",
    "    image_file, save_all=True, append_images=images[1:], loop=0, duration=1)"
   ]
  },
  {
   "cell_type": "code",
   "execution_count": 33,
   "metadata": {
    "execution": {
     "iopub.execute_input": "2023-09-28T01:26:20.702401Z",
     "iopub.status.busy": "2023-09-28T01:26:20.702153Z",
     "iopub.status.idle": "2023-09-28T01:26:20.712460Z",
     "shell.execute_reply": "2023-09-28T01:26:20.711872Z"
    },
    "id": "TLd720SejKmf"
   },
   "outputs": [
    {
     "data": {
      "text/html": [
       "<img src=\"data:image/gif;base64,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\"/>"
      ],
      "text/plain": [
       "<IPython.core.display.HTML object>"
      ]
     },
     "execution_count": 33,
     "metadata": {},
     "output_type": "execute_result"
    }
   ],
   "source": [
    "import tensorflow_docs.vis.embed as embed\n",
    "embed.embed_file(image_file)"
   ]
  },
  {
   "cell_type": "markdown",
   "metadata": {
    "id": "lnq9Hzo1Po6X"
   },
   "source": [
    "## Next steps\n",
    "\n",
    "This tutorial demonstrated how to implement the Actor-Critic method using Tensorflow.\n",
    "\n",
    "As a next step, you could try training a model on a different environment in Gym.\n",
    "\n",
    "For additional information regarding Actor-Critic methods and the Cartpole-v0 problem, you may refer to the following resources:\n",
    "\n",
    "- [The Actor-Critic method](https://hal.inria.fr/hal-00840470/document)\n",
    "- [The Actor-Critic lecture (CAL)](https://www.youtube.com/watch?v=EKqxumCuAAY&list=PLkFD6_40KJIwhWJpGazJ9VSj9CFMkb79A&index=7&t=0s)\n",
    "- [Cart Pole learning control problem \\[Barto, et al. 1983\\]](http://www.derongliu.org/adp/adp-cdrom/Barto1983.pdf)\n",
    "\n",
    "For more reinforcement learning examples in TensorFlow, you can check the following resources:\n",
    "- [Reinforcement learning code examples (keras.io)](https://keras.io/examples/rl/)\n",
    "- [TF-Agents reinforcement learning library](https://www.tensorflow.org/agents)\n"
   ]
  },
  {
   "cell_type": "markdown",
   "metadata": {},
   "source": []
  }
 ],
 "metadata": {
  "colab": {
   "collapsed_sections": [
    "_jQ1tEQCxwRx"
   ],
   "name": "actor_critic.ipynb",
   "provenance": [],
   "toc_visible": true
  },
  "kernelspec": {
   "display_name": "Python 3",
   "name": "python3"
  },
  "language_info": {
   "codemirror_mode": {
    "name": "ipython",
    "version": 3
   },
   "file_extension": ".py",
   "mimetype": "text/x-python",
   "name": "python",
   "nbconvert_exporter": "python",
   "pygments_lexer": "ipython3",
   "version": "3.10.12"
  }
 },
 "nbformat": 4,
 "nbformat_minor": 0
}
