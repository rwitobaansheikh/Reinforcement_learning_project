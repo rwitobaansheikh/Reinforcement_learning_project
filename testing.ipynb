{
 "cells": [
  {
   "cell_type": "code",
   "execution_count": 2,
   "id": "6776193b-3c22-4969-825e-8c81da6b3de9",
   "metadata": {},
   "outputs": [],
   "source": [
    "import gymnasium as gym\n",
    "import tensorflow as tf\n",
    "import numpy as np\n",
    "import statistics\n",
    "from tensorflow.keras import Model, layers\n",
    "from tensorflow.keras.layers import Flatten, Dense\n",
    "import collections\n",
    "import tqdm\n",
    "import matplotlib.pyplot as plt\n",
    "\n",
    "env = gym.make(\"ALE/Breakout-v5\", obs_type=\"ram\")\n",
    "\n",
    "seed = 21\n",
    "tf.random.set_seed(seed)\n",
    "np.random.seed(seed)\n",
    "\n",
    "eps = np.finfo(np.float32).eps.item()"
   ]
  },
  {
   "cell_type": "code",
   "execution_count": 4,
   "id": "bda9460e-9104-4486-a8e1-e990440a0084",
   "metadata": {},
   "outputs": [],
   "source": [
    "class ActorCritic(tf.keras.Model):\n",
    "  \"\"\"Combined actor-critic network.\"\"\"\n",
    "\n",
    "  def __init__(\n",
    "      self,\n",
    "      num_actions: int,\n",
    "      num_hidden_units: int):\n",
    "    \"\"\"Initialize.\"\"\"\n",
    "    super().__init__()\n",
    "\n",
    "    self.common = layers.Dense(num_hidden_units, activation=\"relu\")\n",
    "    self.actor = layers.Dense(num_actions)\n",
    "    self.critic = layers.Dense(1)\n",
    "\n",
    "  def call(self, inputs: tf.Tensor):\n",
    "    x = self.common(inputs)\n",
    "    return self.actor(x), self.critic(x)"
   ]
  },
  {
   "cell_type": "code",
   "execution_count": 94,
   "id": "f7893998",
   "metadata": {},
   "outputs": [],
   "source": [
    "\"\"\"from tensorflow import keras\n",
    "\n",
    "class ActorCritic(Model):\n",
    "  def __init__(self, num_actions: int, num_hidden_units: int):\n",
    "    super().__init__()\n",
    "\n",
    "    # self.common = layers.Dense(num_hidden_units, activation=\"relu\")\n",
    "    self.conv0 = keras.layers.Conv2D(32, (3, 3), strides=(1, 1), padding='same', input_shape=[210, 160, 3])\n",
    "    # Convolutional layers for feature extraction\n",
    "    self.conv1 = keras.layers.Conv2D(64, (3, 3), activation='relu')\n",
    "    self.pool1 = keras.layers.MaxPooling2D((2, 2))\n",
    "    self.conv2 = keras.layers.Conv2D(64, (4, 4), activation='relu')\n",
    "    self.pool2 = keras.layers.MaxPooling2D((2, 2))\n",
    "    self.conv3 = keras.layers.Conv2D(32, (5, 5), activation='relu')\n",
    "    self.pool3 = keras.layers.MaxPooling2D((2, 2))\n",
    "    self.conv4 = keras.layers.Conv2D(32, (5, 5), activation='relu')\n",
    "\n",
    "    # Flatten the output from the convolutional layers\n",
    "    self.flatten = keras.layers.Flatten()\n",
    "\n",
    "    # Hidden layer with ReLU activation\n",
    "    self.common = keras.layers.Dense(num_hidden_units, activation=\"relu\")\n",
    "\n",
    "    # Actor branch for policy\n",
    "    self.actor = keras.layers.Dense(num_actions, activation='softmax')\n",
    "\n",
    "    # Critic branch for state value estimation\n",
    "    self.critic = keras.layers.Dense(1)\n",
    "\n",
    "  def call(self, inputs: tf.Tensor):\n",
    "    # x = self.common(inputs)\n",
    "    x = self.conv0(inputs)\n",
    "    x = self.conv1(x)\n",
    "    x = self.pool1(x)\n",
    "    x = self.conv2(x)\n",
    "    x = self.pool2(x)\n",
    "    x = self.conv3(x)\n",
    "    x = self.pool3(x)\n",
    "    x = self.conv4(x)\n",
    "    x = self.flatten(x)\n",
    "    x = self.common(x)\n",
    "    return self.actor(x), self.critic(x)\"\"\""
   ]
  },
  {
   "cell_type": "code",
   "execution_count": 95,
   "id": "e50e33f0",
   "metadata": {},
   "outputs": [],
   "source": [
    "# import tensorflow as tf\n",
    "\n",
    "# class ActorCritic(Model):\n",
    "#   def __init__(self, num_actions: int,num_hidden_units: int):\n",
    "#     super().__init__()\n",
    "\n",
    "#     # Define the convolutional layers\n",
    "#     self.conv1 = tf.keras.layers.Conv2D(\n",
    "#         filters=64, kernel_size=3, activation=\"relu\")\n",
    "#     self.pool1 = tf.keras.layers.MaxPool2D(pool_size=(2, 2))\n",
    "#     self.conv2 = tf.keras.layers.Conv2D(\n",
    "#         filters=64, kernel_size=4, activation=\"relu\")\n",
    "#     self.pool2 = tf.keras.layers.MaxPool2D(pool_size=(2, 2))\n",
    "#     self.conv3 = tf.keras.layers.Conv2D(\n",
    "#         filters=32, kernel_size=5, activation=\"relu\")\n",
    "#     self.pool3 = tf.keras.layers.MaxPool2D(pool_size=(2, 2))\n",
    "#     self.conv4 = tf.keras.layers.Conv2D(\n",
    "#         filters=32, kernel_size=5, activation=\"relu\")\n",
    "#     self.flatten = tf.keras.layers.Flatten()\n",
    "\n",
    "#     # Define the hidden layer\n",
    "#     self.fc1 = tf.keras.layers.Dense(units=num_hidden_units, activation=\"relu\")\n",
    "\n",
    "#     # Define the actor and critic outputs\n",
    "#     self.actor = tf.keras.layers.Dense(num_actions, activation=\"softmax\")\n",
    "#     self.critic = tf.keras.layers.Dense(1)\n",
    "\n",
    "#   def call(self, inputs):\n",
    "#     x = self.conv1(inputs)\n",
    "#     x = self.pool1(x)\n",
    "#     x = self.conv2(x)\n",
    "#     x = self.pool2(x)\n",
    "#     x = self.conv3(x)\n",
    "#     x = self.pool3(x)\n",
    "#     x = self.conv4(x)\n",
    "#     x = self.flatten(x)\n",
    "#     x = self.fc1(x)\n",
    "#     actor_output = self.actor(x)\n",
    "#     critic_output = self.critic(x)\n",
    "\n",
    "#     return actor_output, critic_output"
   ]
  },
  {
   "cell_type": "code",
   "execution_count": 5,
   "id": "75257e8c-8bf9-4721-9b5f-a4c355fea382",
   "metadata": {},
   "outputs": [],
   "source": [
    "num_actions = env.action_space.n\n",
    "num_hidden_units = 512\n",
    "\n",
    "model = ActorCritic(num_actions, num_hidden_units)"
   ]
  },
  {
   "cell_type": "code",
   "execution_count": 7,
   "id": "78c2c6bd-3c90-47bd-942d-3d4ff4433726",
   "metadata": {},
   "outputs": [],
   "source": [
    "@tf.numpy_function(Tout=[tf.float32, tf.int32, tf.int32])\n",
    "def env_step(action: np.ndarray):\n",
    "  \"\"\"Returns state, reward and done flag given an action.\"\"\"\n",
    "\n",
    "  state, reward, done, truncated, info = env.step(action)\n",
    "  return (state.astype(np.float32),\n",
    "          np.array(reward, np.int32),\n",
    "          np.array(done, np.int32))"
   ]
  },
  {
   "cell_type": "code",
   "execution_count": 8,
   "id": "081c30b2-31ef-4e2d-b39f-ec5bd837c6ae",
   "metadata": {},
   "outputs": [],
   "source": [
    "def run_episode(\n",
    "    initial_state: tf.Tensor,\n",
    "    model: tf.keras.Model,\n",
    "    max_steps: int):\n",
    "    \"\"\"Runs a single episode to collect training data.\"\"\"\n",
    "    \n",
    "    action_probs = tf.TensorArray(dtype=tf.float32, size=0, dynamic_size=True)\n",
    "    values = tf.TensorArray(dtype=tf.float32, size=0, dynamic_size=True)\n",
    "    rewards = tf.TensorArray(dtype=tf.int32, size=0, dynamic_size=True)\n",
    "    \n",
    "    initial_state_shape = initial_state.shape\n",
    "    state = initial_state\n",
    "    \n",
    "    for t in tf.range(max_steps):\n",
    "        # Convert state into a batched tensor (batch size = 1)\n",
    "        state = tf.expand_dims(state, 0)\n",
    "        \n",
    "        # Run the model and to get action probabilities and critic value\n",
    "        action_logits_t, value = model(state)\n",
    "        #action_logits_t = tf.squeeze(action_logits_t)\n",
    "        # Sample next action from the action probability distribution\n",
    "        action = tf.random.categorical(action_logits_t, 1)[0, 0]\n",
    "        action_probs_t = tf.nn.softmax(action_logits_t)\n",
    "        \n",
    "        # Store critic values\n",
    "        values = values.write(t, tf.squeeze(value))\n",
    "        \n",
    "        # Store log probability of the action chosen\n",
    "        action_probs = action_probs.write(t, action_probs_t[0, action])\n",
    "        \n",
    "        # Apply action to the environment to get next state and reward\n",
    "        state, reward, done = env_step(action)\n",
    "        state.set_shape(initial_state_shape)\n",
    "        \n",
    "        # Store reward\n",
    "        rewards = rewards.write(t, reward)\n",
    "        \n",
    "        if tf.cast(done, tf.bool):\n",
    "          break\n",
    "    \n",
    "    action_probs = action_probs.stack()\n",
    "    values = values.stack()\n",
    "    rewards = rewards.stack()\n",
    "    \n",
    "    return action_probs, values, rewards"
   ]
  },
  {
   "cell_type": "code",
   "execution_count": 9,
   "id": "f3edfd51-9e78-48bd-9d22-10430e50f107",
   "metadata": {},
   "outputs": [],
   "source": [
    "def get_expected_return(\n",
    "    rewards: tf.Tensor,\n",
    "    gamma: float,\n",
    "    standardize: bool = True):\n",
    "  \"\"\"Compute expected returns per timestep.\"\"\"\n",
    "\n",
    "  n = tf.shape(rewards)[0]\n",
    "  returns = tf.TensorArray(dtype=tf.float32, size=n)\n",
    "\n",
    "  # Start from the end of `rewards` and accumulate reward sums\n",
    "  # into the `returns` array\n",
    "  rewards = tf.cast(rewards[::-1], dtype=tf.float32)\n",
    "  discounted_sum = tf.constant(0.0)\n",
    "  discounted_sum_shape = discounted_sum.shape\n",
    "  for i in tf.range(n):\n",
    "    reward = rewards[i]\n",
    "    discounted_sum = reward + gamma * discounted_sum\n",
    "    discounted_sum.set_shape(discounted_sum_shape)\n",
    "    returns = returns.write(i, discounted_sum)\n",
    "  returns = returns.stack()[::-1]\n",
    "\n",
    "  if standardize:\n",
    "    returns = ((returns - tf.math.reduce_mean(returns)) /\n",
    "               (tf.math.reduce_std(returns) + eps))\n",
    "\n",
    "  return returns"
   ]
  },
  {
   "cell_type": "code",
   "execution_count": 10,
   "id": "1bb60ca7-0708-4a02-802f-b0b17b569939",
   "metadata": {},
   "outputs": [],
   "source": [
    "huber_loss = tf.keras.losses.Huber(reduction=tf.keras.losses.Reduction.SUM)\n",
    "\n",
    "def compute_loss(\n",
    "    action_probs: tf.Tensor,\n",
    "    values: tf.Tensor,\n",
    "    returns: tf.Tensor) -> tf.Tensor:\n",
    "  \"\"\"Computes the combined Actor-Critic loss.\"\"\"\n",
    "\n",
    "  advantage = returns - values\n",
    "\n",
    "  action_log_probs = tf.math.log(action_probs)\n",
    "  actor_loss = -tf.math.reduce_sum(action_log_probs * advantage)\n",
    "\n",
    "  critic_loss = huber_loss(values, returns)\n",
    "\n",
    "  return actor_loss + critic_loss"
   ]
  },
  {
   "cell_type": "code",
   "execution_count": 11,
   "id": "30efa1c5-64c8-41b0-89e3-9343108a2a90",
   "metadata": {},
   "outputs": [],
   "source": [
    "optimizer = tf.keras.optimizers.Adam(learning_rate=0.01)\n",
    "\n",
    "@tf.function\n",
    "def train_step(\n",
    "    initial_state: tf.Tensor,\n",
    "    model: tf.keras.Model,\n",
    "    optimizer: tf.keras.optimizers.Optimizer,\n",
    "    gamma: float,\n",
    "    max_steps_per_episode: int) -> tf.Tensor:\n",
    "  \"\"\"Runs a model training step.\"\"\"\n",
    "\n",
    "  with tf.GradientTape() as tape:\n",
    "\n",
    "    # Run the model for one episode to collect training data\n",
    "    action_probs, values, rewards = run_episode(\n",
    "        initial_state, model, max_steps_per_episode)\n",
    "\n",
    "    # Calculate the expected returns\n",
    "    returns = get_expected_return(rewards, gamma)\n",
    "\n",
    "    # Convert training data to appropriate TF tensor shapes\n",
    "    action_probs, values, returns = [\n",
    "        tf.expand_dims(x, 1) for x in [action_probs, values, returns]]\n",
    "\n",
    "    # Calculate the loss values to update our network\n",
    "    loss = compute_loss(action_probs, values, returns)\n",
    "\n",
    "  # Compute the gradients from the loss\n",
    "  grads = tape.gradient(loss, model.trainable_variables)\n",
    "\n",
    "  # Apply the gradients to the model's parameters\n",
    "  optimizer.apply_gradients(zip(grads, model.trainable_variables))\n",
    "\n",
    "  episode_reward = tf.math.reduce_sum(rewards)\n",
    "\n",
    "  return episode_reward\n",
    "  #return episode_reward if episode_reward is not None else -3"
   ]
  },
  {
   "cell_type": "code",
   "execution_count": 23,
   "id": "50abbfef-b4e7-4920-a7db-9e54700a65c7",
   "metadata": {},
   "outputs": [
    {
     "name": "stderr",
     "output_type": "stream",
     "text": [
      "  0%|▏                                           | 2/600 [00:00<01:19,  7.56it/s, episode_reward=8, running_reward=7.5]"
     ]
    },
    {
     "name": "stdout",
     "output_type": "stream",
     "text": [
      "Episode 0: average reward: 7\n"
     ]
    },
    {
     "name": "stderr",
     "output_type": "stream",
     "text": [
      " 17%|██████▉                                  | 102/600 [00:12<00:56,  8.77it/s, episode_reward=7, running_reward=5.19]"
     ]
    },
    {
     "name": "stdout",
     "output_type": "stream",
     "text": [
      "Episode 100: average reward: 5.1683168316831685\n"
     ]
    },
    {
     "name": "stderr",
     "output_type": "stream",
     "text": [
      " 34%|█████████████▊                           | 202/600 [00:23<00:47,  8.38it/s, episode_reward=7, running_reward=5.15]"
     ]
    },
    {
     "name": "stdout",
     "output_type": "stream",
     "text": [
      "Episode 200: average reward: 5.1393034825870645\n"
     ]
    },
    {
     "name": "stderr",
     "output_type": "stream",
     "text": [
      " 50%|████████████████████▋                    | 302/600 [00:35<00:34,  8.72it/s, episode_reward=2, running_reward=4.95]"
     ]
    },
    {
     "name": "stdout",
     "output_type": "stream",
     "text": [
      "Episode 300: average reward: 4.95016611295681\n"
     ]
    },
    {
     "name": "stderr",
     "output_type": "stream",
     "text": [
      " 67%|███████████████████████████▍             | 402/600 [00:47<00:24,  8.09it/s, episode_reward=7, running_reward=5.04]"
     ]
    },
    {
     "name": "stdout",
     "output_type": "stream",
     "text": [
      "Episode 400: average reward: 5.039900249376559\n"
     ]
    },
    {
     "name": "stderr",
     "output_type": "stream",
     "text": [
      " 84%|██████████████████████████████████▎      | 503/600 [00:58<00:10,  9.67it/s, episode_reward=7, running_reward=5.02]"
     ]
    },
    {
     "name": "stdout",
     "output_type": "stream",
     "text": [
      "Episode 500: average reward: 5.029940119760479\n"
     ]
    },
    {
     "name": "stderr",
     "output_type": "stream",
     "text": [
      "100%|████████████████████████████████████████████| 600/600 [01:09<00:00,  8.63it/s, episode_reward=3, running_reward=5]"
     ]
    },
    {
     "name": "stdout",
     "output_type": "stream",
     "text": [
      "\n",
      "Solved at episode 599: average reward: 5.00!\n",
      "CPU times: total: 6.55 s\n",
      "Wall time: 1min 9s\n"
     ]
    },
    {
     "name": "stderr",
     "output_type": "stream",
     "text": [
      "\n"
     ]
    }
   ],
   "source": [
    "%%time\n",
    "\n",
    "min_episodes_criterion = 50\n",
    "max_episodes = 600\n",
    "max_steps_per_episode = 100000\n",
    "\n",
    "reward_threshold = 0\n",
    "running_reward = 0\n",
    "\n",
    "# The discount factor for future rewards\n",
    "gamma = 0.99\n",
    "\n",
    "# Keep the last episodes reward\n",
    "episodes_reward = []\n",
    "running_totals = []\n",
    "\n",
    "t = tqdm.trange(max_episodes)\n",
    "with tf.device('/GPU:0'):\n",
    "    for i in t:\n",
    "        initial_state, info = env.reset()\n",
    "        initial_state = tf.constant(initial_state, dtype=tf.float32)\n",
    "        # initial_state = tf.squeeze(initial_state)\n",
    "        # initial_state = initial_state[:, :]\n",
    "        # initial_state = tf.expand_dims(initial_state, axis=0)\n",
    "        episode_reward = int(train_step(\n",
    "            initial_state, model, optimizer, gamma, max_steps_per_episode))\n",
    "\n",
    "        episodes_reward.append(episode_reward)\n",
    "        running_reward = statistics.mean(episodes_reward)\n",
    "        running_totals.append(running_reward)\n",
    "\n",
    "        t.set_postfix(\n",
    "            episode_reward=episode_reward, running_reward=running_reward)\n",
    "\n",
    "        # Show the average episode reward every 10 episodesa\n",
    "        if i % 100 == 0:\n",
    "            print(f'Episode {i}: average reward: {running_reward}')\n",
    "            pass # \n",
    "\n",
    "        #ice hockey doesn't have a reward threshold as there is no score limit\n",
    "        #if running_reward > reward_threshold and i >= min_episodes_criterion:\n",
    "        #   break\n",
    "\n",
    "print(f'\\nSolved at episode {i}: average reward: {running_reward:.2f}!')"
   ]
  },
  {
   "cell_type": "code",
   "execution_count": 28,
   "id": "b614e745-e34e-42e1-b600-8db25c2b3092",
   "metadata": {},
   "outputs": [
    {
     "data": {
      "text/plain": [
       "[<matplotlib.lines.Line2D at 0x21263bf3210>]"
      ]
     },
     "execution_count": 28,
     "metadata": {},
     "output_type": "execute_result"
    },
    {
     "data": {
      "image/png": "[encoded data removed]",
      "text/plain": [
       "<Figure size 640x480 with 1 Axes>"
      ]
     },
     "metadata": {},
     "output_type": "display_data"
    }
   ],
   "source": [
    "#plt.plot(episodes_reward)\n",
    "plt.plot(running_totals)"
   ]
  },
  {
   "cell_type": "code",
   "execution_count": 91,
   "id": "c8a00be6",
   "metadata": {},
   "outputs": [
    {
     "name": "stderr",
     "output_type": "stream",
     "text": [
      "  0%|          | 0/1000 [00:00<?, ?it/s]\n"
     ]
    },
    {
     "ename": "ValueError",
     "evalue": "in user code:\n\n    File \"/tmp/ipykernel_20561/4271716241.py\", line 15, in train_step  *\n        action_probs, values, rewards = run_episode(\n    File \"/tmp/ipykernel_20561/1145069195.py\", line 19, in run_episode  *\n        action_logits_t, value = model(state)\n    File \"/usr/local/lib/python3.10/dist-packages/keras/src/utils/traceback_utils.py\", line 70, in error_handler  **\n        raise e.with_traceback(filtered_tb) from None\n    File \"/tmp/__autograph_generated_file0m4u5zi_.py\", line 11, in tf__call\n        x = ag__.converted_call(ag__.ld(self).conv1, (ag__.ld(x),), None, fscope)\n\n    ValueError: Exception encountered when calling layer 'actor_critic_7' (type ActorCritic).\n    \n    in user code:\n    \n        File \"/tmp/ipykernel_20561/3262233582.py\", line 33, in call  *\n            x = self.conv1(x)\n        File \"/usr/local/lib/python3.10/dist-packages/keras/src/utils/traceback_utils.py\", line 70, in error_handler  **\n            raise e.with_traceback(filtered_tb) from None\n        File \"/usr/local/lib/python3.10/dist-packages/keras/src/layers/convolutional/base_conv.py\", line 354, in compute_output_shape\n            raise ValueError(\n    \n        ValueError: One of the dimensions in the output is <= 0 due to downsampling in conv2d_29. Consider increasing the input size. Received input shape [1, 1, 210, 32] which would produce output shape with a zero or negative value in a dimension.\n    \n    \n    Call arguments received by layer 'actor_critic_7' (type ActorCritic):\n      • inputs=tf.Tensor(shape=(1, 1, 210, 160), dtype=float32)\n",
     "output_type": "error",
     "traceback": [
      "\u001b[0;31m---------------------------------------------------------------------------\u001b[0m",
      "\u001b[0;31mValueError\u001b[0m                                Traceback (most recent call last)",
      "File \u001b[0;32m<timed exec>:20\u001b[0m\n",
      "File \u001b[0;32m/usr/local/lib/python3.10/dist-packages/tensorflow/python/util/traceback_utils.py:153\u001b[0m, in \u001b[0;36mfilter_traceback.<locals>.error_handler\u001b[0;34m(*args, **kwargs)\u001b[0m\n\u001b[1;32m    151\u001b[0m \u001b[38;5;28;01mexcept\u001b[39;00m \u001b[38;5;167;01mException\u001b[39;00m \u001b[38;5;28;01mas\u001b[39;00m e:\n\u001b[1;32m    152\u001b[0m   filtered_tb \u001b[38;5;241m=\u001b[39m _process_traceback_frames(e\u001b[38;5;241m.\u001b[39m__traceback__)\n\u001b[0;32m--> 153\u001b[0m   \u001b[38;5;28;01mraise\u001b[39;00m e\u001b[38;5;241m.\u001b[39mwith_traceback(filtered_tb) \u001b[38;5;28;01mfrom\u001b[39;00m \u001b[38;5;28;01mNone\u001b[39;00m\n\u001b[1;32m    154\u001b[0m \u001b[38;5;28;01mfinally\u001b[39;00m:\n\u001b[1;32m    155\u001b[0m   \u001b[38;5;28;01mdel\u001b[39;00m filtered_tb\n",
      "File \u001b[0;32m/tmp/__autograph_generated_file3_xrs1vy.py:12\u001b[0m, in \u001b[0;36mouter_factory.<locals>.inner_factory.<locals>.tf__train_step\u001b[0;34m(initial_state, model, optimizer, gamma, max_steps_per_episode)\u001b[0m\n\u001b[1;32m     10\u001b[0m retval_ \u001b[38;5;241m=\u001b[39m ag__\u001b[38;5;241m.\u001b[39mUndefinedReturnValue()\n\u001b[1;32m     11\u001b[0m \u001b[38;5;28;01mwith\u001b[39;00m ag__\u001b[38;5;241m.\u001b[39mld(tf)\u001b[38;5;241m.\u001b[39mGradientTape() \u001b[38;5;28;01mas\u001b[39;00m tape:\n\u001b[0;32m---> 12\u001b[0m     (action_probs, values, rewards) \u001b[38;5;241m=\u001b[39m \u001b[43mag__\u001b[49m\u001b[38;5;241;43m.\u001b[39;49m\u001b[43mconverted_call\u001b[49m\u001b[43m(\u001b[49m\u001b[43mag__\u001b[49m\u001b[38;5;241;43m.\u001b[39;49m\u001b[43mld\u001b[49m\u001b[43m(\u001b[49m\u001b[43mrun_episode\u001b[49m\u001b[43m)\u001b[49m\u001b[43m,\u001b[49m\u001b[43m \u001b[49m\u001b[43m(\u001b[49m\u001b[43mag__\u001b[49m\u001b[38;5;241;43m.\u001b[39;49m\u001b[43mld\u001b[49m\u001b[43m(\u001b[49m\u001b[43minitial_state\u001b[49m\u001b[43m)\u001b[49m\u001b[43m,\u001b[49m\u001b[43m \u001b[49m\u001b[43mag__\u001b[49m\u001b[38;5;241;43m.\u001b[39;49m\u001b[43mld\u001b[49m\u001b[43m(\u001b[49m\u001b[43mmodel\u001b[49m\u001b[43m)\u001b[49m\u001b[43m,\u001b[49m\u001b[43m \u001b[49m\u001b[43mag__\u001b[49m\u001b[38;5;241;43m.\u001b[39;49m\u001b[43mld\u001b[49m\u001b[43m(\u001b[49m\u001b[43mmax_steps_per_episode\u001b[49m\u001b[43m)\u001b[49m\u001b[43m)\u001b[49m\u001b[43m,\u001b[49m\u001b[43m \u001b[49m\u001b[38;5;28;43;01mNone\u001b[39;49;00m\u001b[43m,\u001b[49m\u001b[43m \u001b[49m\u001b[43mfscope\u001b[49m\u001b[43m)\u001b[49m\n\u001b[1;32m     13\u001b[0m     returns \u001b[38;5;241m=\u001b[39m ag__\u001b[38;5;241m.\u001b[39mconverted_call(ag__\u001b[38;5;241m.\u001b[39mld(get_expected_return), (ag__\u001b[38;5;241m.\u001b[39mld(rewards), ag__\u001b[38;5;241m.\u001b[39mld(gamma)), \u001b[38;5;28;01mNone\u001b[39;00m, fscope)\n\u001b[1;32m     14\u001b[0m     (action_probs, values, returns) \u001b[38;5;241m=\u001b[39m [ag__\u001b[38;5;241m.\u001b[39mconverted_call(ag__\u001b[38;5;241m.\u001b[39mld(tf)\u001b[38;5;241m.\u001b[39mexpand_dims, (ag__\u001b[38;5;241m.\u001b[39mld(x), \u001b[38;5;241m1\u001b[39m), \u001b[38;5;28;01mNone\u001b[39;00m, fscope) \u001b[38;5;28;01mfor\u001b[39;00m x \u001b[38;5;129;01min\u001b[39;00m [ag__\u001b[38;5;241m.\u001b[39mld(action_probs), ag__\u001b[38;5;241m.\u001b[39mld(values), ag__\u001b[38;5;241m.\u001b[39mld(returns)]]\n",
      "File \u001b[0;32m/tmp/__autograph_generated_file0_jdsdlw.py:68\u001b[0m, in \u001b[0;36mouter_factory.<locals>.inner_factory.<locals>.tf__run_episode\u001b[0;34m(initial_state, model, max_steps)\u001b[0m\n\u001b[1;32m     66\u001b[0m reward \u001b[38;5;241m=\u001b[39m ag__\u001b[38;5;241m.\u001b[39mUndefined(\u001b[38;5;124m'\u001b[39m\u001b[38;5;124mreward\u001b[39m\u001b[38;5;124m'\u001b[39m)\n\u001b[1;32m     67\u001b[0m action \u001b[38;5;241m=\u001b[39m ag__\u001b[38;5;241m.\u001b[39mUndefined(\u001b[38;5;124m'\u001b[39m\u001b[38;5;124maction\u001b[39m\u001b[38;5;124m'\u001b[39m)\n\u001b[0;32m---> 68\u001b[0m \u001b[43mag__\u001b[49m\u001b[38;5;241;43m.\u001b[39;49m\u001b[43mfor_stmt\u001b[49m\u001b[43m(\u001b[49m\u001b[43mag__\u001b[49m\u001b[38;5;241;43m.\u001b[39;49m\u001b[43mconverted_call\u001b[49m\u001b[43m(\u001b[49m\u001b[43mag__\u001b[49m\u001b[38;5;241;43m.\u001b[39;49m\u001b[43mld\u001b[49m\u001b[43m(\u001b[49m\u001b[43mtf\u001b[49m\u001b[43m)\u001b[49m\u001b[38;5;241;43m.\u001b[39;49m\u001b[43mrange\u001b[49m\u001b[43m,\u001b[49m\u001b[43m \u001b[49m\u001b[43m(\u001b[49m\u001b[43mag__\u001b[49m\u001b[38;5;241;43m.\u001b[39;49m\u001b[43mld\u001b[49m\u001b[43m(\u001b[49m\u001b[43mmax_steps\u001b[49m\u001b[43m)\u001b[49m\u001b[43m,\u001b[49m\u001b[43m)\u001b[49m\u001b[43m,\u001b[49m\u001b[43m \u001b[49m\u001b[38;5;28;43;01mNone\u001b[39;49;00m\u001b[43m,\u001b[49m\u001b[43m \u001b[49m\u001b[43mfscope\u001b[49m\u001b[43m)\u001b[49m\u001b[43m,\u001b[49m\u001b[43m \u001b[49m\u001b[43mextra_test\u001b[49m\u001b[43m,\u001b[49m\u001b[43m \u001b[49m\u001b[43mloop_body\u001b[49m\u001b[43m,\u001b[49m\u001b[43m \u001b[49m\u001b[43mget_state_1\u001b[49m\u001b[43m,\u001b[49m\u001b[43m \u001b[49m\u001b[43mset_state_1\u001b[49m\u001b[43m,\u001b[49m\u001b[43m \u001b[49m\u001b[43m(\u001b[49m\u001b[38;5;124;43m'\u001b[39;49m\u001b[38;5;124;43maction_probs\u001b[39;49m\u001b[38;5;124;43m'\u001b[39;49m\u001b[43m,\u001b[49m\u001b[43m \u001b[49m\u001b[38;5;124;43m'\u001b[39;49m\u001b[38;5;124;43mrewards\u001b[39;49m\u001b[38;5;124;43m'\u001b[39;49m\u001b[43m,\u001b[49m\u001b[43m \u001b[49m\u001b[38;5;124;43m'\u001b[39;49m\u001b[38;5;124;43mvalues\u001b[39;49m\u001b[38;5;124;43m'\u001b[39;49m\u001b[43m,\u001b[49m\u001b[43m \u001b[49m\u001b[38;5;124;43m'\u001b[39;49m\u001b[38;5;124;43mbreak_\u001b[39;49m\u001b[38;5;124;43m'\u001b[39;49m\u001b[43m,\u001b[49m\u001b[43m \u001b[49m\u001b[38;5;124;43m'\u001b[39;49m\u001b[38;5;124;43mstate\u001b[39;49m\u001b[38;5;124;43m'\u001b[39;49m\u001b[43m)\u001b[49m\u001b[43m,\u001b[49m\u001b[43m \u001b[49m\u001b[43m{\u001b[49m\u001b[38;5;124;43m'\u001b[39;49m\u001b[38;5;124;43miterate_names\u001b[39;49m\u001b[38;5;124;43m'\u001b[39;49m\u001b[43m:\u001b[49m\u001b[43m \u001b[49m\u001b[38;5;124;43m'\u001b[39;49m\u001b[38;5;124;43mt\u001b[39;49m\u001b[38;5;124;43m'\u001b[39;49m\u001b[43m}\u001b[49m\u001b[43m)\u001b[49m\n\u001b[1;32m     69\u001b[0m action_probs \u001b[38;5;241m=\u001b[39m ag__\u001b[38;5;241m.\u001b[39mconverted_call(ag__\u001b[38;5;241m.\u001b[39mld(action_probs)\u001b[38;5;241m.\u001b[39mstack, (), \u001b[38;5;28;01mNone\u001b[39;00m, fscope)\n\u001b[1;32m     70\u001b[0m values \u001b[38;5;241m=\u001b[39m ag__\u001b[38;5;241m.\u001b[39mconverted_call(ag__\u001b[38;5;241m.\u001b[39mld(values)\u001b[38;5;241m.\u001b[39mstack, (), \u001b[38;5;28;01mNone\u001b[39;00m, fscope)\n",
      "File \u001b[0;32m/tmp/__autograph_generated_file0_jdsdlw.py:31\u001b[0m, in \u001b[0;36mouter_factory.<locals>.inner_factory.<locals>.tf__run_episode.<locals>.loop_body\u001b[0;34m(itr)\u001b[0m\n\u001b[1;32m     29\u001b[0m (break_,)\n\u001b[1;32m     30\u001b[0m state \u001b[38;5;241m=\u001b[39m ag__\u001b[38;5;241m.\u001b[39mconverted_call(ag__\u001b[38;5;241m.\u001b[39mld(tf)\u001b[38;5;241m.\u001b[39mexpand_dims, (ag__\u001b[38;5;241m.\u001b[39mld(state), \u001b[38;5;241m0\u001b[39m), \u001b[38;5;28;01mNone\u001b[39;00m, fscope)\n\u001b[0;32m---> 31\u001b[0m (action_logits_t, value) \u001b[38;5;241m=\u001b[39m \u001b[43mag__\u001b[49m\u001b[38;5;241;43m.\u001b[39;49m\u001b[43mconverted_call\u001b[49m\u001b[43m(\u001b[49m\u001b[43mag__\u001b[49m\u001b[38;5;241;43m.\u001b[39;49m\u001b[43mld\u001b[49m\u001b[43m(\u001b[49m\u001b[43mmodel\u001b[49m\u001b[43m)\u001b[49m\u001b[43m,\u001b[49m\u001b[43m \u001b[49m\u001b[43m(\u001b[49m\u001b[43mag__\u001b[49m\u001b[38;5;241;43m.\u001b[39;49m\u001b[43mld\u001b[49m\u001b[43m(\u001b[49m\u001b[43mstate\u001b[49m\u001b[43m)\u001b[49m\u001b[43m,\u001b[49m\u001b[43m)\u001b[49m\u001b[43m,\u001b[49m\u001b[43m \u001b[49m\u001b[38;5;28;43;01mNone\u001b[39;49;00m\u001b[43m,\u001b[49m\u001b[43m \u001b[49m\u001b[43mfscope\u001b[49m\u001b[43m)\u001b[49m\n\u001b[1;32m     32\u001b[0m action \u001b[38;5;241m=\u001b[39m ag__\u001b[38;5;241m.\u001b[39mconverted_call(ag__\u001b[38;5;241m.\u001b[39mld(tf)\u001b[38;5;241m.\u001b[39mrandom\u001b[38;5;241m.\u001b[39mcategorical, (ag__\u001b[38;5;241m.\u001b[39mld(action_logits_t), \u001b[38;5;241m1\u001b[39m), \u001b[38;5;28;01mNone\u001b[39;00m, fscope)[\u001b[38;5;241m0\u001b[39m, \u001b[38;5;241m0\u001b[39m]\n\u001b[1;32m     33\u001b[0m action_probs_t \u001b[38;5;241m=\u001b[39m ag__\u001b[38;5;241m.\u001b[39mconverted_call(ag__\u001b[38;5;241m.\u001b[39mld(tf)\u001b[38;5;241m.\u001b[39mnn\u001b[38;5;241m.\u001b[39msoftmax, (ag__\u001b[38;5;241m.\u001b[39mld(action_logits_t),), \u001b[38;5;28;01mNone\u001b[39;00m, fscope)\n",
      "File \u001b[0;32m/usr/local/lib/python3.10/dist-packages/keras/src/utils/traceback_utils.py:70\u001b[0m, in \u001b[0;36mfilter_traceback.<locals>.error_handler\u001b[0;34m(*args, **kwargs)\u001b[0m\n\u001b[1;32m     67\u001b[0m     filtered_tb \u001b[38;5;241m=\u001b[39m _process_traceback_frames(e\u001b[38;5;241m.\u001b[39m__traceback__)\n\u001b[1;32m     68\u001b[0m     \u001b[38;5;66;03m# To get the full stack trace, call:\u001b[39;00m\n\u001b[1;32m     69\u001b[0m     \u001b[38;5;66;03m# `tf.debugging.disable_traceback_filtering()`\u001b[39;00m\n\u001b[0;32m---> 70\u001b[0m     \u001b[38;5;28;01mraise\u001b[39;00m e\u001b[38;5;241m.\u001b[39mwith_traceback(filtered_tb) \u001b[38;5;28;01mfrom\u001b[39;00m \u001b[38;5;28;01mNone\u001b[39;00m\n\u001b[1;32m     71\u001b[0m \u001b[38;5;28;01mfinally\u001b[39;00m:\n\u001b[1;32m     72\u001b[0m     \u001b[38;5;28;01mdel\u001b[39;00m filtered_tb\n",
      "File \u001b[0;32m/tmp/__autograph_generated_file0m4u5zi_.py:11\u001b[0m, in \u001b[0;36mouter_factory.<locals>.inner_factory.<locals>.tf__call\u001b[0;34m(self, inputs)\u001b[0m\n\u001b[1;32m      9\u001b[0m retval_ \u001b[38;5;241m=\u001b[39m ag__\u001b[38;5;241m.\u001b[39mUndefinedReturnValue()\n\u001b[1;32m     10\u001b[0m x \u001b[38;5;241m=\u001b[39m ag__\u001b[38;5;241m.\u001b[39mconverted_call(ag__\u001b[38;5;241m.\u001b[39mld(\u001b[38;5;28mself\u001b[39m)\u001b[38;5;241m.\u001b[39mconv0, (ag__\u001b[38;5;241m.\u001b[39mld(inputs),), \u001b[38;5;28;01mNone\u001b[39;00m, fscope)\n\u001b[0;32m---> 11\u001b[0m x \u001b[38;5;241m=\u001b[39m \u001b[43mag__\u001b[49m\u001b[38;5;241;43m.\u001b[39;49m\u001b[43mconverted_call\u001b[49m\u001b[43m(\u001b[49m\u001b[43mag__\u001b[49m\u001b[38;5;241;43m.\u001b[39;49m\u001b[43mld\u001b[49m\u001b[43m(\u001b[49m\u001b[38;5;28;43mself\u001b[39;49m\u001b[43m)\u001b[49m\u001b[38;5;241;43m.\u001b[39;49m\u001b[43mconv1\u001b[49m\u001b[43m,\u001b[49m\u001b[43m \u001b[49m\u001b[43m(\u001b[49m\u001b[43mag__\u001b[49m\u001b[38;5;241;43m.\u001b[39;49m\u001b[43mld\u001b[49m\u001b[43m(\u001b[49m\u001b[43mx\u001b[49m\u001b[43m)\u001b[49m\u001b[43m,\u001b[49m\u001b[43m)\u001b[49m\u001b[43m,\u001b[49m\u001b[43m \u001b[49m\u001b[38;5;28;43;01mNone\u001b[39;49;00m\u001b[43m,\u001b[49m\u001b[43m \u001b[49m\u001b[43mfscope\u001b[49m\u001b[43m)\u001b[49m\n\u001b[1;32m     12\u001b[0m x \u001b[38;5;241m=\u001b[39m ag__\u001b[38;5;241m.\u001b[39mconverted_call(ag__\u001b[38;5;241m.\u001b[39mld(\u001b[38;5;28mself\u001b[39m)\u001b[38;5;241m.\u001b[39mpool1, (ag__\u001b[38;5;241m.\u001b[39mld(x),), \u001b[38;5;28;01mNone\u001b[39;00m, fscope)\n\u001b[1;32m     13\u001b[0m x \u001b[38;5;241m=\u001b[39m ag__\u001b[38;5;241m.\u001b[39mconverted_call(ag__\u001b[38;5;241m.\u001b[39mld(\u001b[38;5;28mself\u001b[39m)\u001b[38;5;241m.\u001b[39mconv2, (ag__\u001b[38;5;241m.\u001b[39mld(x),), \u001b[38;5;28;01mNone\u001b[39;00m, fscope)\n",
      "\u001b[0;31mValueError\u001b[0m: in user code:\n\n    File \"/tmp/ipykernel_20561/4271716241.py\", line 15, in train_step  *\n        action_probs, values, rewards = run_episode(\n    File \"/tmp/ipykernel_20561/1145069195.py\", line 19, in run_episode  *\n        action_logits_t, value = model(state)\n    File \"/usr/local/lib/python3.10/dist-packages/keras/src/utils/traceback_utils.py\", line 70, in error_handler  **\n        raise e.with_traceback(filtered_tb) from None\n    File \"/tmp/__autograph_generated_file0m4u5zi_.py\", line 11, in tf__call\n        x = ag__.converted_call(ag__.ld(self).conv1, (ag__.ld(x),), None, fscope)\n\n    ValueError: Exception encountered when calling layer 'actor_critic_7' (type ActorCritic).\n    \n    in user code:\n    \n        File \"/tmp/ipykernel_20561/3262233582.py\", line 33, in call  *\n            x = self.conv1(x)\n        File \"/usr/local/lib/python3.10/dist-packages/keras/src/utils/traceback_utils.py\", line 70, in error_handler  **\n            raise e.with_traceback(filtered_tb) from None\n        File \"/usr/local/lib/python3.10/dist-packages/keras/src/layers/convolutional/base_conv.py\", line 354, in compute_output_shape\n            raise ValueError(\n    \n        ValueError: One of the dimensions in the output is <= 0 due to downsampling in conv2d_29. Consider increasing the input size. Received input shape [1, 1, 210, 32] which would produce output shape with a zero or negative value in a dimension.\n    \n    \n    Call arguments received by layer 'actor_critic_7' (type ActorCritic):\n      • inputs=tf.Tensor(shape=(1, 1, 210, 160), dtype=float32)\n"
     ]
    }
   ],
   "source": [
    "# %%time\n",
    "\n",
    "# min_episodes_criterion = 50\n",
    "# max_episodes = 1000\n",
    "# max_steps_per_episode = 1000\n",
    "\n",
    "# reward_threshold = 0\n",
    "# running_reward = 0\n",
    "\n",
    "# # The discount factor for future rewards\n",
    "# gamma = 0.99\n",
    "\n",
    "# # Keep the last episodes reward\n",
    "# episodes_reward = []\n",
    "\n",
    "# t = tqdm.trange(max_episodes)\n",
    "# with tf.device('/GPU:0'):\n",
    "#     for i in t:\n",
    "#         initial_state, info = env.reset()\n",
    "#         initial_state = tf.constant(initial_state, dtype=tf.float32)\n",
    "#         initial_state = tf.expand_dims(initial_state, axis=0)\n",
    "#         episode_reward = int(train_step(\n",
    "#             initial_state, model, optimizer, gamma, max_steps_per_episode))\n",
    "\n",
    "#         episodes_reward.append(episode_reward)\n",
    "#         running_reward = statistics.mean(episodes_reward)\n",
    "\n",
    "#         t.set_postfix(\n",
    "#             episode_reward=episode_reward, running_reward=running_reward)\n",
    "\n",
    "#         # Show the average episode reward every 10 episodes\n",
    "#         if i % 10 == 0:\n",
    "#             print(f'Episode {i}: average reward: {running_reward}')\n",
    "\n",
    "#         # Ice hockey doesn't have a reward threshold as there is no score limit\n",
    "#         if running_reward > reward_threshold and i >= min_episodes_criterion:\n",
    "#            break\n",
    "\n",
    "# print(f'\\nSolved at episode {i}: average reward: {running_reward:.2f}!')"
   ]
  },
  {
   "cell_type": "code",
   "execution_count": 109,
   "id": "8386e786-d6d0-4c8d-9d50-b5000a3741e3",
   "metadata": {},
   "outputs": [
    {
     "data": {
      "text/plain": [
       "(-0.005, 0.001)"
      ]
     },
     "execution_count": 109,
     "metadata": {},
     "output_type": "execute_result"
    },
    {
     "data": {
      "image/png": "[encoded data removed]",
      "text/plain": [
       "<Figure size 640x480 with 1 Axes>"
      ]
     },
     "metadata": {},
     "output_type": "display_data"
    }
   ],
   "source": [
    "plt.plot(episodes_reward)\n",
    "plt.ylim(-0.005,0.001)"
   ]
  },
  {
   "cell_type": "code",
   "execution_count": 118,
   "id": "ecba56a0",
   "metadata": {},
   "outputs": [],
   "source": [
    "def render_episode(env: gym.Env, model: tf.keras.Model, max_steps: int):\n",
    "  state, info = env.reset()\n",
    "  state = tf.constant(state, dtype=tf.float32)\n",
    "  screen = env.render()\n",
    "  images = [Image.fromarray(screen)]\n",
    "  flatten = Flatten()\n",
    "\n",
    "  for i in range(1, max_steps + 1):\n",
    "    state=tf.expand_dims(state, axis=0)\n",
    "    action_probs, _ = model(state)\n",
    "    action = np.argmax(np.squeeze(action_probs[0][0]))\n",
    "      \n",
    "    state, reward, done, truncated, info = env.step(action)\n",
    "    state = tf.constant(state, dtype=tf.float32)\n",
    "\n",
    "    # Render screen every 10 steps\n",
    "    if i % 10 == 0:\n",
    "      screen = env.render()\n",
    "      images.append(Image.fromarray(screen))\n",
    "\n",
    "    if done:\n",
    "      break\n",
    "\n",
    "  return images"
   ]
  },
  {
   "cell_type": "code",
   "execution_count": 128,
   "id": "bc894b80",
   "metadata": {},
   "outputs": [],
   "source": [
    "from IPython import display as ipythondisplay\n",
    "from PIL import Image\n",
    "\n",
    "render_env = gym.make(\"ALE/IceHockey-v5\", render_mode=\"rgb_array\")\n",
    "\n",
    "# Save GIF image\n",
    "images = render_episode(render_env, model, 500)\n",
    "image_file = 'Icehockey-v5.gif'\n",
    "# loop=0: loop forever, duration=1: play each frame for 1ms\n",
    "images[0].save(\n",
    "    image_file, save_all=True, append_images=images[1:], loop=0, duration=1)"
   ]
  },
  {
   "cell_type": "code",
   "execution_count": 129,
   "id": "5405b72c",
   "metadata": {},
   "outputs": [
    {
     "data": {
      "text/html": [
       "<img src=\"data:image/gif;base64,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\"/>"
      ],
      "text/plain": [
       "<IPython.core.display.HTML object>"
      ]
     },
     "execution_count": 129,
     "metadata": {},
     "output_type": "execute_result"
    }
   ],
   "source": [
    "import tensorflow_docs.vis.embed as embed\n",
    "embed.embed_file(image_file)"
   ]
  },
  {
   "cell_type": "code",
   "execution_count": null,
   "id": "5d82028d",
   "metadata": {},
   "outputs": [],
   "source": []
  }
 ],
 "metadata": {
  "kernelspec": {
   "display_name": "Python 3 (ipykernel)",
   "language": "python",
   "name": "python3"
  },
  "language_info": {
   "codemirror_mode": {
    "name": "ipython",
    "version": 3
   },
   "file_extension": ".py",
   "mimetype": "text/x-python",
   "name": "python",
   "nbconvert_exporter": "python",
   "pygments_lexer": "ipython3",
   "version": "3.11.7"
  }
 },
 "nbformat": 4,
 "nbformat_minor": 5
}
