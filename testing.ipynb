{
 "cells": [
  {
   "cell_type": "code",
   "execution_count": 205,
   "id": "6776193b-3c22-4969-825e-8c81da6b3de9",
   "metadata": {},
   "outputs": [
    {
     "name": "stderr",
     "output_type": "stream",
     "text": [
      "/usr/local/lib/python3.10/dist-packages/gym/utils/passive_env_checker.py:31: UserWarning: \u001b[33mWARN: A Box observation space has an unconventional shape (neither an image, nor a 1D vector). We recommend flattening the observation to have only a 1D vector or use a custom policy to properly process the data. Actual observation shape: (210, 160)\u001b[0m\n",
      "  logger.warn(\n"
     ]
    }
   ],
   "source": [
    "import gym\n",
    "import tensorflow as tf\n",
    "import numpy as np\n",
    "import statistics\n",
    "from tensorflow.keras import Model, layers\n",
    "from tensorflow.keras.layers import Flatten, Dense\n",
    "import collections\n",
    "import tqdm\n",
    "\n",
    "env = gym.make(\"ALE/IceHockey-v5\", obs_type=\"grayscale\")\n",
    "#env = gym.make(\"ALE/IceHockey-v5\")\n",
    "\n",
    "seed = 21\n",
    "tf.random.set_seed(seed)\n",
    "np.random.seed(seed)\n",
    "\n",
    "eps = np.finfo(np.float32).eps.item()"
   ]
  },
  {
   "cell_type": "code",
   "execution_count": 244,
   "id": "c3e09cd8-12d7-4e83-ae86-a90b5cfe6f31",
   "metadata": {},
   "outputs": [],
   "source": [
    "class ActorCritic(Model):\n",
    "  def __init__(\n",
    "      self,\n",
    "      num_actions: int,\n",
    "      num_hidden_units: int):\n",
    "    super().__init__()\n",
    "\n",
    "    self.common = layers.Dense(num_hidden_units, activation=\"relu\")\n",
    "    self.actor = layers.Dense(num_actions)\n",
    "    self.critic = layers.Dense(1)\n",
    "    #self.faltten = Flatten()\n",
    "\n",
    "  def call(self, inputs: tf.Tensor):\n",
    "    #x = self.common(inputs)\n",
    "    x = self.common(inputs)\n",
    "    return self.actor(x), self.critic(x)"
   ]
  },
  {
   "cell_type": "code",
   "execution_count": 245,
   "id": "75257e8c-8bf9-4721-9b5f-a4c355fea382",
   "metadata": {},
   "outputs": [],
   "source": [
    "num_actions = env.action_space.n\n",
    "num_hidden_units = 128\n",
    "\n",
    "model = ActorCritic(num_actions, num_hidden_units)"
   ]
  },
  {
   "cell_type": "code",
   "execution_count": 233,
   "id": "78c2c6bd-3c90-47bd-942d-3d4ff4433726",
   "metadata": {},
   "outputs": [],
   "source": [
    "@tf.numpy_function(Tout=[tf.float32, tf.int32, tf.int32])\n",
    "def env_step(action: np.ndarray):\n",
    "  \"\"\"Returns state, reward and done flag given an action.\"\"\"\n",
    "\n",
    "  state, reward, done, truncated, info = env.step(action)\n",
    "  return (state.astype(np.float32),\n",
    "          np.array(reward, np.int32),\n",
    "          np.array(done, np.int32))"
   ]
  },
  {
   "cell_type": "code",
   "execution_count": 234,
   "id": "081c30b2-31ef-4e2d-b39f-ec5bd837c6ae",
   "metadata": {},
   "outputs": [],
   "source": [
    "def run_episode(\n",
    "    initial_state: tf.Tensor,\n",
    "    model: tf.keras.Model,\n",
    "    max_steps: int):\n",
    "    \"\"\"Runs a single episode to collect training data.\"\"\"\n",
    "    \n",
    "    action_probs = tf.TensorArray(dtype=tf.float32, size=0, dynamic_size=True)\n",
    "    values = tf.TensorArray(dtype=tf.float32, size=0, dynamic_size=True)\n",
    "    rewards = tf.TensorArray(dtype=tf.int32, size=0, dynamic_size=True)\n",
    "    \n",
    "    initial_state_shape = initial_state.shape\n",
    "    state = initial_state\n",
    "    \n",
    "    for t in tf.range(max_steps):\n",
    "        # Convert state into a batched tensor (batch size = 1)\n",
    "        state = tf.expand_dims(state, 0)\n",
    "        \n",
    "        # Run the model and to get action probabilities and critic value\n",
    "        action_logits_t, value = model(state)\n",
    "        action_logits_t = tf.squeeze(action_logits_t)\n",
    "        # Sample next action from the action probability distribution\n",
    "        action = tf.random.categorical(action_logits_t, 1)[0, 0]\n",
    "        action_probs_t = tf.nn.softmax(action_logits_t)\n",
    "        \n",
    "        # Store critic values\n",
    "        values = values.write(t, tf.squeeze(value))\n",
    "        \n",
    "        # Store log probability of the action chosen\n",
    "        action_probs = action_probs.write(t, action_probs_t[0, action])\n",
    "        \n",
    "        # Apply action to the environment to get next state and reward\n",
    "        state, reward, done = env_step(action)\n",
    "        state.set_shape(initial_state_shape)\n",
    "        \n",
    "        # Store reward\n",
    "        rewards = rewards.write(t, reward)\n",
    "        \n",
    "        if tf.cast(done, tf.bool):\n",
    "          break\n",
    "    \n",
    "    action_probs = action_probs.stack()\n",
    "    values = values.stack()\n",
    "    rewards = rewards.stack()\n",
    "    \n",
    "    return action_probs, values, rewards"
   ]
  },
  {
   "cell_type": "code",
   "execution_count": 235,
   "id": "f3edfd51-9e78-48bd-9d22-10430e50f107",
   "metadata": {},
   "outputs": [],
   "source": [
    "def get_expected_return(\n",
    "    rewards: tf.Tensor,\n",
    "    gamma: float,\n",
    "    standardize: bool = True):\n",
    "  \"\"\"Compute expected returns per timestep.\"\"\"\n",
    "\n",
    "  n = tf.shape(rewards)[0]\n",
    "  returns = tf.TensorArray(dtype=tf.float32, size=n)\n",
    "\n",
    "  # Start from the end of `rewards` and accumulate reward sums\n",
    "  # into the `returns` array\n",
    "  rewards = tf.cast(rewards[::-1], dtype=tf.float32)\n",
    "  discounted_sum = tf.constant(0.0)\n",
    "  discounted_sum_shape = discounted_sum.shape\n",
    "  for i in tf.range(n):\n",
    "    reward = rewards[i]\n",
    "    discounted_sum = reward + gamma * discounted_sum\n",
    "    discounted_sum.set_shape(discounted_sum_shape)\n",
    "    returns = returns.write(i, discounted_sum)\n",
    "  returns = returns.stack()[::-1]\n",
    "\n",
    "  if standardize:\n",
    "    returns = ((returns - tf.math.reduce_mean(returns)) /\n",
    "               (tf.math.reduce_std(returns) + eps))\n",
    "\n",
    "  return returns"
   ]
  },
  {
   "cell_type": "code",
   "execution_count": 236,
   "id": "1bb60ca7-0708-4a02-802f-b0b17b569939",
   "metadata": {},
   "outputs": [],
   "source": [
    "huber_loss = tf.keras.losses.Huber(reduction=tf.keras.losses.Reduction.SUM)\n",
    "\n",
    "def compute_loss(\n",
    "    action_probs: tf.Tensor,\n",
    "    values: tf.Tensor,\n",
    "    returns: tf.Tensor) -> tf.Tensor:\n",
    "  \"\"\"Computes the combined Actor-Critic loss.\"\"\"\n",
    "\n",
    "  advantage = returns - values\n",
    "\n",
    "  action_log_probs = tf.math.log(action_probs)\n",
    "  actor_loss = -tf.math.reduce_sum(action_log_probs * advantage)\n",
    "\n",
    "  critic_loss = huber_loss(values, returns)\n",
    "\n",
    "  return actor_loss + critic_loss"
   ]
  },
  {
   "cell_type": "code",
   "execution_count": 237,
   "id": "30efa1c5-64c8-41b0-89e3-9343108a2a90",
   "metadata": {},
   "outputs": [],
   "source": [
    "optimizer = tf.keras.optimizers.Adam(learning_rate=0.01)\n",
    "\n",
    "@tf.function\n",
    "def train_step(\n",
    "    initial_state: tf.Tensor,\n",
    "    model: tf.keras.Model,\n",
    "    optimizer: tf.keras.optimizers.Optimizer,\n",
    "    gamma: float,\n",
    "    max_steps_per_episode: int) -> tf.Tensor:\n",
    "  \"\"\"Runs a model training step.\"\"\"\n",
    "\n",
    "  with tf.GradientTape() as tape:\n",
    "\n",
    "    # Run the model for one episode to collect training data\n",
    "    action_probs, values, rewards = run_episode(\n",
    "        initial_state, model, max_steps_per_episode)\n",
    "\n",
    "    # Calculate the expected returns\n",
    "    returns = get_expected_return(rewards, gamma)\n",
    "\n",
    "    # Convert training data to appropriate TF tensor shapes\n",
    "    action_probs, values, returns = [\n",
    "        tf.expand_dims(x, 1) for x in [action_probs, values, returns]]\n",
    "\n",
    "    # Calculate the loss values to update our network\n",
    "    loss = compute_loss(action_probs, values, returns)\n",
    "\n",
    "  # Compute the gradients from the loss\n",
    "  grads = tape.gradient(loss, model.trainable_variables)\n",
    "\n",
    "  # Apply the gradients to the model's parameters\n",
    "  optimizer.apply_gradients(zip(grads, model.trainable_variables))\n",
    "\n",
    "  episode_reward = tf.math.reduce_sum(rewards)\n",
    "\n",
    "  return episode_reward"
   ]
  },
  {
   "cell_type": "code",
   "execution_count": 238,
   "id": "50abbfef-b4e7-4920-a7db-9e54700a65c7",
   "metadata": {},
   "outputs": [
    {
     "name": "stderr",
     "output_type": "stream",
     "text": [
      "  0%|          | 0/500 [00:00<?, ?it/s]/usr/local/lib/python3.10/dist-packages/gym/utils/passive_env_checker.py:233: DeprecationWarning: `np.bool8` is a deprecated alias for `np.bool_`.  (Deprecated NumPy 1.24)\n",
      "  if not isinstance(terminated, (bool, np.bool8)):\n",
      " 10%|█         | 50/500 [01:14<11:09,  1.49s/it, episode_reward=-2, running_reward=-1.22]"
     ]
    },
    {
     "name": "stdout",
     "output_type": "stream",
     "text": [
      "\n",
      "Solved at episode 50: average reward: -1.22!\n",
      "CPU times: user 1min 6s, sys: 39.3 s, total: 1min 46s\n",
      "Wall time: 1min 14s\n"
     ]
    },
    {
     "name": "stderr",
     "output_type": "stream",
     "text": [
      "\n"
     ]
    }
   ],
   "source": [
    "%%time\n",
    "\n",
    "min_episodes_criterion = 50\n",
    "max_episodes = 500\n",
    "max_steps_per_episode = 500\n",
    "\n",
    "# `CartPole-v1` is considered solved if average reward is >= 475 over 500\n",
    "# consecutive trials\n",
    "reward_threshold = -2\n",
    "running_reward = 0\n",
    "\n",
    "# The discount factor for future rewards\n",
    "gamma = 0.99\n",
    "\n",
    "# Keep the last episodes reward\n",
    "episodes_reward: collections.deque = collections.deque(maxlen=min_episodes_criterion)\n",
    "\n",
    "t = tqdm.trange(max_episodes)\n",
    "for i in t:\n",
    "    initial_state, info = env.reset()\n",
    "    initial_state = tf.constant(initial_state, dtype=tf.float32)\n",
    "    episode_reward = int(train_step(\n",
    "        initial_state, model, optimizer, gamma, max_steps_per_episode))\n",
    "\n",
    "    episodes_reward.append(episode_reward)\n",
    "    running_reward = statistics.mean(episodes_reward)\n",
    "\n",
    "\n",
    "    t.set_postfix(\n",
    "        episode_reward=episode_reward, running_reward=running_reward)\n",
    "\n",
    "    # Show the average episode reward every 10 episodesa\n",
    "    if i % 10 == 0:\n",
    "      pass # print(f'Episode {i}: average reward: {avg_reward}')\n",
    "\n",
    "    if running_reward > reward_threshold and i >= min_episodes_criterion:\n",
    "        break\n",
    "\n",
    "print(f'\\nSolved at episode {i}: average reward: {running_reward:.2f}!')"
   ]
  },
  {
   "cell_type": "code",
   "execution_count": 246,
   "id": "ecba56a0",
   "metadata": {},
   "outputs": [],
   "source": [
    "\n",
    "\n",
    "def render_episode(env: gym.Env, model: tf.keras.Model, max_steps: int):\n",
    "  state, info = env.reset()\n",
    "  state = tf.constant(state, dtype=tf.float32)\n",
    "  screen = env.render()\n",
    "  images = [Image.fromarray(screen)]\n",
    "  flatten = Flatten()\n",
    "\n",
    "  for i in range(1, max_steps + 1):\n",
    "    state = tf.expand_dims(state, 0)\n",
    "    flat_state = flatten(state)\n",
    "    action_probs, _ = model(flat_state)\n",
    "    action = np.argmax(np.squeeze(action_probs))\n",
    "\n",
    "    state, reward, done, truncated, info = env.step(action)\n",
    "    state = tf.constant(state, dtype=tf.float32)\n",
    "\n",
    "    # Render screen every 10 steps\n",
    "    if i % 10 == 0:\n",
    "      screen = env.render()\n",
    "      images.append(Image.fromarray(screen))\n",
    "\n",
    "    if done:\n",
    "      break\n",
    "\n",
    "  return images"
   ]
  },
  {
   "cell_type": "code",
   "execution_count": 249,
   "id": "bc894b80",
   "metadata": {},
   "outputs": [],
   "source": [
    "from IPython import display as ipythondisplay\n",
    "from PIL import Image\n",
    "\n",
    "render_env = gym.make(\"ALE/IceHockey-v5\", render_mode=\"rgb_array\")\n",
    "\n",
    "# Save GIF image\n",
    "images = render_episode(render_env, model, 500)\n",
    "image_file = 'Icehockey-v5.gif'\n",
    "# loop=0: loop forever, duration=1: play each frame for 1ms\n",
    "images[0].save(\n",
    "    image_file, save_all=True, append_images=images[1:], loop=0, duration=15)"
   ]
  },
  {
   "cell_type": "code",
   "execution_count": 250,
   "id": "5405b72c",
   "metadata": {},
   "outputs": [
    {
     "data": {
      "text/html": [
       "<img src=\"data:image/gif;base64,R0lGODlhoADSAIMAAOjMY+zIYMDAwNK2VlJ+LVRc1shISLgyMi0yuAAAAAAAAAAAAAAAAAAAAAAAAAAAACH/C05FVFNDQVBFMi4wAwEAAAAh+QQAAwAAACwAAAAAoADSAAAI/wATCBxIsKDBgwgTKlzIsKHDhxAjSpxIsaLFixgzatzIsaPHjyBDihxJsqTJkyhTFizAsgDDli4HwlRJs6bAmAlYEtQpMybPnzhtCkXJEyHQmz6DDl0qsqjRpEijMp3aVOlKqDmxUt2aEafTr1iPch17ceZCs0idkl3Ltq3bt3DLtnwboG6AuB3Frq0rkC9ejXrJ+vX7F2PgsYPvFjasVbBiwosrHuaaODJjtY4hW97MubPnz6BDix5NurTp06hTq17NurXr17Bjy55Nu7bt2ycNGMD9Vjdvt75/Cx/eEIFx4lyNK0fOUIDz59CjS58O/aDy5RKpa98e/S/379qtJ/+4PhG8+e54z6sXIP748Yjrz3uPD749AoH34dP/Pn+//+cH/CdgdekNqN4BARqoIHsFLvgdggk6+F9/ElIHYYQV0kdhhtEhKICHHMa3YYjOJQgiifI1iOKHEWK4IncjhojhiS9uFyOHNNZYn4o69rhjXD4G+SNcQhYZHo9GJnljkkEuyWSPTj5ZY5RSrkhllSReiSWHWm5ZYZdeOghmmAqOSeaAZp45IZJqhphmmxqyCeeXcs4pZp12lolnnmjuyeeaQP6Z4ZuCwuhnoSIeiqh6hC46XaOOohdopH1OmqFuc0LKHaZwarodp216Sqmo0ilnJ6nRmZqpoutddyqr513/h8CrliponHO3dgprfLmGuit4J7pIJqolBqtrrQZeWOKxREroIYjCbkmssR/6iqyAMwKoJqo0trjtr9u5mO2w4GrXrbfkXisjhNKWS6mkzaoJKpfu1jjvoPW+eC+d6r7LaL4vDjBAlgCvKPDA9PaLJQAMA5BwvGo2zDC+Cks5ccMUQyykQNtd7GbBa25HgAAjEzAyvxqfabLJGb8158oso+wynCzHLCGxFdps84I4S7jzyXdWzGTJ0O1sYM8LEl30zSBnWDLQJEN9dNM5T0m1gTDriPSfW/PZdZ5f05qyv+uFvarQZNt4NaJmMztz2nGiDfejaxfatrVjz81f3YLe//2t3HoTCHjgzvl9puHp5k04dYiH2biXj7c7OOGRY1l5lZdLmfmTje9rZOcGWM73pqFjPrrXp2t3sOmTG3iwwJqnLp3EE3Mue3QSC+Cw7a3/d7HDuzPp9+4e86541Ym/3aPRSt4e3cqi9y5g1rFL71/NUn/u/HMxZ1+k4UAzv/H2US9tvPI+it8k+Yezn7xbi6dofdqbC+++4/dDnr/kx8cveP/+KxzfQPIw9PHsIwWEX8s2kkDmOPCBEIzgSWCClqxQUIIcUYpXeoJBkMxFJy4JoVQ+aMGc3KSDEBGhT0wYQhXKhIVZMSEKHUJCGM6FhSC04Q1n+BIY6vCFJ3RhCyd52BAVCnEnJWyhCGVIxCY68YlQjKIUp0jFKlrxiljMoha3yEWRBAQAIfkEAQEACgAsOgBUACkAKgCD6Mxj7MhgwMDA0rZWUn4tVFzWyEhIuDIyLTK4AAAAAAAAAAAAAAAAAAAAAAAAAAAACPwAFQgcKFCAAIIIEypcyNAgw4cQGx6MSLGixYsEDRhQYHAixosaOTr8CNJAR48kK55EmRIiAo4FWbZciOBlzJkRa3qUiROhTpswe9JEIIBoQaFDi47kKdTggQNBmQqFerQqUoJUg2q9quApVZRSSUIV8PSm1alUsyI8CTHkw6xlW7pdGFeg2o9uRzKsi1MvV4QDBoj8qzCwYMIKASgG4BfxYsWNuSpWMLkjYsoAKIu0TJiAAs8EPHNuGVkgaNFNeYL+fLC00NCwzf6NTdA1ztADDRKw3XL1YNFhSfr2GxzjaZhgiw9MkOCh59xboz9knhD286PElX/UPpMtw4AAIfkEAQEACgAsLABYADMAMACD6Mxj7MhgwMDA0rZWUn4tVFzWyEhIuDIyLTK4AAAAAAAAAAAAAAAAAAAAAAAAAAAACP8AFQgcSLCgQAECDCpcyLAhQ4QOI0qUCHGixYsYM0o0YIBgRY0gBXL0mDBkyJEDP5pcqQBiSZYWEchMmfAlzIgycx6seVNiTp00e+LUiWCn0KEKZhZFaPOowqJJiy5l6nThgQMGXTatKhBrV68Vt2JUydDrVbBBQ5JV6FXB2QMqxVpca9As1qsF6Qpti9etRpQK9XYdyLetRcBZ9RYmaHgi4rxU61ptzJJpxbdOBwwIXFNwT82bIbfkahCAaQB5R3u+edp01pZye7o+nToy6dmcLcdmSUBBbwK9aZa0zRU4cJKpSRs/fnC0R9K+fwdXDb0g8+iqd8OseN238+qwvQckX63cO8Hp4AVKP48+ffv07LvDn0+/vv37+PM3TJBA/0D+RwUEACH5BAEBAAoALCwABQAxAKkAg+jMY+zIYMDAwNK2VlJ+LVRc1shISLgyMi0yuAAAAAAAAAAAAAAAAAAAAAAAAAAAAAj/ABUIHEiwoMGDCBUUILgwocOHEAkmSBCxosWCEy9CLNAwIkcFFEEq7KhxpMCMCVFKDFmS4UmWCGEOlFmSJEmDN1vq3Mmzp8+fQIMKHUq0qNGjSJMqXcq0qdOnUKNKnUq1qtWrWLNq3cq1q9evYMOKHUu2rNmzaNOqXcu2rdu3cOPKnUu3rt27eCEaMFB1b1++eSEiQFB1cGHCVA0jjqp4amOqBw5MjQyZ8uTIkqNStixQgACmljN3/rxUNGfPpUUrUK1ZtGfSUV+jhip79lPZCmA3Rc2b9ujct3XHHmjbKenXvkcXX3r88/KksGcLr4jar8XoxKdDrA44YnTd2h9yyb+O8LlQ3EM9D1gvlfT6AVUBAKgqYD7V+sMVzLfflIDz3OEx11l7xBFIwFSfHXhggEclKJB/txW0oHEHEgQhU87BNiGG7SEX2IcgymWecQyGaOKJF1n3FEoqOsVidygSxB5V71Eln3xT3YgjVDjeGFWPUymoAAEVRqVgkU8diaRTRDZJZJJPDhlldkhN+WBBI/4kpIVYlsjTlkZKKV6WX3qHnk9Omnkmib0FByBwEb7pZXpakamUhx3a2WCGHQ6Y35tuFnjfnAoEBAAh+QQBAQAKACwpAAgANgCaAIPozGPsyGDAwMDStlZSfi1UXNbISEi4MjItMrgAAAAAAAAAAAAAAAAAAAAAAAAAAAAI/wAVCBxIsKDBgwgTIkygsKHDhwILFIBIsSLCiRYzatzIsaPHjyBDihxJsqTJkyhTqlzJsqXLlzBjypxJs6bNmzhz6tzJs6fPn0CDCh1KtKjRo0iTKl3KtKnTp1CjSp1KtarVq1izat3KtetGAwYUCBCAE6xYsjfNjvVaEQGCszfdvl1bU+5ctDTtwsUL060Cv2v5vvQLmKxgj2YdHjhwkG7IxA0ZC1wMlyRkhZIXHxh72GVmypxJDhitWAHlgY5Bjl4d2TRjvJ03AphNu7VkAaBjZ6QNQEFvzLlNC9Rdcbbv3r8TSh4Y/ONv48llEgBKYHrO6tZxYs9es7oC7zfBc7unmR08ee7jbZpn+zD1Tfc24bNvGBonZ/kw7+N/eV9sfMOGxTdcgDQR959O9dmXIEqXNQbgSg0aRJeBIEVYEGwUqpRahhyRRtF+H7GGE28jkngTdMblVJt61q03k3jawXjedt91J9506bk0Ho7kFdTidQLlKN2PO1mXAEP5HUYjSxNymFKT81kEYkwL/jelS/q9B6CTKAWWU4BXtvTge2dx2aV+ZpJUX5VJXligfwSlKRKBZIbJpIJ2chQQACH5BAEBAAoALCkAQwArAEsAg+jMY+zIYMDAwNK2VlJ+LVRc1shISLgyMi0yuAAAAAAAAAAAAAAAAAAAAAAAAAAAAAj/ABUIHEiwoMGDCAcaMJCwoUOHCx9KnCgwIsWLGDNiHMBRo0eOID1iBECypMiLJQEoUHlSIsmVKlm2dMjypcyZCAngFElA506JPX3+dBhU6NCDPRUkPZrTp1GmBIUuFQBV4FKrAqlWLZhUgAAEWw9qDavAa1YBB8iW1ao1bVizZdUaHEvWK9WxbqHatUsw79C9fAX6/csX7laziOnqPRv3rdyEhuUGfrw3o8WLiS0zxAhXscTLFMdGrhrZ88OOHkdLDPkY5svHKW9utfmarM3WOnM/Dav7se7dVYsGJTtc6dXgT4H/zM2Vt1LcxtUmSPBcblHIpt9mP7y9dd3uTCerK60smfz4u6q1g9/ZeT3OzpThqy/8ne1dxwTvHy7ItnX/+Fl5F+Ba/olnUEAAIfkEAQEACgAsKgAFADUAdQCD6Mxj7MhgwMDA0rZWUn4tVFzWyEhIuDIyLTK4AAAAAAAAAAAAAAAAAAAAAAAAAAAACP8AFQgcSLCgwYMIEwosQJChwocQIypIIJCixIsYK1rMyPFigo0dQyL8WKDAR5EoCZI0CTKlSIstXcqcSbOmzZs4c+rcybOnz59AgwodSrSo0aNIkypdyrSp06dQo0qdSrWq1atYs2oNacAA065fvW71OaCs0rJokQJYy1ZtWwBH1yqQC9doXbpGCUQloFcp375J/wLOq5dv4L6DiwI2TJhg4qOMx+oUIIApZcuVJfOknBkp58tHP4M2+llBZ6KXU4cWqLro6Yyjb8aGOJsm56WlJYLlKtZg6tcKd3cUXhA0cIS3eSMfWPvgcZmxn9c0S1v6zLQzBSAIybYudATgM3aZ9+4SgfbtGOnKlXkgOce2Nq0bZBw5ZWf5Bf8qeCyy8gGOgu1H03//4TeQYfq55J8CB7QnUWSFscdgRoNFmFKDBP0HUX2I1YThhvkJxF9PHHbI1GMnxWdggBPFpKCBPzWnmYqYwdhTbp7h6Fpl7u1omlI8mmbjTjwOmVORRuIkmow+JdejULMlmd2PBEkJHZWeCRlakDkyeVNAACH5BAEBAAoALCkABQA2AGEAg+jMY+zIYMDAwNK2VlJ+LVRc1shISLgyMi0yuAAAAAAAAAAAAAAAAAAAAAAAAAAAAAj/ABUIHEiwoMGDCBMOTECQocKHECMKLCCxosWDBSgqSODwoseHGTV+HKkwI8eMJFMWNJkApcqXCjSKhEmzps2bOHPq3Mmzp8+fQIMKHUq0qNGjSJMqXcq0qdOnUKNKnUq1qtWrWKkaMOB0a1euWYkOGMt0rFmlANKqRbsWQNK0CtIKcIvU7VwAc5UK2MtXrwACBBQISLoXcODBSAcbJoDYqOLAgJcCLiyZb2Skky37FawgMGHEjRMP3PuZYOjNYVOrXs26tevXsGF6TTlbNliStV/mjk16ZG+BZ0kiQEDyt4LgH4cT9x1aLd2Lw286T67SeFy3zysOP22xL0G4cC1ugmdufeBliQcOCC7/kK/1y57Rc05/kbR3gYY7x4eoXkB69R/dt5hHAA5UYES9/RbZefL1p8CBEPUVmmeXcRSRev1x156E+MXnmYX8CdQXhArZ19t+DPLn4F4kIvTbYI+RtGJ9pnH2knEaGoSjiDexp2NBoDkWWoJPcecjUO6JmKNBAQEAIfkEAQEACgAsKQAkADAARACD6Mxj7MhgwMDA0rZWUn4tVFzWyEhIuDIyLTK4AAAAAAAAAAAAAAAAAAAAAAAAAAAACP8AFQgcSLCgwYEGDBhMkOCgw4cQCSZc2DCixYsKJhZkiLGjx48gDSJAsJFjSJAjCTJcefJjyoErWbbEmJKkgoYxYVacebCmQJxAf+7kWdDnzZsVkw4lWvDAgYcCmD50alBAVIQGrEod6PRpQatXM2bVurWrV4FgrwpICLbsU6oDtcptG5Yo3LMK1FodMEBuWa5eyebl2zdq3ZlwBQYmCKAxgK0O4ZJ13FgwZIiNFTg+fBlzZc6dCRIgkFcBAcuhC44ujTa1w9GnTecFnXq1QNKsXYuGfRu1btK4Zes2CFz08IPBhR/fbXz5w+AmnQ+ETWCp9OvYs2vfzr279+9MfV92Fy+dPPjlbV1KTe/xJc+0Lm2+Z99R/syJtCHab4k/f1yC+53UX0T+tUSWfwWeRJhh+SUIEmF8WeTgR5RlBtGEHgEgAGVogYZhRxpmlpl4H2L02IiPQdUZasl9VVuL2PGmHXXbrWZbjLfBeNyNOg6X3I3OARlRQAAh+QQBAQAKACw0AAUAKwA/AIPozGPsyGDAwMDStlZSfi1UXNbISEi4MjItMrgAAAAAAAAAAAAAAAAAAAAAAAAAAAAI/wAVCBxIsKDBgwgVFCC4MKHDhw8TQJxIsaLFixgxJpCYsaNAjh4xNgxJsqTJkyhTqlzJsqXLlzBjypxJs6bNmzhz6tzJs6dPnQYMHNzYMuhQkCqNGiT6syQCBEdZPoW6FOnJqVQLMk2JNarVkE8VhK2q4KvHsGO1SjSb8cCBiQIEnHwr0O3BuAKVGsQ7ka5bugTjylWgtyBfiH7/GhZMWOjdwYgV2LU7EO/hkm8pA1bAV8CAz48rZh5ImXPlzwP2Xn6omLTAwwBiA1i82uFmybcFyp5dWTBklLNjB5bLGHhw3rRTEiAQmvPvkswVLB/+Wjnz5dFfd16JPbtv09aleyUv/jwj0+nSK4Nf7/H8QPTEA59ELzA7+/Im6TuXbxNy7Za+lRcQACH5BAEDAAoALDAADgBEADQAg+jMY+zIYMDAwNK2VlJ+LVRc1shISLgyMi0yuAAAAAAAAAAAAAAAAAAAAAAAAAAAAAj/ABUIHEiwoMGDCBMqRJhAYMOFECNKhNgwQIAEDydq3EgxgUWMHEOKLIjxY8aRKDWWvHgypcuFK0G+nEmzps2bOHPq3Mmzp8+fQIMKHUq0qNGjSJMqXcq06UaZTmG2NGjAgFOoCKtGhai1KdatBjFOJTigbFKtAtIKUFh2wFmratciBEAXwNu0CvDOrbsUr96DdukmRYBArkLBgpESHvi3IAECeQ0bXRxZMkHICh4PRqCgsFqDmh9jPrq4cOSEokcXLS3X8sDHAjQjFXCAYOPXBNKqJlq7sevMamXzrl3wdubceHcHPcCc+MK1upX/ZK6A+nPov4Fad57QOO+B1rsLI/Q+nTt3g37JDw2vMC7Yg+nfj2/dWv7pvIyzO/VtH77+nQEBACH5BAEBAAoALCkAJAA6AIoAg+jMY+zIYMDAwNK2VlJ+LVRc1shISLgyMi0yuAAAAAAAAAAAAAAAAAAAAAAAAAAAAAj/ABUIHEiwoMGDBA0YQMiwocOHAhMkEKgQosWLDSVSXIixo0eNHkOKVICg5MiTCCUmKMkSZUMBAi6qZNnS5UGYFlWuJFnTZkGcEHUi4EnUp8iJEoeaJGmUIFCHOJ8SPNBUoFSGVw9Qreo05kOvQLVu5aog6suYMGOKHcvV7Ne0WhXEJev2bFkBW+eSvftWoF62Ta9iHXjAq1zANtNCfKp3b1rDFgUHRgt5b0eglS1fNCxZs92BmT1vDi26tOnTqFOrXs26tevXsGPLnk27tu3buHN3xd0Zdm/drxXXfkyaNfHiCCs6Voz8oPLdKKOi7fgcdPPFVqe7/I19ZE/L3A1+/89+PXJ4gjR/Pk4s/CHNoV3Xn5RucelSq3fPfy5f8H5ZvvohxFl5fznF138iSUVggYNtt+BcgAVYVVwQxqcag2PJhxpbY21F32mNdYjfgaYBxuFT/PkUYoeQSejZWsDF+FB1tNE4m40ywjbAALjtyKNtAAQJAJBCDjlbkAoIiRpICCFp5JITMUSAAlMSMGVtVlqJZZZXzqalll52CWZsY1IpW5UEldkammnCVmWXVMLJmpxuZpnjnXjmqeeefPbp55+ABirooIQWauihiCaq6KKMvoZjbI/CFmmjIvlom4870lYkkkcq+SRsTg756WtGOnmmjGqemSqZdtL2JZ2vgQ8Jq2tizrpambbGmmtDAQEAIfkEAQEACgAsOgBUACkAKgCD6Mxj7MhgwMDA0rZWUn4tVFzWyEhIuDIyLTK4AAAAAAAAAAAAAAAAAAAAAAAAAAAACPwAFQgcKFCAAIIIEypcyNAgw4cQGx6MSLGixYsKDU7EyFGBxo4XDRjQuBFkRJEkTVZEWbCkSooOXz5EgGCjS5kIacb0iHOhzpg3eyrQWXNiUJw0h/JcKnRgUgRMj0IUKVHBgQNRO1JdKODqwJJSGW5liLXl16ZWr5ZNmLLigAEKvXrt+RYuwrlrZQLYC+DuwLl6+fYVCNgqzr0C+C4sbHKvgsFoExJQQEAAgcmRJV/GnHng5sudCV62XDk05dKkX+7UfPAgZ5CrRZ913XnyZJKvhdqu/DF3T84OY7/8/NVmWIUJElhcfTxh8oqtCQrvGV165tZgm3fUrvojw4AAIfkEAQEACgAsMABaADIALgCD6Mxj7MhgwMDA0rZWUn4tVFzWyEhIuDIyLTK4AAAAAAAAAAAAAAAAAAAAAAAAAAAACP8AFQgcSHCgAAEFEypcyLChQYQOI0p0eHCixYsYM2asqLHjQo4eQz4USVJBRYglGxowoPBkSocrWyJEGTGmTJUsP9KEmTMhyIs/Jdr0ubMgAgREi740ejSp0oYDBuhUeLQpwZNPGUaVmjRhVaRXIWZdCKAsAKcEm1o1ONKi2bIFD8odqBaswJ9jC8I1G9YkxwMHJAZtuJeoSYKBBQJOSUBBYwKN2c6EmBhwYsaOI4f9q9gyZsia78qlrGDx4pKPIcedrLh0ZdQCH/cVXbp2Z5KpHc++6/qybY+hdfOmedC3a5HBNc+MuzR2QdWH8ebVGPxq84Sgq4++bpg70Onew4sXH0++vPnz6NOrX8++vXv0CRK8VxA/fEAAIfkEAQEACgAsKgAFADUAqQCD6Mxj7MhgwMDA0rZWUn4tVFzWyEhIuDIyLTK4AAAAAAAAAAAAAAAAAAAAAAAAAAAACP8AFQgcSLCgwYMIEwpMwHChwocQIypgWKCixIsYByYQaDGjx4gNP4pUWLHjyJMENyooMBGlS4YqXcqcSbOmzZs4c+rcybOnz59AgwodSrSo0aNIkypdyrSp06dQo0qdSrWq1atYs2rdyrWr169gw4odS7as2bNo06pdy7at27dw48qdS7eu3bt48+qtK0AA074zAZ8U7JJwUsAGDIg0LDPxx75+AwtwnBFyZJmQH2eWPKAzRMqAGQ/uTPohaL+iFysAMJC1QsepUfplTVvi5dgeAQAQoJv3QwQIFETe7JI1792uEQIPPpz4SALCheMWuDx66MuyB2I/WB31cMwKoBPQ2G6we3SB020PhK4wOHDp2MlXDi/+4QGC29ND9EuAPcQDAOIUGXv8KQTgfTfx5194Bh4oWWr9JXRggEgFSOFR92WIYFEXKrBhUh3uJeKIJJYYlH5AoWjiinpRJlRIBLkYFIwDyUiiZ0uVppRuuu3IY3JF9cgjUkIqVV+ESYm3YFFKLklUf1Ai+SSSUGonn05SCuSfijLVR9CWV+LkJVJKJuQclg9ZFiZKUaapJlKWnVfUdXIS1VydQq15FJc8nWlUnHB6d9h3cFq5Z3x/6VlQQAAh+QQBAQAKACwqAAUANQCdAIPozGPsyGDAwMDStlZSfi1UXNbISEi4MjItMrgAAAAAAAAAAAAAAAAAAAAAAAAAAAAI/wAVCBxIsKDBgwgTDixQQKHDhxAJNkyQQEHDiBgzCqxY8aLGjworghz5kCJFkigNXuyYsqVFjy5jypxJs6bNmzhz6tzJs6fPn0CDCh1KtKjRo0iTKl3KtKnTp1CjSp1KtarVq1izat3KtavXr2DDih1LtqzZs2jTql3Ltq3bt3Djyp3b04ABpXbx3qWrcIBfpH4DGwVAuPBgwwCKElawODFRx42JEnhKYDLSypaPYs4smYCAypo9f9asQMBnzkFBD0Q91LTqhKZ1mp7tMDbO2bQV2r6Ju3TR2MBrC7gtMDjs3TSHZ8ydEzlC5rydH4Ruszfs0sqjY9fN03b259JnZs4PP5C6+O/fDVqXnZ4g7vZBgcMXaPduXt4K7JKnn39vzdh5zcfffTjpJyCBRw0g0F85IYCAQwoKhpODDypU2GITOujQhY7dRGFEGHqoIUQh1vTgiEYdkFECr9l0wIsQYZbTiyo+tBlONNaYEGgtzpSjjgipxlpMMMKoUGY9EqmAikYe1OKQKTW5ZERJ0iTlVfs1116Wt20pIF/FfQmUea2RGd96ZWIn5k7GGTXcm2t2t52bah71HpdaKmdmd+nFWZ1v7rUGKJ14yunmni0FBAAh+QQBAQAKACwpACgALgBqAIPozGPsyGDAwMDStlZSfi1UXNbISEi4MjItMrgAAAAAAAAAAAAAAAAAAAAAAAAAAAAI/wAVCBxIsKDBgwMTIFzIsKHBBAoVRHRIsSJEgRcramQ4ceLGjwU9SgRJEiNBBCJLgjxwQIEAlTBjkmzpUqbNmw5bCtCJkyJNgS97Ogz6UyjCokCNLhRAFKnSp1CjSp1KtarVq1izat3KtavXr2DDih1LtqzZs2jTql3Ltq1SplvhapXr1ibToFfv0qWqd+9UvTWlGjDg8iVcvFAHBz48dTBirn6hDpgMNLLSyZgLW+4JoLPnw4+NegagAIDc0JxHl8a72SZpz6sJorZJQEFthK1p275ttTaB31h9/+Y9Vfju3sdtV73NG3jx5AKJP5UenfrNjNajDs9et7t3tXcLZ3M1PDsqeay5zVc2ioAh+fIqEbTHzVSxzfkK5C+tT/j+SYf2xSQfXvjtdx9iBSKUGUw8aYQZZTLBR9BonV01mgCkVdUZhqZlGKFDpnGIIU7w1caahBqhCBdwKAo1XHpGbReccVc5x910AzlHlY7KacUjSAEBACH5BAEBAAoALCkACAA2AJEAg+jMY+zIYMDAwNK2VlJ+LVRc1shISLgyMi0yuAAAAAAAAAAAAAAAAAAAAAAAAAAAAAj/ABUIHEiwoMGDCBMSLFBAocOHEAsyFJggQcSLGBdStJix48OGA0F6HEmypMmTKFOqXMmypcuXMGPKnEmzps2bOHPq3Mmzp8+fQIMKHUq0qNGjSJMSRBCUqQIETntCFTjVZ1WgV7EOPVBQgAClYMOKHUu2rNmzaNOqXcu2rdu3cOPKnUu3rt27ePPq3XvXgIGhfgH/5dtxwIChhg8HBcAYwOLGjn0yVtAYodeakyNb/kqTgALPBDwfvGwTtGifpk93JT0ztOvQq71yjulaYO2BsmW3Vv2ZYG4Fs1+CLng699fgLodbBn4ZOUvTy523rNj74XHpKF9DvI4dJ/fuNa8z1/cpHnhPzrNZ5ywvEHxM6epnknYfXjfh+/jrxidP/+b+/Jv1R5Nx1gk4knH0/afSbwka2FFzx5HXXoQO2ceSgxNa6JKCvgngF4cneTiYQl4FhiFGIoJ3mYkvlWiAihOatyF6Cc2WGExfQQWiAokZNuNTTIEH2WQw6ShkYwJo5tJUURnEWJIAJBkTkwlFCaWURTLVJEGepXdiRwdwtdlnXcYUJkSu7VhSmGI6pB1MbLaJEGywvXTmmQrVydtKeMp50Gl1ttQmnn+qtidKhCrgZ0KBwrnoTQEBACH5BAEBAAoALCkABQA2AIwAg+jMY+zIYMDAwNK2VlJ+LVRc1shISLgyMi0yuAAAAAAAAAAAAAAAAAAAAAAAAAAAAAj/ABUIHEiwoMGDCBMSTCCQocKHECM2LEAxgUOJGDMOrHhRo8eHDjt+HGnQIkWSKA+aLJCy5cCOIl3KnEmzps2bOHPq3Mmzp8+fQIMKHUq0qNGjSJMqXcq0qdOnUGdaZDp1adWoRy3GJKr1atGuXrlqVbAV6NSzWRsyLOtTQFQBbpXCjZt0Ll2jcBXkRbr3blG6e//e9Xs0MNacBgwwTbxY8WGjCBAwjTxZ8lLKlpFiVrp56YEDSj9DZMzzM+iHpHeaPp0wdU7RopHGZn1wwICerGMbtH1bNW3aAwEIBxBUd/DhxJEKVzB8afOjBAgIjI40unTp1a0rwG6Uuvbu3K93jCconij1gdi5B1W/fbp59efZVy/J1qPhiNaxh0V5vzDhx0H1h5eARNkll4H+6UUgUHn9N5RbEDooVIR1KSghg3Yt2NNcAnEoWEEX7gQhiH/pJZeCCYbYlocAtujiizDGKOOMNNZo44045qjjjjz26OOPQAYppECZHWUZZUYeWSRRSCbVpJNMAachTwEBACH5BAEBAAoALDEALwApADAAg+jMY+zIYMDAwNK2VlJ+LVRc1shISLgyMi0yuAAAAAAAAAAAAAAAAAAAAAAAAAAAAAj/ABUIHEiwoEGCBgwcXMiwYcGEDiNKHAhxosWLGDMOGJCxo8CNHD1iBEASgMiLJUmelKiy5EoFAgQwbPlSYEyGBBTkJJBz5c2GO3vWxKmT58ufC4MKFYnUYM+dR2UmLaozKkynBZd6vCmVoFatHblmzQp2a9cECcpaFcjTKMGmZrsyhBs2ptyDdDFyvTu04E++bwHrHZgXZmGLTQHbFWzW4GLGffdCfqgwrsWKF/9ORlg5s9i+CxdfnYgAQUbJpEvr7Spzc2nVmd+ObvjaNGK5UiGrhj3xbm7apnlLTPz74IEDoG06FoBc4PHIdm0yd/48ecHmx6tbd67gufbtyKs3D9/evTx18t2/j7e+Pj36gAAh+QQBAQAKACwqAAUANQBuAIPozGPsyGDAwMDStlZSfi1UXNbISEi4MjItMrgAAAAAAAAAAAAAAAAAAAAAAAAAAAAI/wAVCBxIsKDBgwgTDiwgkKHChxAjKmCYIEEBhxIzarxY8aLGjxI5WsQIsuRBkR5NqiyIkuTKlzBjypxJs6bNmzhz6tzJs6fPn0CDCh1KtKjRo0iHGjCQVODSpgqeQoU6YEDTqlaRAtgKQCvXrke3KuDalKxRAgQEoj26VkFatm3fFkW7Vi5Rum/tCk0rV29QvgT9/g08VIAAtXYF7zSMUG7Fnowb000w9WfkpIYPY868mbNRxp6Lgsas4PDlz6U1ow4tOrVqoppNHzUtuzXB10Jx4waqezfk07BZVx5OvLjx48iTCwT+2Xdw5YWd52Yenfp067xpIwUt3Sf23AO/Q1deLp5nbOFBtZfXqb306vDdF5+Oz77geuglpSbVj5Q//p4IINBUgAImReCAASJY4FECJojUAZUdIGFTEkKYVIUWGoVhhkVNOOFREIbIoVAfCjSihicCFRAAIfkEAQEACgAsKQAOAEsAkQCD6Mxj7MhgwMDA0rZWUn4tVFzWyEhIuDIyLTK4AAAAAAAAAAAAAAAAAAAAAAAAAAAACP8AFQgcSLCgwYMIEypcSDCAQIcMI0qcODFAgosBIFLcyJEjRo0dQ4o8CBHkyJMiM15EyXKkygQtY3IEaVKmzZs4c+rcybOnz59AgwodSrSo0aNIkypd2hPmgAFMO658GnXjRZgAslaVeBWr1q0MV8IUCADsxLEKvppFuFLBSgIE1iZsqyBuXbls396Fi9fg1b1988K0azcwQZgJChc2LHDsYsYMH0MuKGBywsoCBWC2nFmzZs6gQ4seTbq06dOoU6tezbq169ewY8ueTbu27du4c+vezbu379/AgwsfTry48ZCfSScfvfz4z+agPSuHzlk6cwMGmCvArp07c+qWBSDsQEB6PILNnM2fF60e/eTxCsaDDwwfvnvDBw4QnI9Xv8D8ofmXn3+cCTggaPoBCGCBCixI4GQJDrQghBM2yCBBFTqn4YYcdujhh2bxl5SI+93HFImGoSiQd6NhZ6JS1inkmYpCzfhiZ08NcGNRmrm4owA5UhVVj9ndWFlZaVX1GXdGqqVkZwq8KIBWVJ44kHkKIVllVeqRd5BdMUbVpZeXZbZVe2QeVFlcOxIl35sy1iVZUueJd16aX97VZlD6bcbfmgIRsGdQnwG445xRDcgfXwMhetSADy7EKFMKRkrhf6IRmCFjFVpaoKd9BQQAIfkEAQMACgAsKQAdADoAkQCD6Mxj7MhgwMDA0rZWUn4tVFzWyEhIuDIyLTK4AAAAAAAAAAAAAAAAAAAAAAAAAAAACP8AFQgcSLCgwYMIByZIkLChw4cQFSyMSLGiw4kWM2rcyDHjQoYdQyb8KLKkwY8gTWo0YKAgSpUbWbpkmBJmRZkEJ2K0WXInz4cIgs4UWPNnwqBIc+osatQg0qQSSTYFquApUZpMpxZEUJWrUJA+tTrtKhDBzqxiEx4gKEBAWrVrBbZ9C/GAXboU7d7FW3ftXr4N4/4FfPBvXMKFCQ5GPHAx48eQI0ueTLmy5cuYM2vezLmz58+gQ4seTbq06dOoU6u2iPNya8uvV0+Fapk2ZauVn3LNvVsoZt+TDVfW25iyXsHG/SKPLFzB4cfPDz8nPFg65OnRoUe3rvm4yrmYwQP/jl1QPF/yk9EPNE+5rVvEAwYcdP+ecHz55d0zBsAfAFu37OHVH3/rAVgfXwT2J9eBRoVVUIJsFdggWgIRoICFBFiowHv6MZZhhnItGOBbH4K44YYGIgaiiSmeCJiJF1oIoIR8wXghigcyKBaGBGXI4IhT8dhjZBhqWKGRHlpWomxMNunkk1BGaRCQkVEJmZVSdtRhWliK2KVJXdL3ZUlh6qcjY3Ol+daW8y3oolZiInSmWGLO+d+aZjrEZlNpztgQfXS6aSeKhE416Hwc0hUmjXBiad6hYO75J6Qi9WkZeJRGpF5F9Y350KYRPWoSqBl5atp9l90XX2UDEkjZgAr4KDdZgv7JKpmsEEqGpGY2UvYhZktWtuKuRGpILGRG9vqYjcfq2uxDAQEAIfkEAQEACgAsOgBUAC0AKgCD6Mxj7MhgwMDA0rZWUn4tVFzWyEhIuDIyLTK4AAAAAAAAAAAAAAAAAAAAAAAAAAAACP8AFQgcKFCAAIIIEypcyJCgwYYQIzZ8KLGixYsYFRowoMDgwYwgFWzsSDEkxo0eP5rEmFLlyooIOhZ0+RIigpgza8JEoJKmzoU3BeCU+bNhUJ4FixrlyfOjT5MjN3KceeAA0achoya0mrRrTa0IuRId+3PkwKpcXWLFOGCAQLcKrAqomtPryrZu4dKNuzClSQCAAQsUu1epwMCCC/PVWVKB4IWKVzZ+bDhh48oWCRDArLCk5s2cHT78DDr0TIOaFaQ2TRK1wNWhHwqAXTrkZYSya8MGedshWda4PQIXLXx4zt6cSyLXmSDBwMZrazZPqjb6z4M0rdfEXp21dqV+JQYBBAAh+QQBAQAKACwsAFgAOwAoAIPozGPsyGDAwMDStlZSfi1UXNbISEi4MjItMrgAAAAAAAAAAAAAAAAAAAAAAAAAAAAI/wAVCBxIUIEBAwQFCCjIsKHDhxAZHky4MKLFixgnDlSIsaPHjyBDRkRAcmNFkSgbklwpkGPKlwNXslTgEuZLmQoQtFx40ibIkkB30vQpUmdOnUY59iRKk2dNggcOQHzKVOlDqQKjUmTK0KpDrFGxNl3K1WRDsWGxKqRatSJZBWClalX61ufaoQXRgm3asqzJu3kH6j3J1u7apXoL9qwLUqPQs1/F8rXpeHLWsH4tVs5MtDBniwMG/P38MbTow6Q9AlgNgG5qjKxXP34NUTbrjbQj2l7MODcBBb9zgyRAPLhwi8WJH7+oXPlyiM6BG39uOTpw6mavT7eOXXvB6dh/WxHnTh1894HJz8NMkED9Q/YBAQAh+QQBAQAKACwsAAUAOwB7AIPozGPsyGDAwMDStlZSfi1UXNbISEi4MjItMrgAAAAAAAAAAAAAAAAAAAAAAAAAAAAI/wAVCBxIsKDBgwgVJFgoMEHChxAjQlxYoKLEixgjOlRgMaPHjwMZEnTYEaRJgxVLKtx4suVIgQUUhnRJs6HImjhz6tzJs6fPn0CDCh1KtKjRo0iTKl3KtKnTp1CjSp1KtarVq1izat3KtavXr2DDih1LtqzZs2jTql3Ltq3bt3Djyp1Lt67du3jz6t3Lt+9DAwauAhYc2C9IBAgIChAQFbFixlAdD1zcOHFiqo4vL4bsNLOCzZShHjgAOnTT0QJBf3Y6+sBnxpQ5L21NOjXs065dy36KuqBppq4H6v6ttDfj4cSZChgde/dSzqGdK4U+WfpR6LKt0/w9+KD15Di5F3C2DV6oeMMXfw8YEHXzwPXsn6pWAKA+APmq7ddv2lzAfvv83Ubfffc5ddtiBCiQIAEJGuieggo2qJxqCzLo4GsQMijhdNQJtGCABlm4IVICKmjaiNet5qGKEE6HIYShWYjUQruhSKIAImloI1bl4RcQACH5BAEBAAoALCkACABCAHYAg+jMY+zIYMDAwNK2VlJ+LVRc1shISLgyMi0yuAAAAAAAAAAAAAAAAAAAAAAAAAAAAAj/ABUIHEiwoMGDCBMiTKCwocOHEAsUgEixosWBEy9q3Mixo8ePIEOKHEmypMmTKFOqXMmypcuXMGPKnEmzps2bOHPq3Mmzp8+fQIMKHUq0qNGjSJMqXcq0qdOnUKNKnUq1qtWrWLNq3cq1q9evYMOKHUu2rNmUBgwcTbtW7VmUCBAYjSuXKN26AgQEvSswr022B+MqEKzAb03ABgUTxomY4IEDBg33hCzwcV+9NAcMQEj5MWXJMTVvPtjZc2G9mF8CWA2AswLLlv2mbsl6tWvLr08XhmmbNenclT/PVm3boOmBB0C7JEBAIPPfjnXHfK6gOcS8ylkyt269oezh2rdXa39oGPzK7dwdps6usnn37ghBm0/pniB87/Pb2x9K3TlSAgkwBBRo6P3E3oD5vQXSgQYy2BN2Ce4EYYQ4fUfhTbIVhZp0Q6F2IYanfWiThyLShNmGQnm4W1DDlShTiywW5OBL2blI44nYORQQACH5BAEBAAoALCkAHgBCAEwAg+jMY+zIYMDAwNK2VlJ+LVRc1shISLgyMi0yuAAAAAAAAAAAAAAAAAAAAAAAAAAAAAj/ABUIHEiwoMGDCgwYQMiwocOHEBMujEixokWJFzNq3Mix40EECDyKjAgy5MiTDEsqSJAApcuBKlm+fBmz5cyTIUHefHlgIEubO0UeGPoTaFCOQw8UNXo0Y1KlP5tufAp1JVOpEYcqIGrzKtaHPcP2HCjgK0WtBMuaRapAgNq1Gd26hatx7ly6FtXexRtx71u+D//uBdxwMOHDiBMrXsy4sePHkCNLJqxwMsHKlgVizsyZ4IABnT+DzgygNADSpk9LLq3A9GTWqicTUDCbwGzLtW9Lzq07su3ftn0Hpz38cXGBvRnXLpgcosmmyzvqPJrb43SXMpGjfI4yAXCIhlMiSA5PliB3vuTbdv6rOD378e4Zy30vkD76+Qjt47VLXj9guQf5B9dd/S1GoGUAqicZfgLCd2BkZb3VIGERpjWZYBdiuF56j80XEAAh+QQBAQAKACw4AAUALgBRAIPozGPsyGDAwMDStlZSfi1UXNbISEi4MjItMrgAAAAAAAAAAAAAAAAAAAAAAAAAAAAI/wAVCBxIsKDBgwULEFSIsKHDhwITRIRIsWJEiRYzUkyAUaNHgxwLFOD4saSCkCM7mtSIUeXKlzBjypxJs6bNmzhz6tzJs6fPn0CDCh1KtKhQkkORHnVp9KdSoByZ9oya9KlNAwYOUs2JFeRJqTO7FgTrcytOBAi0WqWJNi1Is2zbvoU7s61bgiTXQhSLEK0CvwUFKBAsQHBGvgf9Ah5YmKBhi4gLHjhQsfFMygIn0xwwwCHmyZhjcu7c8DPomABSA/CsQLPml6pTs34d2qRs1aVbD3wNEzfC07tfEiAgcHhugrxLGldAHOjw5s15Pn/O3Cd15sSj69RenTtO7tCFhk0Putz7T+16YVouOD39y/VB4TcFKv9n4cf07wu9X19nY/32EbbfYIPh5xNhBvKEYII78QeggpY92KCBDNokoGM9XUhfgRk+ViFODmoUEAAh+QQBAwAKACwpAAUASwBgAIPozGPsyGDAwMDStlZSfi1UXNbISEi4MjItMrgAAAAAAAAAAAAAAAAAAAAAAAAAAAAI/wAVCBxIsKDBgwgTDkxAkKHChxAjSkxYYKLFixgPFqioIIHDjCBDatwosqTJgRs9kjzJ8mLKBCtbyozIkePMmzhz6tzJs6fPn0CDClXocejNogoCBDDa0qFSpic/doRKtarVq1izat3KtatXnQYMfLUYduzEsmbTthzAVu1DtgPcJgRAF4BchHXt3jVol+5WpBH9+tUKGCIBAl4LP0Ss4PBego4PMxaK1qAAARclTwZameBlzBMjb/7ZWeBn0BIdN8Z62uJk1QUVt0SAoOBlBbdTbx5tGvVM2rYx58YI27NvmcAHDr8LvDZu5cdLLv9d2znozy2x52xuuvd0kK13HsQ40P32d4yno7cc7xn3dZPmz5scT175894stc+kX9+9b/UW5SafSOyx151x0r13k4H94aQdgAQOZOBM6Qm3X4MNZieghTlNKNNxHN4F4oGP2XdfifidiKKJKZZY4YowxijjjDTWaOONOOaoI3wQitijXAPuOFZYP6YlAJFFfnUZkiu2lmRXwyHwJFeYOefcY1XSpuWKWlaHIm0CcFdibWFKeeVd5MUH42XjTQklfUGOxSacKxao4l4Mwtifh2hiOCOfbgUEACH5BAEDAAoALCkAHQA6AGEAg+jMY+zIYMDAwNK2VlJ+LVRc1shISLgyMi0yuAAAAAAAAAAAAAAAAAAAAAAAAAAAAAj/ABUIHEiwoMGDCAcmSJCwocOHEBUsjEixosOJFjNq3MjR4kKGHUMm/CiyZMGPIE1yNGBAIUmVK1sKZIgRpkaWM2mmtMmxJs+MCILOzPmzYtCjE1+KFCBA49GjOX1yZOpUwVOJOktSBWoVQVeMO4s29CrUakqpGreGFHCAYNO1bzUeaGtQ7dS4GefS5UkVb0S9e232zdt27s/BFukaLmoX4mIFgVU2/kvwsUmmfv9GFoxZ7Ma+mT1D3BpatMO4k00ntFta9enWrmPLnk27tu3buHPr3s27t+/fwIMLH068uPHjyBGm3r1cd/OGOINHF9vZ4vTDmGHTzv68IFTqnbUTpvyOXQHih1cZCzw/Nj3fjWXLgnfqFbz4gY83w8yuea9+rU11h59eAv231Fv3QVaYYocNJGB+BfKFl3iB+edZd5ZZiFtkFW5YoYbCAZbciARd55uJvaFIom0DDCBciy4CB8CMAMhIY429zagAjbKhRZCOOPYYVkEEKFAkAUX+hiSSSi6ZZG9MMgnlk1LuVqWRvB1J0JW3abmlbkc+aaSYtpEJ5pINBQQAIfkEAQEACgAsNQBUAC8AKgCD6Mxj7MhgwMDA0rZWUn4tVFzWyEhIuDIyLTK4AAAAAAAAAAAAAAAAAAAAAAAAAAAACP8AFQgcSHCgAAEFEypcyLDhwYYQI0Z8KLGixYsYFRowUPAgwowZN3akGJJjRZEGPYJUgDKjR5IYW0ZEgCClQJgrIdKsmRCnxAFAJe7kqYDkR4tAk87cmfLoUYkAokptSFNB1Zsqi14EoEAqV4ZVrxZFSPEpRK5Ru35NeOBAT6c3LaKdu9CtwLZxDeoFSYCAQrtt3cKEa7GvQL8JEhQEHNjsU7MN+/pVQCDxYgV42w4mHFHy5MmX8WKemHWhYcOU2Y6+azfn4cOf2Yq+6xr2QAIPQdMmODun7r4IddeOrJui8OEYjyMnDRv1coiln1d8Kd3iS8jV347F7tonwYfca3so10s2fPbv0c8rvK7eYfn2C42azz4YfketNu3Hdaxf6+b+851HXUMBAQAh+QQBAQAKACwwAAUAPQBpAIPozGPsyGDAwMDStlZSfi1UXNbISEi4MjItMrgAAAAAAAAAAAAAAAAAAAAAAAAAAAAI/wAVCBxIsKDBgwgLFiC4MKHDhxAjEkwgsaLFixgzatzIsWICih1DQgQpsqTBhiZTqlzJsqXLlzBjypxJs6bNmzhz6tzJs6fPn0CDCh1KtKjRoxwNGECqlKmBj0ihFkWAQOpQqgiOUlVgVWhWrl2Bfv0YtufXqmSFHuAKtm3QA3ClkvwJdy1BAW/hKsA7tO5aAXzzDgTcV8EBvIcD+9S71zDhoYD1Kgaq+HFQy0gza97MubPnz6BDix5NurTp06hzNj262mjr1DUHDDgqe3ZRALgB3M6tmyhuBbmPBh9KgIDA4kSRKzCeXDlzoMWjG3/uVmf049MHlr07eSX15eAlYqcOOf478+8EW4/vuL7g+YSvVbYn6Byh+u400RsEjF8jf4vSEYQVf/1hRGCBEWGV1X8iHYigQwoO9mBFeBGokYJ8zWfgXhVOaNBWVAnwlUkdcojRWVkt6GFGGh5kl0AZtmhghiZe9KKFJTHIYEWMESYjhTpmpFdiMOZYYmMWMXaYhA3CSGOSfyFZJHuBVZkkjIzVyFFlT0aUpWHy9bdiQV/CNOZOOB4UEAAh+QQBAQAKACw5ACIAPgA8AIPozGPsyGDAwMDStlZSfi1UXNbISEi4MjItMrgAAAAAAAAAAAAAAAAAAAAAAAAAAAAI/wAVCBxIkGCCBAUTKlzIsKFDgwgfSpxIseDBihgzatzI0eHFjiAlHowYsuTCkSZTJkSpsqUCli5NIvwYsyTJmilh4gQpoOfOkj19/uQYVOhQjT6NHsUoQEFTpUslKm0adSPUqlhDGjCQNePWrhi/gh1bEwECshLNnkXbUO1atgvdZhXr0KwCu1jptj2Lt6rehQcOwHUoWGBgrAMGSCwcuPDSxIofMm68FIBlAIsVHD489LLlzJwd7/x8WbLmgZyPliac+vRPAgQEwjZNsHXN2QpiDy4oALZu3btz+54NfLdv2bGLw1WenCHNqASoyp6u8PnRoAR/Dy6aXTvaotILKjfvmvQqctxjsQcfKNQ83PbrCaoPvx28U/n0ybd/yj5/Vvr8BQegQP7tRlWB9REYn0IIrscdQwEBACH5BAEBAAoALDAABQBNAHwAg+jMY+zIYMDAwNK2VlJ+LVRc1shISLgyMi0yuAAAAAAAAAAAAAAAAAAAAAAAAAAAAAj/ABUIHEiwoMGDCAsmWCgwQcKHECNKnNgwQYGLFDNq3GjQoQKMHEOKjMhwpMmTBC+CRMkypMcCCjy2nDlxoUyaOHPq3Mmzp8+fQIMKHUq0qNGjSJMqXcq0qdOnUKNKnUq1qtWrWLNq3cq1q9evYMOKHUu2rNmzaNOqXZvTgIGybuG+Zet1wICRAgQwtXtXZN6lAAIDwKs3qeDAYhEL9lsYMGKOeRsfJUBAIGXIkZVSrlwZ89+hny1vVtA549/QQVFfHq3xtGSgoS9bJm36NdLStHFHbIz6Z2zcnXU/LJw5deyCwSkSL+4zcmPZomdL1Ovat3OJpUsepE7cugLmDzcT2rhZkPrA3jzBmwRvG+dn9H7Lt6f5Xmzx+RLjHnV+WqR+o/eZx9F/Rb0m4Hb4KWWgQPPBJxACCDjV3UYQSjhhRhVGlSBCFUYI1XUSdTiWiGQdcMBYJpaYIoomnhhWiiuCtaKLMjIYY1cr5kVjWALcSJdW6nnFH49DgnXdhlVVhyRVy3331ZJdOchVkEJSuVV1RDJo33lQSoVal1ZJ+eNUBIZVJlhnjnkVhB6GxWaGX70Jp1dvKtBmVx1GeCdXHpKIo1o+ftWiioFyBeOOXs0oFo2FZnUjojJCmlVAACH5BAEBAAoALCIABQBbAIoAg+jMY+zIYMDAwNK2VlJ+LVRc1shISLgyMi0yuAAAAAAAAAAAAAAAAAAAAAAAAAAAAAj/ABUIHEiwoMGDCBMqVFCgwMKHECNKnHjQYYIEDClq3MjxIUaMDjuKHKkRI8mTKCNevJiypcuBIUG+nHmyIc2bOHPq3Mmzp8+fQIMKHUq0qNGjSJMqXcq0qdOnUKNKnUq1qtWrWLNq3cpVpAEDXTV+DUtxLNmzNwcMQBtR7Vq2CwHIBQBX4Vy5dQ/inZvX4N6+BwkoEExAMOCChA0fFphY8eLGixlLdgw48eDIlCkPFCDgbGaEnMlm1iwwNNeLpPMWLizRdOTSriNzjn14Nm3AoWe/3nw7r+nedXV3fm1bwfDFuYGzdd35eF/nzWtDL4274HDncGP/3k3wuPLsxbmL4x9PHuV339hlpy+PfL308eeDR+9rFrZxwPWNz8+b3/7u+F0hICBs7p0l4IH6AZjVgQcm1xeDCiCwXV0DVuhdgVshIJCF3cF1wAEKKVgViAJ9+BqJH5J4mIopqtgXiiCaCBiLKK44EI0v3uiii2zxqGOPKbIn5JBEFmnkkUhuJeJZS5LVZJJV6fZfeO1RKV1u6ul3H3L2YejkkE9yJeWUYWbF2VdeonWmAWkyqQCabXalHXcN7saghpHdiediEO4JWIUa+vnghoEu5qN4Mu4WJHctKhrjoXnJCGldOBq643iJYhUQACH5BAEDAAoALCIADgBSAIMAg+jMY+zIYMDAwNK2VlJ+LVRc1shISLgyMi0yuAAAAAAAAAAAAAAAAAAAAAAAAAAAAAj/ABUIHEiwoMGDCBMqXLgwQQKGECNKnJjwYYAACh5S3Mixo0CMGDV6HEkSIcaSKFMWvHhRpUuSGkO+nLnRIc2bOHPq3Mmzp8+fQIMKHUq0qNGjCw0YQEpTKdOZTp9KnUpwgFWBNql2tDoAq0itEwGIBeAV7MaxZM12JCt2YFa1DNu29foVLkICBAw6fGv3YF4FeN3urdtXYGC8f23uLZwQcV4BAhREZnw3b+DImCdTJhgY8MDMmwv+BfxYMuTQAzsblmxaM2rOBCZjfo0QtGvaAm/fxq0bN0Hdu0NDDs57uO/jyJMrX868ufPn0KNLn069uvXr2LNr3869u/fv4MGew3Y+vnn58H2NMx9+/jj79r7Zs05+2ilx1JPt08+/VLlm+LzlhgAC/g00IAL3bTbZgQgipxmDCTK2IIEDAkjZgxQSGKFdkx1wwG8baiWfQB+SWGJyJXp4InIpqqjchx4qECOKMqb4oowDzXiciznSSJCO6AUp5JBEFmnkkUgmqeSSalnoXohM9hRVc0pBeeGI+3223INbKkCgl1sOaJ6YZCr3ZZks5uZkgPMV+KGVhUUG5I1vukkinHatuByQer7YJ1UBAQAh+QQBAQAKACwpAB0APAB0AIPozGPsyGDAwMDStlZSfi1UXNbISEi4MjItMrgAAAAAAAAAAAAAAAAAAAAAAAAAAAAI/wAVCBxIsKDBgwgTKlSQIMHChxAjImwosaJFhRQvatzIsWPFhg49ikwIcqTJgiBDnixowMDGlCsNtnzJUGVMgTMvUsx40yPPngIRCNUY8udKoUgt7jR6EmnSiwKiCuiJQIFTnVOjUrVadejHqQrAxuxa1arSgVqBEjwgMa1AsTEPsPXoNq5ctR7l3sXL8e5evhfn/gUs8e9cwoXXHkb8cDDjx5AjS55MubLly5gza97MubPnz6BDix5NurTp06hTq17NujXlnJ9he5btGvJTz7f51n14lfBuhU7LAv6d0KvXz8fxEkdoePjyg3oHLr4pFe5CvYKVSy3Mdu/0k1qfF8RsruC7yfDWEy4+bJ5u+uvrpVNH+97g9PgrwW5vvJ59TP37dYTdSFkVyJmBYUlGG1oJvlUfXgs6CNeDakXYIH219TTAAKFtyOFnAIQIAIgijshZiAqIGBlTBKFo4oo2GUSAAjMSMKNnNtqIY443cqajjj72CKRmQ9K4WY0EFWkZkklmVmOPNEJZmZRO5uheaOJdlmWG2lFYWXVeSgZmmJFVd2Fm6J2JGYBqWkYmmm+KuSVlZnaWpp36eSbWnI/VFaeclAUEACH5BAEBAAoALE4AcgADAAIAg+jMY+zIYMDAwNK2VlJ+LVRc1shISLgyMi0yuAAAAAAAAAAAAAAAAAAAAAAAAAAAAAgIABMoECBQQEAAIfkEAQEACgAsNQBUAC4AKgCD6Mxj7MhgwMDA0rZWUn4tVFzWyEhIuDIyLTK4AAAAAAAAAAAAAAAAAAAAAAAAAAAACP8AFQgcSHCgAAEFEypcyJDhwYYQI0J8KLGixYsYIx5EmLFjwY0eQyrYyFEkRpIlTTI0YIAgRYoqF7JcCDPizIs3BcJMCTGnR5A6K/qUiACBS6A8Yw4senQkx6QLBwy4yFRnyacVpU6tyNRoyqsSAYgFwNUogppgI44VS9Qsz68Q2Y61eOAA2rQM5dI9UJGkQgIKABMADLEuX6WCCTc0fNhkYsI1B9ZVMFlgggQeB2u2qrBy48sdH0OG2rhySMKCFzemLFJxas4MTYceqNgq1JiuazuNjLghSsSbHSIEGpP3x+FKDd42ONJpcot+n2uMLt338OXVncPOnhAt9+7NlX8Odxme+fjmd8+XV28be0AAIfkEAQEACgAsLgAIADEAawCD6Mxj7MhgwMDA0rZWUn4tVFzWyEhIuDIyLTK4AAAAAAAAAAAAAAAAAAAAAAAAAAAACP8AFQgcSLCgwYMIERYokLChw4cEFwpMkACixYsCGSqgiLFjQ40ZPYocSbKkyZMoU6pcybKly5cwY8qcSbOmzZs4c+rcybOnz59AgwodSrSo0aNIkypdyrSp06dQo0qdSrWq1atYs2rdyrWr169gw4rVasCAz7JnzY59OGCAz7ZueQKYC0Au3bo55yqgq1MvXp0EFAQmEBilAAEdBxc+eRij4sUKGouUbJGwZcICKce0LJBzZMQQ0Q7U7BAzQcgWRWcG/XBwwcWkEZatuLqy4ISHWTfkWFv3QcW4cztEgIBgY98GUR/MHXsg8eKjESMX7Lnh8eYKnkM3Ph3j8YbauRtgjvz5IPHs24WnlD79/PnV2DuyR37ggMHr0Ucypz+wfm3y/8n3WWz2KVBfgazFZxFo0hlU4IEHaNbdgqMBSJB9/vknHkkJIoThgysl2B2G/RU43kMHXmgScxaZKJCGNgUEACH5BAEBAAoALCoABQA1AHIAg+jMY+zIYMDAwNK2VlJ+LVRc1shISLgyMi0yuAAAAAAAAAAAAAAAAAAAAAAAAAAAAAj/ABUIHEiwoMGDCBMOTCCQocKHECMqSFCgYgKHEjNqFGgR48aPCh16BEmy4MWKJVMaPFlApcuGBEe+nEmzps2bOHPq3Mmzp8+fQIMKHUq0qNGjSJMqXcq0qdOnUKNKnUoVqEyjF2EizTrxalCMXr+aPOoRQVihBw4oEFAVqNq1bYOqFTAX6VuBbJHmvVuUL96jAvb6jUu4sOHDiBMrXsy4sePHkCNLnqzQgAGmljFfpvxywICDgYd6/lwwtFAAqAGUzhs0NWqkr1Ovbq1atcHArHsSULCbwG6CuHPr5v17YHDhOnv7Bs4W90/f0JevbQ4UukDrcJsjh8g1o/SBxbNvjn/YPWLvgsW1j695HuFx0ziVuzftvCR8g+FBC18f8T7x7+7BBVxK9W1EXU3+9TedS5kt+BF/G2VWIETB1WRZhUlhaBQCxkHIEwIcKoBAgkCBaGKIG5ooIok+gSgihyN6mFOILsYoo013aeegUQfQx6MCPXbYF2hEpUVXjjfi+NZgQ92V1lFPDsRkX1P6FBAAIfkEAQEACgAsJwAkACYAPgCD6Mxj7MhgwMDA0rZWUn4tVFzWyEhIuDIyLTK4AAAAAAAAAAAAAAAAAAAAAAAAAAAACP8AFQgcSLCgwYMGEyRAyLAhQ4UOI0qEKLGixYsWKWLEqHFjxoUeL0IEGTLiyJITF5JE6VCAAJYtX8Js6FLmTIQ1bd4k6FJBz50Ff+oE6nPgT6JHixI1mHQpUAMGnBaEKpUg1apYDSLYinWrV6levzoNqwDBWLNczS5Vm3bpgQNZFcAV+Fbq3LdzYV6VOxBvXpR778KtqzcqX7p3ieZd/LfkgAGMCTYO+XgyYpZ+AQDAqrmzVM0KPBsdWhL05qCkQxJQsJrA6tFAW792Knu2wKYlXet2PTo1Rt0Cgd+uyZI3wdk5fUtsXfB1T+IHOx5kfvB5Q+nNWdvmWRR3xe04fSojny68pfjxLJN7Ty90PeyLTdG7r67UKNL6Tl/Oh4keZc6LAQEAIfkEAQEACgAsIgAFAD0AegCD6Mxj7MhgwMDA0rZWUn4tVFzWyEhIuDIyLTK4AAAAAAAAAAAAAAAAAAAAAAAAAAAACP8AFQgcSLCgwYMIEypUUEBgw4UQI0os2DBBggIPJ2rcSLGARYwcQ3LE+DGjyJMLSV40ibKlQZUgXcqcSbOmzZs4c+rcybOnz59AgwodSrSo0aNIkypdyrSp06dQo0qdSrWq1atYs2rdyrWr169gw4odS7as2aMCBFBNu1btWaFp3UKNy/Yp3bpO6SqQy5StX7sC/zbFC9SAgYlyCe80jDiwYp2MEeJNHDep2sN7He/lu3PAAMkKDlMO/NPz54OMEw98jBOAawAHK2te7fO1a4MIEHBevfvm7dcE0+Zm/fM3wuHEexJQsJzA8uDDdR917ryggOjTqT9fnVuB9KLVqxusFHDgQG+f4plvF1he9k6LBtMzJ1jevF6d8Ak217+9/oHN5+m0n37smVcebUA1t5547SnwH2k/CbDeQf+pdeBP2gXooH3sATbQhZa599aIJJZo4okopshbWyyqmJOIed0Xo4yDVaZhUWyl5qGOgw0UmVTJKXVdd1HlZiRURh75VJLXLYmAd7o96ZR03UnJ1IMrRgUiVPVN5Z+W/23Z1IVYOoWlmEptWSaXawYVEAAh+QQBAQAKACwiAAUAOwCMAIPozGPsyGDAwMDStlZSfi1UXNbISEi4MjItMrgAAAAAAAAAAAAAAAAAAAAAAAAAAAAI/wAVCBxIsKDBgwgTDixQQKHDhxAVNkyQQEHDiBgzIqxY8aLGjxkrGuzoEaTJghQpElR5smXBix0HinRJ02LJmjhz6tzJs6fPn0CDCh1KtKjRo0iTKl3KtKnTp1CjSp1KtarVq1izat3KtavXr2DDih1LtqzZs2jTql3Ltq3btwYMXI07V+7boAMGXM2rtyqAvwD8Ag5sUIAApX8FAD5oGDEAxYcZR0ZKQAEBAQQqU72cefLAxko5dy7s+ahozQVBU/ZcWkHj1kIrVz7c+rVpgYZpk3Z923Vk2L6Nam7cubRqoIdFDmdNMPdQzJmH8/48OTfwoLqb46Z9/Sf35r9/I7ztPj24UOsOj5NnevwuSLpW4VeV754nAgRW7+Onqn//1P784XdfgAoMKNUBB1yVoEAITrUgggtG9SCEByrQYIMSWvhghRFi+BSFA0XolIgCeDhVe1KhWB9OzlFl3XpHvQijUejNSNRr2UEVXnlO2diUik+16KKQUeE4JG4uUpcic1TFBWRT9E0V5Yo46VdVf/5BhWWWTwHIZVMDhinVfmJCJSJWJh6YpoQgqqkhVRie+WGIcjJlYp1m4hlUQAA7\"/>"
      ],
      "text/plain": [
       "<IPython.core.display.HTML object>"
      ]
     },
     "execution_count": 250,
     "metadata": {},
     "output_type": "execute_result"
    }
   ],
   "source": [
    "import tensorflow_docs.vis.embed as embed\n",
    "embed.embed_file(image_file)"
   ]
  },
  {
   "cell_type": "code",
   "execution_count": null,
   "id": "6c162c86",
   "metadata": {},
   "outputs": [],
   "source": []
  }
 ],
 "metadata": {
  "kernelspec": {
   "display_name": "Python 3 (ipykernel)",
   "language": "python",
   "name": "python3"
  },
  "language_info": {
   "codemirror_mode": {
    "name": "ipython",
    "version": 3
   },
   "file_extension": ".py",
   "mimetype": "text/x-python",
   "name": "python",
   "nbconvert_exporter": "python",
   "pygments_lexer": "ipython3",
   "version": "3.10.12"
  }
 },
 "nbformat": 4,
 "nbformat_minor": 5
}
